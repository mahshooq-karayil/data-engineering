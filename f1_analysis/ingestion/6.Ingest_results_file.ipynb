{
 "cells": [
  {
   "cell_type": "markdown",
   "metadata": {
    "application/vnd.databricks.v1+cell": {
     "cellMetadata": {
      "byteLimit": 2048000,
      "rowLimit": 10000
     },
     "inputWidgets": {},
     "nuid": "34bd5412-e868-4b3b-baf0-11755416908d",
     "showTitle": false,
     "title": ""
    }
   },
   "source": [
    "###Ingest results.json file"
   ]
  },
  {
   "cell_type": "code",
   "execution_count": 0,
   "metadata": {
    "application/vnd.databricks.v1+cell": {
     "cellMetadata": {
      "byteLimit": 2048000,
      "rowLimit": 10000
     },
     "inputWidgets": {},
     "nuid": "986c60c0-ebe4-4316-b9e0-f135fee1e39e",
     "showTitle": false,
     "title": ""
    }
   },
   "outputs": [],
   "source": [
    "dbutils.widgets.text('p_data_source','')\n",
    "v_data_source = dbutils.widgets.get('p_data_source')"
   ]
  },
  {
   "cell_type": "code",
   "execution_count": 0,
   "metadata": {
    "application/vnd.databricks.v1+cell": {
     "cellMetadata": {
      "byteLimit": 2048000,
      "rowLimit": 10000
     },
     "inputWidgets": {},
     "nuid": "9c2320af-5894-4a57-b5c7-3fdfa0e33c18",
     "showTitle": false,
     "title": ""
    }
   },
   "outputs": [],
   "source": [
    "%run \"../includes/configuration\""
   ]
  },
  {
   "cell_type": "code",
   "execution_count": 0,
   "metadata": {
    "application/vnd.databricks.v1+cell": {
     "cellMetadata": {
      "byteLimit": 2048000,
      "rowLimit": 10000
     },
     "inputWidgets": {},
     "nuid": "98971c6a-3f63-4033-a973-4341a64907fc",
     "showTitle": false,
     "title": ""
    }
   },
   "outputs": [],
   "source": [
    "%run \"../includes/common_functions\""
   ]
  },
  {
   "cell_type": "markdown",
   "metadata": {
    "application/vnd.databricks.v1+cell": {
     "cellMetadata": {
      "byteLimit": 2048000,
      "rowLimit": 10000
     },
     "inputWidgets": {},
     "nuid": "ac0bca63-1287-4b6a-90df-c0092e8b3c43",
     "showTitle": false,
     "title": ""
    }
   },
   "source": [
    "#####Step 1 - Read the json file using spark datafram reader API"
   ]
  },
  {
   "cell_type": "code",
   "execution_count": 0,
   "metadata": {
    "application/vnd.databricks.v1+cell": {
     "cellMetadata": {
      "byteLimit": 2048000,
      "rowLimit": 10000
     },
     "inputWidgets": {},
     "nuid": "6a7914bd-1079-47b2-938a-d9101b8943ae",
     "showTitle": false,
     "title": ""
    }
   },
   "outputs": [],
   "source": [
    "from pyspark.sql.types import StructType,StructField,IntegerType,FloatType,StringType"
   ]
  },
  {
   "cell_type": "code",
   "execution_count": 0,
   "metadata": {
    "application/vnd.databricks.v1+cell": {
     "cellMetadata": {
      "byteLimit": 2048000,
      "rowLimit": 10000
     },
     "inputWidgets": {},
     "nuid": "ce66ec63-9bbe-4e45-823d-d362128520b1",
     "showTitle": false,
     "title": ""
    }
   },
   "outputs": [],
   "source": [
    "results_schema = StructType(fields = [StructField('resultId',IntegerType(),False),\n",
    "                                      StructField('raceId',IntegerType(),True),\n",
    "                                      StructField('driverId',IntegerType(),True),\n",
    "                                      StructField('constructorId',IntegerType(),True),\n",
    "                                      StructField('number',IntegerType(),True),\n",
    "                                      StructField('grid',IntegerType(),True),\n",
    "                                      StructField('position',IntegerType(),True),\n",
    "                                      StructField('positionText',StringType(),True),\n",
    "                                      StructField('positionOrder',IntegerType(),True),\n",
    "                                      StructField('points',FloatType(),True),\n",
    "                                      StructField('laps',IntegerType(),True),\n",
    "                                      StructField('time',StringType(),True),\n",
    "                                      StructField('milliseconds',IntegerType(),True),\n",
    "                                      StructField('fastestLap',IntegerType(),True),\n",
    "                                      StructField('rank',IntegerType(),True),\n",
    "                                      StructField('fastestLapTime',StringType(),True),\n",
    "                                      StructField('fastestLapSpeed',FloatType(),True),\n",
    "                                      StructField('statusId',StringType(),True),\n",
    "                                      ])"
   ]
  },
  {
   "cell_type": "code",
   "execution_count": 0,
   "metadata": {
    "application/vnd.databricks.v1+cell": {
     "cellMetadata": {
      "byteLimit": 2048000,
      "rowLimit": 10000
     },
     "inputWidgets": {},
     "nuid": "c5ab44b5-8ea8-4eed-95cb-488b3b9ed3ce",
     "showTitle": false,
     "title": ""
    }
   },
   "outputs": [],
   "source": [
    "results_df = spark.read.json(f\"{raw_folder_path}/results.json\",schema = results_schema)"
   ]
  },
  {
   "cell_type": "markdown",
   "metadata": {
    "application/vnd.databricks.v1+cell": {
     "cellMetadata": {
      "byteLimit": 2048000,
      "rowLimit": 10000
     },
     "inputWidgets": {},
     "nuid": "8760b9e5-b072-4901-b675-e1217e7c83d2",
     "showTitle": false,
     "title": ""
    }
   },
   "source": [
    "#####Step 2 - Rename the columns and add new columns"
   ]
  },
  {
   "cell_type": "code",
   "execution_count": 0,
   "metadata": {
    "application/vnd.databricks.v1+cell": {
     "cellMetadata": {
      "byteLimit": 2048000,
      "rowLimit": 10000
     },
     "inputWidgets": {},
     "nuid": "ddf6abd3-a378-42a2-92d7-a806adf0d9aa",
     "showTitle": false,
     "title": ""
    }
   },
   "outputs": [],
   "source": [
    "from pyspark.sql.functions import current_timestamp,lit"
   ]
  },
  {
   "cell_type": "code",
   "execution_count": 0,
   "metadata": {
    "application/vnd.databricks.v1+cell": {
     "cellMetadata": {
      "byteLimit": 2048000,
      "rowLimit": 10000
     },
     "inputWidgets": {},
     "nuid": "305717ba-324c-401c-8ef1-eb6c99943b13",
     "showTitle": false,
     "title": ""
    }
   },
   "outputs": [],
   "source": [
    "results_with_columns_df = results_df.withColumnRenamed('resultId','result_id') \\\n",
    "                                    .withColumnRenamed('raceId','race_id') \\\n",
    "                                    .withColumnRenamed('driverId','driver_id') \\\n",
    "                                    .withColumnRenamed('constructorId','constructor_id') \\\n",
    "                                    .withColumnRenamed('positionText','position_text') \\\n",
    "                                    .withColumnRenamed('positionOrder','position_order') \\\n",
    "                                    .withColumnRenamed('fastestLap','fastest_lap') \\\n",
    "                                    .withColumnRenamed('fastestLapTime','fastest_lap_time') \\\n",
    "                                    .withColumnRenamed('fastestLapSpeed','fastest_lap_speed') \\\n",
    "                                    .withColumn('ingestion_date',current_timestamp()) \\\n",
    "                                    .withColumn('data_source',lit(v_data_source))"
   ]
  },
  {
   "cell_type": "markdown",
   "metadata": {
    "application/vnd.databricks.v1+cell": {
     "cellMetadata": {
      "byteLimit": 2048000,
      "rowLimit": 10000
     },
     "inputWidgets": {},
     "nuid": "e1497f26-6f46-4fd4-8ad4-1a7622ba443d",
     "showTitle": false,
     "title": ""
    }
   },
   "source": [
    "#####Step 3 - Drop the unwanted column"
   ]
  },
  {
   "cell_type": "code",
   "execution_count": 0,
   "metadata": {
    "application/vnd.databricks.v1+cell": {
     "cellMetadata": {
      "byteLimit": 2048000,
      "rowLimit": 10000
     },
     "inputWidgets": {},
     "nuid": "dca252d0-1fa7-4bdb-bc24-8f9c568e5bb8",
     "showTitle": false,
     "title": ""
    }
   },
   "outputs": [],
   "source": [
    "from pyspark.sql.functions import col"
   ]
  },
  {
   "cell_type": "code",
   "execution_count": 0,
   "metadata": {
    "application/vnd.databricks.v1+cell": {
     "cellMetadata": {
      "byteLimit": 2048000,
      "rowLimit": 10000
     },
     "inputWidgets": {},
     "nuid": "c85745a1-1039-44a4-b19d-31f4b523f45b",
     "showTitle": false,
     "title": ""
    }
   },
   "outputs": [],
   "source": [
    "results_final_df = results_with_columns_df.drop(col('statusId'))"
   ]
  },
  {
   "cell_type": "markdown",
   "metadata": {
    "application/vnd.databricks.v1+cell": {
     "cellMetadata": {
      "byteLimit": 2048000,
      "rowLimit": 10000
     },
     "inputWidgets": {},
     "nuid": "a8a136cb-cf5d-4d1d-9276-9eb5a3597f84",
     "showTitle": false,
     "title": ""
    }
   },
   "source": [
    "#####Step 4 - Write the output to processed container in parquet format"
   ]
  },
  {
   "cell_type": "code",
   "execution_count": 0,
   "metadata": {
    "application/vnd.databricks.v1+cell": {
     "cellMetadata": {
      "byteLimit": 2048000,
      "rowLimit": 10000
     },
     "inputWidgets": {},
     "nuid": "2390d7eb-ee8f-4588-924c-2bb34dc68735",
     "showTitle": false,
     "title": ""
    }
   },
   "outputs": [],
   "source": [
    "results_final_df.write.mode('overwrite').partitionBy('race_id').parquet(f\"{processed_folder_path}/results\")"
   ]
  },
  {
   "cell_type": "code",
   "execution_count": 0,
   "metadata": {
    "application/vnd.databricks.v1+cell": {
     "cellMetadata": {
      "byteLimit": 2048000,
      "rowLimit": 10000
     },
     "inputWidgets": {},
     "nuid": "3a18fd98-3c7b-4cae-9fe3-99f8cc6ec824",
     "showTitle": false,
     "title": ""
    }
   },
   "outputs": [],
   "source": [
    "dbutils.notebook.exit('Success')"
   ]
  }
 ],
 "metadata": {
  "application/vnd.databricks.v1+notebook": {
   "dashboards": [],
   "language": "python",
   "notebookMetadata": {
    "mostRecentlyExecutedCommandWithImplicitDF": {
     "commandId": 2130526269791795,
     "dataframes": [
      "_sqldf"
     ]
    },
    "pythonIndentUnit": 4
   },
   "notebookName": "6.Ingest_results_file",
   "widgets": {
    "p_data_source": {
     "currentValue": "Ergast API",
     "nuid": "a06650ca-62a1-4549-9ded-346bb72fab87",
     "widgetInfo": {
      "widgetType": "text",
      "defaultValue": "",
      "label": null,
      "name": "p_data_source",
      "options": {
       "widgetType": "text",
       "validationRegex": null
      }
     }
    }
   }
  }
 },
 "nbformat": 4,
 "nbformat_minor": 0
}
