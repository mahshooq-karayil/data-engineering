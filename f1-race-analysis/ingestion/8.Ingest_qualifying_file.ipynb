{
 "cells": [
  {
   "cell_type": "markdown",
   "metadata": {
    "application/vnd.databricks.v1+cell": {
     "cellMetadata": {
      "byteLimit": 2048000,
      "rowLimit": 10000
     },
     "inputWidgets": {},
     "nuid": "e7d97c89-3768-4417-8e55-f601c1474b18",
     "showTitle": false,
     "title": ""
    }
   },
   "source": [
    "###Ingest qualifying json files"
   ]
  },
  {
   "cell_type": "code",
   "execution_count": 0,
   "metadata": {
    "application/vnd.databricks.v1+cell": {
     "cellMetadata": {
      "byteLimit": 2048000,
      "rowLimit": 10000
     },
     "inputWidgets": {},
     "nuid": "49ec93b2-890a-4823-b104-992e64741b86",
     "showTitle": false,
     "title": ""
    }
   },
   "outputs": [],
   "source": [
    "dbutils.widgets.text('p_data_source','')\n",
    "v_data_source = dbutils.widgets.get('p_data_source')"
   ]
  },
  {
   "cell_type": "code",
   "execution_count": 0,
   "metadata": {
    "application/vnd.databricks.v1+cell": {
     "cellMetadata": {
      "byteLimit": 2048000,
      "rowLimit": 10000
     },
     "inputWidgets": {},
     "nuid": "4baa5025-dcae-4f45-913f-6f8e036da43f",
     "showTitle": false,
     "title": ""
    }
   },
   "outputs": [],
   "source": [
    "%run \"../includes/configuration\""
   ]
  },
  {
   "cell_type": "code",
   "execution_count": 0,
   "metadata": {
    "application/vnd.databricks.v1+cell": {
     "cellMetadata": {
      "byteLimit": 2048000,
      "rowLimit": 10000
     },
     "inputWidgets": {},
     "nuid": "a6eb7b64-979b-412e-a42b-32968c454553",
     "showTitle": false,
     "title": ""
    }
   },
   "outputs": [],
   "source": [
    "%run \"../includes/common_functions\""
   ]
  },
  {
   "cell_type": "markdown",
   "metadata": {
    "application/vnd.databricks.v1+cell": {
     "cellMetadata": {
      "byteLimit": 2048000,
      "rowLimit": 10000
     },
     "inputWidgets": {},
     "nuid": "471166e0-1003-49c2-9048-604a7dec8573",
     "showTitle": false,
     "title": ""
    }
   },
   "source": [
    "#####Step 1 - Read the JSON file using the spark dataframe reader API"
   ]
  },
  {
   "cell_type": "code",
   "execution_count": 0,
   "metadata": {
    "application/vnd.databricks.v1+cell": {
     "cellMetadata": {
      "byteLimit": 2048000,
      "rowLimit": 10000
     },
     "inputWidgets": {},
     "nuid": "746a03b3-01cb-4291-9104-39183052c668",
     "showTitle": false,
     "title": ""
    }
   },
   "outputs": [],
   "source": [
    "from pyspark.sql.types import StructType,StructField,StringType,IntegerType"
   ]
  },
  {
   "cell_type": "code",
   "execution_count": 0,
   "metadata": {
    "application/vnd.databricks.v1+cell": {
     "cellMetadata": {
      "byteLimit": 2048000,
      "rowLimit": 10000
     },
     "inputWidgets": {},
     "nuid": "0b7d8685-e689-40aa-a2d5-c1e5b7440683",
     "showTitle": false,
     "title": ""
    }
   },
   "outputs": [],
   "source": [
    "qualifying_schema = StructType(fields = [StructField('qualifyId',IntegerType(),False),\n",
    "                                        StructField('raceId',IntegerType(),True),\n",
    "                                        StructField('driverId',IntegerType(),True),\n",
    "                                        StructField('constructorId',IntegerType(),True),\n",
    "                                        StructField('number',IntegerType(),True),\n",
    "                                        StructField('position',IntegerType(),True),\n",
    "                                        StructField('q1',StringType(),True),\n",
    "                                        StructField('q2',StringType(),True),\n",
    "                                        StructField('q3',StringType(),True)])"
   ]
  },
  {
   "cell_type": "code",
   "execution_count": 0,
   "metadata": {
    "application/vnd.databricks.v1+cell": {
     "cellMetadata": {
      "byteLimit": 2048000,
      "rowLimit": 10000
     },
     "inputWidgets": {},
     "nuid": "4c4fc91d-64a5-451b-b316-69c98f04a0b6",
     "showTitle": false,
     "title": ""
    }
   },
   "outputs": [],
   "source": [
    "qualifying_df = spark.read.option('multiline',True).json(f\"{raw_folder_path}/qualifying\",schema = qualifying_schema)"
   ]
  },
  {
   "cell_type": "code",
   "execution_count": 0,
   "metadata": {
    "application/vnd.databricks.v1+cell": {
     "cellMetadata": {
      "byteLimit": 2048000,
      "rowLimit": 10000
     },
     "inputWidgets": {},
     "nuid": "bff22eef-49cf-44bb-b1d5-0069d5105fc9",
     "showTitle": false,
     "title": ""
    }
   },
   "outputs": [
    {
     "output_type": "stream",
     "name": "stdout",
     "output_type": "stream",
     "text": [
      "+---------+------+--------+-------------+------+--------+--------+--------+--------+\n|qualifyId|raceId|driverId|constructorId|number|position|      q1|      q2|      q3|\n+---------+------+--------+-------------+------+--------+--------+--------+--------+\n|        1|    18|       1|            1|    22|       1|1:26.572|1:25.187|1:26.714|\n|        2|    18|       9|            2|     4|       2|1:26.103|1:25.315|1:26.869|\n|        3|    18|       5|            1|    23|       3|1:25.664|1:25.452|1:27.079|\n|        4|    18|      13|            6|     2|       4|1:25.994|1:25.691|1:27.178|\n|        5|    18|       2|            2|     3|       5|1:25.960|1:25.518|1:27.236|\n|        6|    18|      15|            7|    11|       6|1:26.427|1:26.101|1:28.527|\n|        7|    18|       3|            3|     7|       7|1:26.295|1:26.059|1:28.687|\n|        8|    18|      14|            9|     9|       8|1:26.381|1:26.063|1:29.041|\n|        9|    18|      10|            7|    12|       9|1:26.919|1:26.164|1:29.593|\n|       10|    18|      20|            5|    15|      10|1:26.702|1:25.842|      \\N|\n+---------+------+--------+-------------+------+--------+--------+--------+--------+\nonly showing top 10 rows\n\n"
     ]
    }
   ],
   "source": [
    "qualifying_df.show(10)"
   ]
  },
  {
   "cell_type": "markdown",
   "metadata": {
    "application/vnd.databricks.v1+cell": {
     "cellMetadata": {
      "byteLimit": 2048000,
      "rowLimit": 10000
     },
     "inputWidgets": {},
     "nuid": "17c48ae8-0911-4449-bddd-9fdf9df33280",
     "showTitle": false,
     "title": ""
    }
   },
   "source": [
    "#####Step 2 - Rename columns and add new columns"
   ]
  },
  {
   "cell_type": "code",
   "execution_count": 0,
   "metadata": {
    "application/vnd.databricks.v1+cell": {
     "cellMetadata": {
      "byteLimit": 2048000,
      "rowLimit": 10000
     },
     "inputWidgets": {},
     "nuid": "6987b085-a387-4351-a245-8701f76482dd",
     "showTitle": false,
     "title": ""
    }
   },
   "outputs": [],
   "source": [
    "from pyspark.sql.functions import current_timestamp,lit"
   ]
  },
  {
   "cell_type": "code",
   "execution_count": 0,
   "metadata": {
    "application/vnd.databricks.v1+cell": {
     "cellMetadata": {
      "byteLimit": 2048000,
      "rowLimit": 10000
     },
     "inputWidgets": {},
     "nuid": "b2e19352-a843-463e-8d89-df5e8bc2c063",
     "showTitle": false,
     "title": ""
    }
   },
   "outputs": [],
   "source": [
    "qualifying_final_df = qualifying_df.withColumnRenamed('qualifyId','qualify_id') \\\n",
    "        .withColumnRenamed('driverId','driver_id') \\\n",
    "        .withColumnRenamed('raceId','race_id') \\\n",
    "        .withColumnRenamed('constructorId','constructor_id') \\\n",
    "        .withColumn('ingestion_date',current_timestamp()) \\\n",
    "        .withColumn('data_source',lit(v_data_source))"
   ]
  },
  {
   "cell_type": "code",
   "execution_count": 0,
   "metadata": {
    "application/vnd.databricks.v1+cell": {
     "cellMetadata": {
      "byteLimit": 2048000,
      "rowLimit": 10000
     },
     "inputWidgets": {},
     "nuid": "05055744-ee1c-483a-be46-164aa1f0b114",
     "showTitle": false,
     "title": ""
    }
   },
   "outputs": [
    {
     "output_type": "stream",
     "name": "stdout",
     "output_type": "stream",
     "text": [
      "+----------+-------+---------+--------------+------+--------+--------+--------+--------+--------------------+-----------+\n|qualify_id|race_id|driver_id|constructor_id|number|position|      q1|      q2|      q3|      ingestion_date|data_source|\n+----------+-------+---------+--------------+------+--------+--------+--------+--------+--------------------+-----------+\n|         1|     18|        1|             1|    22|       1|1:26.572|1:25.187|1:26.714|2023-09-30 18:06:...| Ergast API|\n|         2|     18|        9|             2|     4|       2|1:26.103|1:25.315|1:26.869|2023-09-30 18:06:...| Ergast API|\n|         3|     18|        5|             1|    23|       3|1:25.664|1:25.452|1:27.079|2023-09-30 18:06:...| Ergast API|\n|         4|     18|       13|             6|     2|       4|1:25.994|1:25.691|1:27.178|2023-09-30 18:06:...| Ergast API|\n|         5|     18|        2|             2|     3|       5|1:25.960|1:25.518|1:27.236|2023-09-30 18:06:...| Ergast API|\n|         6|     18|       15|             7|    11|       6|1:26.427|1:26.101|1:28.527|2023-09-30 18:06:...| Ergast API|\n|         7|     18|        3|             3|     7|       7|1:26.295|1:26.059|1:28.687|2023-09-30 18:06:...| Ergast API|\n|         8|     18|       14|             9|     9|       8|1:26.381|1:26.063|1:29.041|2023-09-30 18:06:...| Ergast API|\n|         9|     18|       10|             7|    12|       9|1:26.919|1:26.164|1:29.593|2023-09-30 18:06:...| Ergast API|\n|        10|     18|       20|             5|    15|      10|1:26.702|1:25.842|      \\N|2023-09-30 18:06:...| Ergast API|\n+----------+-------+---------+--------------+------+--------+--------+--------+--------+--------------------+-----------+\nonly showing top 10 rows\n\n"
     ]
    }
   ],
   "source": [
    "qualifying_final_df.show(10)"
   ]
  },
  {
   "cell_type": "markdown",
   "metadata": {
    "application/vnd.databricks.v1+cell": {
     "cellMetadata": {
      "byteLimit": 2048000,
      "rowLimit": 10000
     },
     "inputWidgets": {},
     "nuid": "9a6cbdfb-631c-4d1f-b816-96f2d017a0a2",
     "showTitle": false,
     "title": ""
    }
   },
   "source": [
    "#####Step 3 - Write the output to processed container in parquet format"
   ]
  },
  {
   "cell_type": "code",
   "execution_count": 0,
   "metadata": {
    "application/vnd.databricks.v1+cell": {
     "cellMetadata": {
      "byteLimit": 2048000,
      "rowLimit": 10000
     },
     "inputWidgets": {},
     "nuid": "1f9df8e3-e66d-4113-96f6-442b8c1becfe",
     "showTitle": false,
     "title": ""
    }
   },
   "outputs": [],
   "source": [
    "qualifying_final_df.write.mode('overwrite').parquet(f\"{processed_folder_path}/qualifying\")"
   ]
  },
  {
   "cell_type": "code",
   "execution_count": 0,
   "metadata": {
    "application/vnd.databricks.v1+cell": {
     "cellMetadata": {
      "byteLimit": 2048000,
      "rowLimit": 10000
     },
     "inputWidgets": {},
     "nuid": "b97cdd54-8189-4675-adf2-ce39542b27ec",
     "showTitle": false,
     "title": ""
    }
   },
   "outputs": [],
   "source": [
    "dbutils.notebook.exit('Success')"
   ]
  }
 ],
 "metadata": {
  "application/vnd.databricks.v1+notebook": {
   "dashboards": [],
   "language": "python",
   "notebookMetadata": {
    "pythonIndentUnit": 4
   },
   "notebookName": "8.Ingest_qualifying_file",
   "widgets": {
    "p_data_source": {
     "currentValue": "Ergast API",
     "nuid": "51e6e7ab-70f4-420e-b84e-d60f348669fd",
     "widgetInfo": {
      "widgetType": "text",
      "defaultValue": "",
      "label": null,
      "name": "p_data_source",
      "options": {
       "widgetType": "text",
       "validationRegex": null
      }
     }
    }
   }
  }
 },
 "nbformat": 4,
 "nbformat_minor": 0
}
