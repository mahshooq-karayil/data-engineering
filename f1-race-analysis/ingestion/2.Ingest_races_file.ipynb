{
 "cells": [
  {
   "cell_type": "markdown",
   "metadata": {
    "application/vnd.databricks.v1+cell": {
     "cellMetadata": {
      "byteLimit": 2048000,
      "rowLimit": 10000
     },
     "inputWidgets": {},
     "nuid": "1bb68855-7c3a-4373-bd1a-15c22677ffb6",
     "showTitle": false,
     "title": ""
    }
   },
   "source": [
    "###Ingest races.csv file"
   ]
  },
  {
   "cell_type": "code",
   "execution_count": 0,
   "metadata": {
    "application/vnd.databricks.v1+cell": {
     "cellMetadata": {
      "byteLimit": 2048000,
      "rowLimit": 10000
     },
     "inputWidgets": {},
     "nuid": "0537e6d7-61b8-4a8b-8b53-4aa86872f895",
     "showTitle": false,
     "title": ""
    }
   },
   "outputs": [],
   "source": [
    "dbutils.widgets.text('p_data_source','')\n",
    "v_data_source = dbutils.widgets.get('p_data_source')"
   ]
  },
  {
   "cell_type": "code",
   "execution_count": 0,
   "metadata": {
    "application/vnd.databricks.v1+cell": {
     "cellMetadata": {
      "byteLimit": 2048000,
      "rowLimit": 10000
     },
     "inputWidgets": {},
     "nuid": "d0ec41c7-4ffc-4772-b83b-78d2dc795774",
     "showTitle": false,
     "title": ""
    }
   },
   "outputs": [],
   "source": [
    "%run \"../includes/configuration\""
   ]
  },
  {
   "cell_type": "code",
   "execution_count": 0,
   "metadata": {
    "application/vnd.databricks.v1+cell": {
     "cellMetadata": {
      "byteLimit": 2048000,
      "rowLimit": 10000
     },
     "inputWidgets": {},
     "nuid": "fe1e20f0-b3fa-41e9-ac7b-d2656bb92e8f",
     "showTitle": false,
     "title": ""
    }
   },
   "outputs": [],
   "source": [
    "%run \"../includes/common_functions\""
   ]
  },
  {
   "cell_type": "markdown",
   "metadata": {
    "application/vnd.databricks.v1+cell": {
     "cellMetadata": {
      "byteLimit": 2048000,
      "rowLimit": 10000
     },
     "inputWidgets": {},
     "nuid": "1cbcc7da-ac44-4a7f-a07a-34633f489dc3",
     "showTitle": false,
     "title": ""
    }
   },
   "source": [
    "#####Step 1 - Read the CSV file using the spark dataframe reader"
   ]
  },
  {
   "cell_type": "code",
   "execution_count": 0,
   "metadata": {
    "application/vnd.databricks.v1+cell": {
     "cellMetadata": {
      "byteLimit": 2048000,
      "rowLimit": 10000
     },
     "inputWidgets": {},
     "nuid": "f992555d-ab21-4d03-bfc8-b88be6c27ab8",
     "showTitle": false,
     "title": ""
    }
   },
   "outputs": [],
   "source": [
    "from pyspark.sql.types import StructType,StructField,IntegerType,StringType,DateType"
   ]
  },
  {
   "cell_type": "code",
   "execution_count": 0,
   "metadata": {
    "application/vnd.databricks.v1+cell": {
     "cellMetadata": {
      "byteLimit": 2048000,
      "rowLimit": 10000
     },
     "inputWidgets": {},
     "nuid": "12e670b3-8fbd-406d-a847-e1e3264f023f",
     "showTitle": false,
     "title": ""
    }
   },
   "outputs": [],
   "source": [
    "races_schema = StructType(fields=[StructField(\"raceId\",IntegerType(),False),\n",
    "                                  StructField(\"year\",IntegerType(),True),\n",
    "                                  StructField(\"round\",IntegerType(),True),\n",
    "                                  StructField(\"circuitId\",IntegerType(),True),\n",
    "                                  StructField(\"name\",StringType(),True),\n",
    "                                  StructField(\"date\",DateType(),True),\n",
    "                                  StructField(\"time\",StringType(),True),\n",
    "                                  StructField(\"url\",StringType(),True)])"
   ]
  },
  {
   "cell_type": "code",
   "execution_count": 0,
   "metadata": {
    "application/vnd.databricks.v1+cell": {
     "cellMetadata": {
      "byteLimit": 2048000,
      "rowLimit": 10000
     },
     "inputWidgets": {},
     "nuid": "fd2734b0-dafd-499e-b4ae-3690e8f9772f",
     "showTitle": false,
     "title": ""
    }
   },
   "outputs": [],
   "source": [
    "races_df = spark.read.csv(f\"{raw_folder_path}/races.csv\",header=True,schema=races_schema)"
   ]
  },
  {
   "cell_type": "code",
   "execution_count": 0,
   "metadata": {
    "application/vnd.databricks.v1+cell": {
     "cellMetadata": {
      "byteLimit": 2048000,
      "rowLimit": 10000
     },
     "inputWidgets": {},
     "nuid": "30690531-6f1f-4023-b430-ab9c7e342f66",
     "showTitle": false,
     "title": ""
    }
   },
   "outputs": [
    {
     "output_type": "stream",
     "name": "stdout",
     "output_type": "stream",
     "text": [
      "+------+----+-----+---------+--------------------+----------+--------+--------------------+\n|raceId|year|round|circuitId|                name|      date|    time|                 url|\n+------+----+-----+---------+--------------------+----------+--------+--------------------+\n|     1|2009|    1|        1|Australian Grand ...|2009-03-29|06:00:00|http://en.wikiped...|\n|     2|2009|    2|        2|Malaysian Grand Prix|2009-04-05|09:00:00|http://en.wikiped...|\n|     3|2009|    3|       17|  Chinese Grand Prix|2009-04-19|07:00:00|http://en.wikiped...|\n|     4|2009|    4|        3|  Bahrain Grand Prix|2009-04-26|12:00:00|http://en.wikiped...|\n|     5|2009|    5|        4|  Spanish Grand Prix|2009-05-10|12:00:00|http://en.wikiped...|\n|     6|2009|    6|        6|   Monaco Grand Prix|2009-05-24|12:00:00|http://en.wikiped...|\n|     7|2009|    7|        5|  Turkish Grand Prix|2009-06-07|12:00:00|http://en.wikiped...|\n|     8|2009|    8|        9|  British Grand Prix|2009-06-21|12:00:00|http://en.wikiped...|\n|     9|2009|    9|       20|   German Grand Prix|2009-07-12|12:00:00|http://en.wikiped...|\n|    10|2009|   10|       11|Hungarian Grand Prix|2009-07-26|12:00:00|http://en.wikiped...|\n+------+----+-----+---------+--------------------+----------+--------+--------------------+\nonly showing top 10 rows\n\n"
     ]
    }
   ],
   "source": [
    "races_df.show(10)"
   ]
  },
  {
   "cell_type": "markdown",
   "metadata": {
    "application/vnd.databricks.v1+cell": {
     "cellMetadata": {
      "byteLimit": 2048000,
      "rowLimit": 10000
     },
     "inputWidgets": {},
     "nuid": "904e8055-288e-4b20-a737-745aa2308da7",
     "showTitle": false,
     "title": ""
    }
   },
   "source": [
    "##### Step 2 - Add ingestion date and race_timestamp to the dataframe"
   ]
  },
  {
   "cell_type": "code",
   "execution_count": 0,
   "metadata": {
    "application/vnd.databricks.v1+cell": {
     "cellMetadata": {
      "byteLimit": 2048000,
      "rowLimit": 10000
     },
     "inputWidgets": {},
     "nuid": "bf62ee1e-8df2-49a5-825b-7477472e3bb7",
     "showTitle": false,
     "title": ""
    }
   },
   "outputs": [],
   "source": [
    "from pyspark.sql.functions import current_timestamp,to_timestamp,col,lit,concat"
   ]
  },
  {
   "cell_type": "code",
   "execution_count": 0,
   "metadata": {
    "application/vnd.databricks.v1+cell": {
     "cellMetadata": {
      "byteLimit": 2048000,
      "rowLimit": 10000
     },
     "inputWidgets": {},
     "nuid": "bb952b57-4138-4f1c-b20c-1cf1526b4079",
     "showTitle": false,
     "title": ""
    }
   },
   "outputs": [],
   "source": [
    "races_with_timestamp_df = races_df.withColumn('ingestion_date',current_timestamp()) \\\n",
    "                                  .withColumn('race_timestamp',to_timestamp(concat(col('date'),lit(' '),col('time')),'yyyy-MM-dd HH:mm:ss')) \\\n",
    "                                  .withColumn('data_source',lit(v_data_source))"
   ]
  },
  {
   "cell_type": "code",
   "execution_count": 0,
   "metadata": {
    "application/vnd.databricks.v1+cell": {
     "cellMetadata": {
      "byteLimit": 2048000,
      "rowLimit": 10000
     },
     "inputWidgets": {},
     "nuid": "49be27c0-c281-49a9-a02c-6142640e3d09",
     "showTitle": false,
     "title": ""
    }
   },
   "outputs": [
    {
     "output_type": "stream",
     "name": "stdout",
     "output_type": "stream",
     "text": [
      "+------+----+-----+---------+--------------------+----------+--------+--------------------+--------------------+-------------------+-----------+\n|raceId|year|round|circuitId|                name|      date|    time|                 url|      ingestion_date|     race_timestamp|data_source|\n+------+----+-----+---------+--------------------+----------+--------+--------------------+--------------------+-------------------+-----------+\n|     1|2009|    1|        1|Australian Grand ...|2009-03-29|06:00:00|http://en.wikiped...|2023-09-30 17:57:...|2009-03-29 06:00:00| Ergast API|\n|     2|2009|    2|        2|Malaysian Grand Prix|2009-04-05|09:00:00|http://en.wikiped...|2023-09-30 17:57:...|2009-04-05 09:00:00| Ergast API|\n|     3|2009|    3|       17|  Chinese Grand Prix|2009-04-19|07:00:00|http://en.wikiped...|2023-09-30 17:57:...|2009-04-19 07:00:00| Ergast API|\n|     4|2009|    4|        3|  Bahrain Grand Prix|2009-04-26|12:00:00|http://en.wikiped...|2023-09-30 17:57:...|2009-04-26 12:00:00| Ergast API|\n|     5|2009|    5|        4|  Spanish Grand Prix|2009-05-10|12:00:00|http://en.wikiped...|2023-09-30 17:57:...|2009-05-10 12:00:00| Ergast API|\n|     6|2009|    6|        6|   Monaco Grand Prix|2009-05-24|12:00:00|http://en.wikiped...|2023-09-30 17:57:...|2009-05-24 12:00:00| Ergast API|\n|     7|2009|    7|        5|  Turkish Grand Prix|2009-06-07|12:00:00|http://en.wikiped...|2023-09-30 17:57:...|2009-06-07 12:00:00| Ergast API|\n|     8|2009|    8|        9|  British Grand Prix|2009-06-21|12:00:00|http://en.wikiped...|2023-09-30 17:57:...|2009-06-21 12:00:00| Ergast API|\n|     9|2009|    9|       20|   German Grand Prix|2009-07-12|12:00:00|http://en.wikiped...|2023-09-30 17:57:...|2009-07-12 12:00:00| Ergast API|\n|    10|2009|   10|       11|Hungarian Grand Prix|2009-07-26|12:00:00|http://en.wikiped...|2023-09-30 17:57:...|2009-07-26 12:00:00| Ergast API|\n+------+----+-----+---------+--------------------+----------+--------+--------------------+--------------------+-------------------+-----------+\nonly showing top 10 rows\n\n"
     ]
    }
   ],
   "source": [
    "races_with_timestamp_df.show(10)"
   ]
  },
  {
   "cell_type": "markdown",
   "metadata": {
    "application/vnd.databricks.v1+cell": {
     "cellMetadata": {
      "byteLimit": 2048000,
      "rowLimit": 10000
     },
     "inputWidgets": {},
     "nuid": "9af3b568-3f2a-455d-948e-d9e3ea189d48",
     "showTitle": false,
     "title": ""
    }
   },
   "source": [
    "##### Step 3 - Select only the columns required and rename as required"
   ]
  },
  {
   "cell_type": "code",
   "execution_count": 0,
   "metadata": {
    "application/vnd.databricks.v1+cell": {
     "cellMetadata": {
      "byteLimit": 2048000,
      "rowLimit": 10000
     },
     "inputWidgets": {},
     "nuid": "34998086-c5d9-428f-a8aa-69e43b922704",
     "showTitle": false,
     "title": ""
    }
   },
   "outputs": [],
   "source": [
    "races_selected_df = races_with_timestamp_df.select(col('raceId').alias('race_id'),col('year').alias('race_year'),\n",
    "                                                   col('round'),col('circuitId').alias('circuit_id'),\n",
    "                                                   col('name'),col('ingestion_date'),\n",
    "                                                   col('race_timestamp'),col('data_source'))"
   ]
  },
  {
   "cell_type": "code",
   "execution_count": 0,
   "metadata": {
    "application/vnd.databricks.v1+cell": {
     "cellMetadata": {
      "byteLimit": 2048000,
      "rowLimit": 10000
     },
     "inputWidgets": {},
     "nuid": "d8c841e7-9746-4dd8-b60f-34ab1b0d45c4",
     "showTitle": false,
     "title": ""
    }
   },
   "outputs": [
    {
     "output_type": "stream",
     "name": "stdout",
     "output_type": "stream",
     "text": [
      "+-------+---------+-----+----------+--------------------+--------------------+-------------------+-----------+\n|race_id|race_year|round|circuit_id|                name|      ingestion_date|     race_timestamp|data_source|\n+-------+---------+-----+----------+--------------------+--------------------+-------------------+-----------+\n|      1|     2009|    1|         1|Australian Grand ...|2023-09-30 17:57:...|2009-03-29 06:00:00| Ergast API|\n|      2|     2009|    2|         2|Malaysian Grand Prix|2023-09-30 17:57:...|2009-04-05 09:00:00| Ergast API|\n|      3|     2009|    3|        17|  Chinese Grand Prix|2023-09-30 17:57:...|2009-04-19 07:00:00| Ergast API|\n|      4|     2009|    4|         3|  Bahrain Grand Prix|2023-09-30 17:57:...|2009-04-26 12:00:00| Ergast API|\n|      5|     2009|    5|         4|  Spanish Grand Prix|2023-09-30 17:57:...|2009-05-10 12:00:00| Ergast API|\n|      6|     2009|    6|         6|   Monaco Grand Prix|2023-09-30 17:57:...|2009-05-24 12:00:00| Ergast API|\n|      7|     2009|    7|         5|  Turkish Grand Prix|2023-09-30 17:57:...|2009-06-07 12:00:00| Ergast API|\n|      8|     2009|    8|         9|  British Grand Prix|2023-09-30 17:57:...|2009-06-21 12:00:00| Ergast API|\n|      9|     2009|    9|        20|   German Grand Prix|2023-09-30 17:57:...|2009-07-12 12:00:00| Ergast API|\n|     10|     2009|   10|        11|Hungarian Grand Prix|2023-09-30 17:57:...|2009-07-26 12:00:00| Ergast API|\n+-------+---------+-----+----------+--------------------+--------------------+-------------------+-----------+\nonly showing top 10 rows\n\n"
     ]
    }
   ],
   "source": [
    "races_selected_df.show(10)"
   ]
  },
  {
   "cell_type": "markdown",
   "metadata": {
    "application/vnd.databricks.v1+cell": {
     "cellMetadata": {
      "byteLimit": 2048000,
      "rowLimit": 10000
     },
     "inputWidgets": {},
     "nuid": "fe434f7b-8f96-47d3-a58b-92f478b14979",
     "showTitle": false,
     "title": ""
    }
   },
   "source": [
    "##### Step 4 - Partition the data by Race Year and write the output to processed container in parquet file"
   ]
  },
  {
   "cell_type": "code",
   "execution_count": 0,
   "metadata": {
    "application/vnd.databricks.v1+cell": {
     "cellMetadata": {
      "byteLimit": 2048000,
      "rowLimit": 10000
     },
     "inputWidgets": {},
     "nuid": "53c5d573-0cbd-4ac3-95ba-87abb053f148",
     "showTitle": false,
     "title": ""
    }
   },
   "outputs": [],
   "source": [
    "races_selected_df.write.mode('overwrite').partitionBy('race_year').parquet(f\"{processed_folder_path}/races\")"
   ]
  },
  {
   "cell_type": "code",
   "execution_count": 0,
   "metadata": {
    "application/vnd.databricks.v1+cell": {
     "cellMetadata": {
      "byteLimit": 2048000,
      "rowLimit": 10000
     },
     "inputWidgets": {},
     "nuid": "b6971ac3-1fb5-44dc-bc92-f4dc7b653227",
     "showTitle": false,
     "title": ""
    }
   },
   "outputs": [],
   "source": [
    "dbutils.notebook.exit('Success')"
   ]
  },
  {
   "cell_type": "code",
   "execution_count": 0,
   "metadata": {
    "application/vnd.databricks.v1+cell": {
     "cellMetadata": {},
     "inputWidgets": {},
     "nuid": "6357831d-9223-435a-9693-f069ce811048",
     "showTitle": false,
     "title": ""
    }
   },
   "outputs": [],
   "source": []
  }
 ],
 "metadata": {
  "application/vnd.databricks.v1+notebook": {
   "dashboards": [],
   "language": "python",
   "notebookMetadata": {
    "mostRecentlyExecutedCommandWithImplicitDF": {
     "commandId": 406843573213038,
     "dataframes": [
      "_sqldf"
     ]
    },
    "pythonIndentUnit": 4
   },
   "notebookName": "2.Ingest_races_file",
   "widgets": {
    "p_data_source": {
     "currentValue": "Ergast API",
     "nuid": "8f2b9695-66cd-4afc-91da-5b5333e07e21",
     "widgetInfo": {
      "widgetType": "text",
      "defaultValue": "",
      "label": null,
      "name": "p_data_source",
      "options": {
       "widgetType": "text",
       "validationRegex": null
      }
     }
    }
   }
  }
 },
 "nbformat": 4,
 "nbformat_minor": 0
}
