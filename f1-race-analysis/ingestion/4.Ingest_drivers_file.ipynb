{
 "cells": [
  {
   "cell_type": "markdown",
   "metadata": {
    "application/vnd.databricks.v1+cell": {
     "cellMetadata": {
      "byteLimit": 2048000,
      "rowLimit": 10000
     },
     "inputWidgets": {},
     "nuid": "24e3e43b-2188-450e-aceb-023c943e77e3",
     "showTitle": false,
     "title": ""
    }
   },
   "source": [
    "###Ingest drivers.json file"
   ]
  },
  {
   "cell_type": "code",
   "execution_count": 0,
   "metadata": {
    "application/vnd.databricks.v1+cell": {
     "cellMetadata": {
      "byteLimit": 2048000,
      "rowLimit": 10000
     },
     "inputWidgets": {},
     "nuid": "e24fddcb-5649-4e3a-af2e-edccc018622d",
     "showTitle": false,
     "title": ""
    }
   },
   "outputs": [],
   "source": [
    "dbutils.widgets.text('p_data_source','')\n",
    "v_data_source = dbutils.widgets.get('p_data_source')"
   ]
  },
  {
   "cell_type": "code",
   "execution_count": 0,
   "metadata": {
    "application/vnd.databricks.v1+cell": {
     "cellMetadata": {
      "byteLimit": 2048000,
      "rowLimit": 10000
     },
     "inputWidgets": {},
     "nuid": "5ea342dd-9d9d-405c-a4fe-c0249c4f8cbd",
     "showTitle": false,
     "title": ""
    }
   },
   "outputs": [],
   "source": [
    "%run \"../includes/configuration\""
   ]
  },
  {
   "cell_type": "code",
   "execution_count": 0,
   "metadata": {
    "application/vnd.databricks.v1+cell": {
     "cellMetadata": {
      "byteLimit": 2048000,
      "rowLimit": 10000
     },
     "inputWidgets": {},
     "nuid": "07696e70-5384-4f5f-aec0-997c197c12c2",
     "showTitle": false,
     "title": ""
    }
   },
   "outputs": [],
   "source": [
    "%run \"../includes/common_functions\""
   ]
  },
  {
   "cell_type": "markdown",
   "metadata": {
    "application/vnd.databricks.v1+cell": {
     "cellMetadata": {
      "byteLimit": 2048000,
      "rowLimit": 10000
     },
     "inputWidgets": {},
     "nuid": "d44724e0-c084-495b-b105-ce5818d5de92",
     "showTitle": false,
     "title": ""
    }
   },
   "source": [
    "#####Step 1 - Read the JSON file using the spark dataframe reader API"
   ]
  },
  {
   "cell_type": "code",
   "execution_count": 0,
   "metadata": {
    "application/vnd.databricks.v1+cell": {
     "cellMetadata": {
      "byteLimit": 2048000,
      "rowLimit": 10000
     },
     "inputWidgets": {},
     "nuid": "a82abe17-3ab3-4b58-b7f2-8c14e338a2c7",
     "showTitle": false,
     "title": ""
    }
   },
   "outputs": [],
   "source": [
    "from pyspark.sql.types import StructType,StructField,StringType,DateType,IntegerType"
   ]
  },
  {
   "cell_type": "code",
   "execution_count": 0,
   "metadata": {
    "application/vnd.databricks.v1+cell": {
     "cellMetadata": {
      "byteLimit": 2048000,
      "rowLimit": 10000
     },
     "inputWidgets": {},
     "nuid": "1ad54581-f53d-4d8e-95c5-fb5a2b745d47",
     "showTitle": false,
     "title": ""
    }
   },
   "outputs": [],
   "source": [
    "name_schema = StructType(fields = [StructField('forename',StringType(),True),\n",
    "                                   StructField('surname',StringType(),True)])"
   ]
  },
  {
   "cell_type": "code",
   "execution_count": 0,
   "metadata": {
    "application/vnd.databricks.v1+cell": {
     "cellMetadata": {
      "byteLimit": 2048000,
      "rowLimit": 10000
     },
     "inputWidgets": {},
     "nuid": "d436c377-ddc5-4728-8cba-7c5306f9584a",
     "showTitle": false,
     "title": ""
    }
   },
   "outputs": [],
   "source": [
    "drivers_schema = StructType(fields = [StructField('driverId',IntegerType(),False),\n",
    "                                      StructField('driverRef',StringType(),True),\n",
    "                                      StructField('number',IntegerType(),True),\n",
    "                                      StructField('code',StringType(),True),\n",
    "                                      StructField('name',name_schema),\n",
    "                                      StructField('dob',DateType(),True),\n",
    "                                      StructField('nationality',StringType(),True),\n",
    "                                      StructField('url',StringType(),True)])"
   ]
  },
  {
   "cell_type": "code",
   "execution_count": 0,
   "metadata": {
    "application/vnd.databricks.v1+cell": {
     "cellMetadata": {
      "byteLimit": 2048000,
      "rowLimit": 10000
     },
     "inputWidgets": {},
     "nuid": "7fa601d7-e040-44da-aa99-4468e3de75de",
     "showTitle": false,
     "title": ""
    }
   },
   "outputs": [],
   "source": [
    "drivers_df = spark.read.json(f\"{raw_folder_path}/drivers.json\",schema = drivers_schema)"
   ]
  },
  {
   "cell_type": "code",
   "execution_count": 0,
   "metadata": {
    "application/vnd.databricks.v1+cell": {
     "cellMetadata": {
      "byteLimit": 2048000,
      "rowLimit": 10000
     },
     "inputWidgets": {},
     "nuid": "637d2b3c-1b36-4f02-9349-1e788db720fd",
     "showTitle": false,
     "title": ""
    }
   },
   "outputs": [
    {
     "output_type": "stream",
     "name": "stdout",
     "output_type": "stream",
     "text": [
      "+--------+----------+------+----+--------------------+----------+-----------+--------------------+\n|driverId| driverRef|number|code|                name|       dob|nationality|                 url|\n+--------+----------+------+----+--------------------+----------+-----------+--------------------+\n|       1|  hamilton|    44| HAM|   {Lewis, Hamilton}|1985-01-07|    British|http://en.wikiped...|\n|       2|  heidfeld|  null| HEI|    {Nick, Heidfeld}|1977-05-10|     German|http://en.wikiped...|\n|       3|   rosberg|     6| ROS|     {Nico, Rosberg}|1985-06-27|     German|http://en.wikiped...|\n|       4|    alonso|    14| ALO|  {Fernando, Alonso}|1981-07-29|    Spanish|http://en.wikiped...|\n|       5|kovalainen|  null| KOV|{Heikki, Kovalainen}|1981-10-19|    Finnish|http://en.wikiped...|\n|       6|  nakajima|  null| NAK|  {Kazuki, Nakajima}|1985-01-11|   Japanese|http://en.wikiped...|\n|       7|  bourdais|  null| BOU|{Sébastien, Bourd...|1979-02-28|     French|http://en.wikiped...|\n|       8| raikkonen|     7| RAI|   {Kimi, Räikkönen}|1979-10-17|    Finnish|http://en.wikiped...|\n|       9|    kubica|    88| KUB|    {Robert, Kubica}|1984-12-07|     Polish|http://en.wikiped...|\n|      10|     glock|  null| GLO|       {Timo, Glock}|1982-03-18|     German|http://en.wikiped...|\n+--------+----------+------+----+--------------------+----------+-----------+--------------------+\nonly showing top 10 rows\n\n"
     ]
    }
   ],
   "source": [
    "drivers_df.show(10)"
   ]
  },
  {
   "cell_type": "markdown",
   "metadata": {
    "application/vnd.databricks.v1+cell": {
     "cellMetadata": {
      "byteLimit": 2048000,
      "rowLimit": 10000
     },
     "inputWidgets": {},
     "nuid": "0c6c9fab-479b-4362-a1e2-574691278ff5",
     "showTitle": false,
     "title": ""
    }
   },
   "source": [
    "#####Step 2 - Rename columns and add new columns"
   ]
  },
  {
   "cell_type": "code",
   "execution_count": 0,
   "metadata": {
    "application/vnd.databricks.v1+cell": {
     "cellMetadata": {
      "byteLimit": 2048000,
      "rowLimit": 10000
     },
     "inputWidgets": {},
     "nuid": "a0954b7e-b0b3-44c9-8ab7-a57b2befa4bd",
     "showTitle": false,
     "title": ""
    }
   },
   "outputs": [],
   "source": [
    "from pyspark.sql.functions import current_timestamp,col,lit,concat"
   ]
  },
  {
   "cell_type": "code",
   "execution_count": 0,
   "metadata": {
    "application/vnd.databricks.v1+cell": {
     "cellMetadata": {
      "byteLimit": 2048000,
      "rowLimit": 10000
     },
     "inputWidgets": {},
     "nuid": "13e2fa1c-f2eb-43c9-9115-4fe768896584",
     "showTitle": false,
     "title": ""
    }
   },
   "outputs": [],
   "source": [
    "drivers_with_columns_df = drivers_df.withColumnRenamed('driverId','driver_id') \\\n",
    "    .withColumnRenamed('driverRef','driver_ref') \\\n",
    "    .withColumn('ingestion_date',current_timestamp()) \\\n",
    "    .withColumn('name',concat(col('name.forename'),lit(' '),col('name.surname'))) \\\n",
    "    .withColumn('data_source',lit(v_data_source))"
   ]
  },
  {
   "cell_type": "code",
   "execution_count": 0,
   "metadata": {
    "application/vnd.databricks.v1+cell": {
     "cellMetadata": {
      "byteLimit": 2048000,
      "rowLimit": 10000
     },
     "inputWidgets": {},
     "nuid": "eb46a74e-aa0e-4c20-a736-1d59c85e21c8",
     "showTitle": false,
     "title": ""
    }
   },
   "outputs": [
    {
     "output_type": "stream",
     "name": "stdout",
     "output_type": "stream",
     "text": [
      "+---------+----------+------+----+------------------+----------+-----------+--------------------+--------------------+-----------+\n|driver_id|driver_ref|number|code|              name|       dob|nationality|                 url|      ingestion_date|data_source|\n+---------+----------+------+----+------------------+----------+-----------+--------------------+--------------------+-----------+\n|        1|  hamilton|    44| HAM|    Lewis Hamilton|1985-01-07|    British|http://en.wikiped...|2023-09-30 18:01:...| Ergast API|\n|        2|  heidfeld|  null| HEI|     Nick Heidfeld|1977-05-10|     German|http://en.wikiped...|2023-09-30 18:01:...| Ergast API|\n|        3|   rosberg|     6| ROS|      Nico Rosberg|1985-06-27|     German|http://en.wikiped...|2023-09-30 18:01:...| Ergast API|\n|        4|    alonso|    14| ALO|   Fernando Alonso|1981-07-29|    Spanish|http://en.wikiped...|2023-09-30 18:01:...| Ergast API|\n|        5|kovalainen|  null| KOV| Heikki Kovalainen|1981-10-19|    Finnish|http://en.wikiped...|2023-09-30 18:01:...| Ergast API|\n|        6|  nakajima|  null| NAK|   Kazuki Nakajima|1985-01-11|   Japanese|http://en.wikiped...|2023-09-30 18:01:...| Ergast API|\n|        7|  bourdais|  null| BOU|Sébastien Bourdais|1979-02-28|     French|http://en.wikiped...|2023-09-30 18:01:...| Ergast API|\n|        8| raikkonen|     7| RAI|    Kimi Räikkönen|1979-10-17|    Finnish|http://en.wikiped...|2023-09-30 18:01:...| Ergast API|\n|        9|    kubica|    88| KUB|     Robert Kubica|1984-12-07|     Polish|http://en.wikiped...|2023-09-30 18:01:...| Ergast API|\n|       10|     glock|  null| GLO|        Timo Glock|1982-03-18|     German|http://en.wikiped...|2023-09-30 18:01:...| Ergast API|\n+---------+----------+------+----+------------------+----------+-----------+--------------------+--------------------+-----------+\nonly showing top 10 rows\n\n"
     ]
    }
   ],
   "source": [
    "drivers_with_columns_df.show(10)"
   ]
  },
  {
   "cell_type": "markdown",
   "metadata": {
    "application/vnd.databricks.v1+cell": {
     "cellMetadata": {
      "byteLimit": 2048000,
      "rowLimit": 10000
     },
     "inputWidgets": {},
     "nuid": "1e1b3295-f547-4072-83c6-701f85a9aa12",
     "showTitle": false,
     "title": ""
    }
   },
   "source": [
    "#####Step 3 - Drop the unwanted columns"
   ]
  },
  {
   "cell_type": "code",
   "execution_count": 0,
   "metadata": {
    "application/vnd.databricks.v1+cell": {
     "cellMetadata": {
      "byteLimit": 2048000,
      "rowLimit": 10000
     },
     "inputWidgets": {},
     "nuid": "cda3cce4-7019-44db-834d-2c59b8ff1cc0",
     "showTitle": false,
     "title": ""
    }
   },
   "outputs": [],
   "source": [
    "drivers_final_df = drivers_with_columns_df.drop(col('url'))"
   ]
  },
  {
   "cell_type": "code",
   "execution_count": 0,
   "metadata": {
    "application/vnd.databricks.v1+cell": {
     "cellMetadata": {
      "byteLimit": 2048000,
      "rowLimit": 10000
     },
     "inputWidgets": {},
     "nuid": "f81e5491-7dff-4ccb-99de-50e65babd66f",
     "showTitle": false,
     "title": ""
    }
   },
   "outputs": [
    {
     "output_type": "stream",
     "name": "stdout",
     "output_type": "stream",
     "text": [
      "+---------+----------+------+----+------------------+----------+-----------+--------------------+-----------+\n|driver_id|driver_ref|number|code|              name|       dob|nationality|      ingestion_date|data_source|\n+---------+----------+------+----+------------------+----------+-----------+--------------------+-----------+\n|        1|  hamilton|    44| HAM|    Lewis Hamilton|1985-01-07|    British|2023-09-30 18:01:...| Ergast API|\n|        2|  heidfeld|  null| HEI|     Nick Heidfeld|1977-05-10|     German|2023-09-30 18:01:...| Ergast API|\n|        3|   rosberg|     6| ROS|      Nico Rosberg|1985-06-27|     German|2023-09-30 18:01:...| Ergast API|\n|        4|    alonso|    14| ALO|   Fernando Alonso|1981-07-29|    Spanish|2023-09-30 18:01:...| Ergast API|\n|        5|kovalainen|  null| KOV| Heikki Kovalainen|1981-10-19|    Finnish|2023-09-30 18:01:...| Ergast API|\n|        6|  nakajima|  null| NAK|   Kazuki Nakajima|1985-01-11|   Japanese|2023-09-30 18:01:...| Ergast API|\n|        7|  bourdais|  null| BOU|Sébastien Bourdais|1979-02-28|     French|2023-09-30 18:01:...| Ergast API|\n|        8| raikkonen|     7| RAI|    Kimi Räikkönen|1979-10-17|    Finnish|2023-09-30 18:01:...| Ergast API|\n|        9|    kubica|    88| KUB|     Robert Kubica|1984-12-07|     Polish|2023-09-30 18:01:...| Ergast API|\n|       10|     glock|  null| GLO|        Timo Glock|1982-03-18|     German|2023-09-30 18:01:...| Ergast API|\n+---------+----------+------+----+------------------+----------+-----------+--------------------+-----------+\nonly showing top 10 rows\n\n"
     ]
    }
   ],
   "source": [
    "drivers_final_df.show(10)"
   ]
  },
  {
   "cell_type": "markdown",
   "metadata": {
    "application/vnd.databricks.v1+cell": {
     "cellMetadata": {
      "byteLimit": 2048000,
      "rowLimit": 10000
     },
     "inputWidgets": {},
     "nuid": "87b5717f-8030-4e92-812b-be6df5d2b76c",
     "showTitle": false,
     "title": ""
    }
   },
   "source": [
    "#####Step 4 - Write the output to processed container in parquet format"
   ]
  },
  {
   "cell_type": "code",
   "execution_count": 0,
   "metadata": {
    "application/vnd.databricks.v1+cell": {
     "cellMetadata": {
      "byteLimit": 2048000,
      "rowLimit": 10000
     },
     "inputWidgets": {},
     "nuid": "7bdb32db-1e01-44e9-9876-7700032a85f2",
     "showTitle": false,
     "title": ""
    }
   },
   "outputs": [],
   "source": [
    "drivers_final_df.write.mode('overwrite').parquet(f\"{processed_folder_path}/drivers\")"
   ]
  },
  {
   "cell_type": "code",
   "execution_count": 0,
   "metadata": {
    "application/vnd.databricks.v1+cell": {
     "cellMetadata": {
      "byteLimit": 2048000,
      "rowLimit": 10000
     },
     "inputWidgets": {},
     "nuid": "5e9f4203-27b0-4aef-8887-7746dd08fbcf",
     "showTitle": false,
     "title": ""
    }
   },
   "outputs": [],
   "source": [
    "dbutils.notebook.exit('Success')"
   ]
  }
 ],
 "metadata": {
  "application/vnd.databricks.v1+notebook": {
   "dashboards": [],
   "language": "python",
   "notebookMetadata": {
    "pythonIndentUnit": 4
   },
   "notebookName": "4.Ingest_drivers_file",
   "widgets": {
    "p_data_source": {
     "currentValue": "Ergast API",
     "nuid": "a0895157-6f38-448d-9286-a3f130efe37c",
     "widgetInfo": {
      "widgetType": "text",
      "defaultValue": "",
      "label": null,
      "name": "p_data_source",
      "options": {
       "widgetType": "text",
       "validationRegex": null
      }
     }
    }
   }
  }
 },
 "nbformat": 4,
 "nbformat_minor": 0
}
