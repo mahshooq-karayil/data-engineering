{
 "cells": [
  {
   "cell_type": "markdown",
   "metadata": {
    "application/vnd.databricks.v1+cell": {
     "cellMetadata": {
      "byteLimit": 2048000,
      "rowLimit": 10000
     },
     "inputWidgets": {},
     "nuid": "13f6f341-e6e8-4a4d-b3d2-70af7fb9dfec",
     "showTitle": false,
     "title": ""
    }
   },
   "source": [
    "###Ingest lap_times json files"
   ]
  },
  {
   "cell_type": "code",
   "execution_count": 0,
   "metadata": {
    "application/vnd.databricks.v1+cell": {
     "cellMetadata": {
      "byteLimit": 2048000,
      "rowLimit": 10000
     },
     "inputWidgets": {},
     "nuid": "495483e1-18a1-4f64-b380-e99d95494c35",
     "showTitle": false,
     "title": ""
    }
   },
   "outputs": [],
   "source": [
    "dbutils.widgets.text('p_data_source','')\n",
    "v_data_source = dbutils.widgets.get('p_data_source')"
   ]
  },
  {
   "cell_type": "code",
   "execution_count": 0,
   "metadata": {
    "application/vnd.databricks.v1+cell": {
     "cellMetadata": {
      "byteLimit": 2048000,
      "rowLimit": 10000
     },
     "inputWidgets": {},
     "nuid": "f991700f-dc10-4834-8ba3-434508e8da08",
     "showTitle": false,
     "title": ""
    }
   },
   "outputs": [],
   "source": [
    "%run \"../includes/configuration\""
   ]
  },
  {
   "cell_type": "code",
   "execution_count": 0,
   "metadata": {
    "application/vnd.databricks.v1+cell": {
     "cellMetadata": {
      "byteLimit": 2048000,
      "rowLimit": 10000
     },
     "inputWidgets": {},
     "nuid": "29d943d6-264a-4076-b36c-03c0eedad48e",
     "showTitle": false,
     "title": ""
    }
   },
   "outputs": [],
   "source": [
    "%run \"../includes/common_functions\""
   ]
  },
  {
   "cell_type": "markdown",
   "metadata": {
    "application/vnd.databricks.v1+cell": {
     "cellMetadata": {
      "byteLimit": 2048000,
      "rowLimit": 10000
     },
     "inputWidgets": {},
     "nuid": "471166e0-1003-49c2-9048-604a7dec8573",
     "showTitle": false,
     "title": ""
    }
   },
   "source": [
    "#####Step 1 - Read the JSON file using the spark dataframe reader API"
   ]
  },
  {
   "cell_type": "code",
   "execution_count": 0,
   "metadata": {
    "application/vnd.databricks.v1+cell": {
     "cellMetadata": {
      "byteLimit": 2048000,
      "rowLimit": 10000
     },
     "inputWidgets": {},
     "nuid": "746a03b3-01cb-4291-9104-39183052c668",
     "showTitle": false,
     "title": ""
    }
   },
   "outputs": [],
   "source": [
    "from pyspark.sql.types import StructType,StructField,StringType,IntegerType"
   ]
  },
  {
   "cell_type": "code",
   "execution_count": 0,
   "metadata": {
    "application/vnd.databricks.v1+cell": {
     "cellMetadata": {
      "byteLimit": 2048000,
      "rowLimit": 10000
     },
     "inputWidgets": {},
     "nuid": "0b7d8685-e689-40aa-a2d5-c1e5b7440683",
     "showTitle": false,
     "title": ""
    }
   },
   "outputs": [],
   "source": [
    "lap_times_schema = StructType(fields = [StructField('raceId',IntegerType(),False),\n",
    "                                      StructField('driverId',IntegerType(),True),\n",
    "                                      StructField('lap',IntegerType(),True),\n",
    "                                      StructField('position',IntegerType(),True),\n",
    "                                      StructField('time',StringType(),True),\n",
    "                                      StructField('milliseconds',IntegerType(),True)])"
   ]
  },
  {
   "cell_type": "code",
   "execution_count": 0,
   "metadata": {
    "application/vnd.databricks.v1+cell": {
     "cellMetadata": {
      "byteLimit": 2048000,
      "rowLimit": 10000
     },
     "inputWidgets": {},
     "nuid": "4c4fc91d-64a5-451b-b316-69c98f04a0b6",
     "showTitle": false,
     "title": ""
    }
   },
   "outputs": [],
   "source": [
    "lap_times_df = spark.read.csv(f\"{raw_folder_path}/lap_times\",schema = lap_times_schema)"
   ]
  },
  {
   "cell_type": "markdown",
   "metadata": {
    "application/vnd.databricks.v1+cell": {
     "cellMetadata": {
      "byteLimit": 2048000,
      "rowLimit": 10000
     },
     "inputWidgets": {},
     "nuid": "17c48ae8-0911-4449-bddd-9fdf9df33280",
     "showTitle": false,
     "title": ""
    }
   },
   "source": [
    "#####Step 2 - Rename columns and add new columns"
   ]
  },
  {
   "cell_type": "code",
   "execution_count": 0,
   "metadata": {
    "application/vnd.databricks.v1+cell": {
     "cellMetadata": {
      "byteLimit": 2048000,
      "rowLimit": 10000
     },
     "inputWidgets": {},
     "nuid": "6987b085-a387-4351-a245-8701f76482dd",
     "showTitle": false,
     "title": ""
    }
   },
   "outputs": [],
   "source": [
    "from pyspark.sql.functions import current_timestamp,lit"
   ]
  },
  {
   "cell_type": "code",
   "execution_count": 0,
   "metadata": {
    "application/vnd.databricks.v1+cell": {
     "cellMetadata": {
      "byteLimit": 2048000,
      "rowLimit": 10000
     },
     "inputWidgets": {},
     "nuid": "b2e19352-a843-463e-8d89-df5e8bc2c063",
     "showTitle": false,
     "title": ""
    }
   },
   "outputs": [],
   "source": [
    "lap_times_final_df = lap_times_df.withColumnRenamed('driverId','driver_id') \\\n",
    "        .withColumnRenamed('raceId','race_id') \\\n",
    "        .withColumn('ingestion_date',current_timestamp()) \\\n",
    "        .withColumn('data_source',lit(v_data_source))"
   ]
  },
  {
   "cell_type": "markdown",
   "metadata": {
    "application/vnd.databricks.v1+cell": {
     "cellMetadata": {
      "byteLimit": 2048000,
      "rowLimit": 10000
     },
     "inputWidgets": {},
     "nuid": "9a6cbdfb-631c-4d1f-b816-96f2d017a0a2",
     "showTitle": false,
     "title": ""
    }
   },
   "source": [
    "#####Step 3 - Write the output to processed container in parquet format"
   ]
  },
  {
   "cell_type": "code",
   "execution_count": 0,
   "metadata": {
    "application/vnd.databricks.v1+cell": {
     "cellMetadata": {
      "byteLimit": 2048000,
      "rowLimit": 10000
     },
     "inputWidgets": {},
     "nuid": "1f9df8e3-e66d-4113-96f6-442b8c1becfe",
     "showTitle": false,
     "title": ""
    }
   },
   "outputs": [],
   "source": [
    "lap_times_final_df.write.mode('overwrite').parquet(f\"{processed_folder_path}/lap_times\")"
   ]
  },
  {
   "cell_type": "code",
   "execution_count": 0,
   "metadata": {
    "application/vnd.databricks.v1+cell": {
     "cellMetadata": {
      "byteLimit": 2048000,
      "rowLimit": 10000
     },
     "inputWidgets": {},
     "nuid": "1c338338-dc96-40a7-b7d2-012688fbcd90",
     "showTitle": false,
     "title": ""
    }
   },
   "outputs": [],
   "source": [
    "dbutils.notebook.exit('Success')"
   ]
  }
 ],
 "metadata": {
  "application/vnd.databricks.v1+notebook": {
   "dashboards": [],
   "language": "python",
   "notebookMetadata": {
    "pythonIndentUnit": 4
   },
   "notebookName": "7.Ingest_lap_times_file",
   "widgets": {
    "p_data_source": {
     "currentValue": "Ergast API",
     "nuid": "febc39f0-829c-4238-8921-2dd5b793fd82",
     "widgetInfo": {
      "widgetType": "text",
      "defaultValue": "",
      "label": null,
      "name": "p_data_source",
      "options": {
       "widgetType": "text",
       "validationRegex": null
      }
     }
    }
   }
  }
 },
 "nbformat": 4,
 "nbformat_minor": 0
}
