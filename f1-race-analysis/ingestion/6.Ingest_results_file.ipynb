{
 "cells": [
  {
   "cell_type": "markdown",
   "metadata": {
    "application/vnd.databricks.v1+cell": {
     "cellMetadata": {
      "byteLimit": 2048000,
      "rowLimit": 10000
     },
     "inputWidgets": {},
     "nuid": "34bd5412-e868-4b3b-baf0-11755416908d",
     "showTitle": false,
     "title": ""
    }
   },
   "source": [
    "###Ingest results.json file"
   ]
  },
  {
   "cell_type": "code",
   "execution_count": 0,
   "metadata": {
    "application/vnd.databricks.v1+cell": {
     "cellMetadata": {
      "byteLimit": 2048000,
      "rowLimit": 10000
     },
     "inputWidgets": {},
     "nuid": "986c60c0-ebe4-4316-b9e0-f135fee1e39e",
     "showTitle": false,
     "title": ""
    }
   },
   "outputs": [],
   "source": [
    "dbutils.widgets.text('p_data_source','')\n",
    "v_data_source = dbutils.widgets.get('p_data_source')"
   ]
  },
  {
   "cell_type": "code",
   "execution_count": 0,
   "metadata": {
    "application/vnd.databricks.v1+cell": {
     "cellMetadata": {
      "byteLimit": 2048000,
      "rowLimit": 10000
     },
     "inputWidgets": {},
     "nuid": "9c2320af-5894-4a57-b5c7-3fdfa0e33c18",
     "showTitle": false,
     "title": ""
    }
   },
   "outputs": [],
   "source": [
    "%run \"../includes/configuration\""
   ]
  },
  {
   "cell_type": "code",
   "execution_count": 0,
   "metadata": {
    "application/vnd.databricks.v1+cell": {
     "cellMetadata": {
      "byteLimit": 2048000,
      "rowLimit": 10000
     },
     "inputWidgets": {},
     "nuid": "98971c6a-3f63-4033-a973-4341a64907fc",
     "showTitle": false,
     "title": ""
    }
   },
   "outputs": [],
   "source": [
    "%run \"../includes/common_functions\""
   ]
  },
  {
   "cell_type": "markdown",
   "metadata": {
    "application/vnd.databricks.v1+cell": {
     "cellMetadata": {
      "byteLimit": 2048000,
      "rowLimit": 10000
     },
     "inputWidgets": {},
     "nuid": "ac0bca63-1287-4b6a-90df-c0092e8b3c43",
     "showTitle": false,
     "title": ""
    }
   },
   "source": [
    "#####Step 1 - Read the json file using spark datafram reader API"
   ]
  },
  {
   "cell_type": "code",
   "execution_count": 0,
   "metadata": {
    "application/vnd.databricks.v1+cell": {
     "cellMetadata": {
      "byteLimit": 2048000,
      "rowLimit": 10000
     },
     "inputWidgets": {},
     "nuid": "6a7914bd-1079-47b2-938a-d9101b8943ae",
     "showTitle": false,
     "title": ""
    }
   },
   "outputs": [],
   "source": [
    "from pyspark.sql.types import StructType,StructField,IntegerType,FloatType,StringType"
   ]
  },
  {
   "cell_type": "code",
   "execution_count": 0,
   "metadata": {
    "application/vnd.databricks.v1+cell": {
     "cellMetadata": {
      "byteLimit": 2048000,
      "rowLimit": 10000
     },
     "inputWidgets": {},
     "nuid": "ce66ec63-9bbe-4e45-823d-d362128520b1",
     "showTitle": false,
     "title": ""
    }
   },
   "outputs": [],
   "source": [
    "results_schema = StructType(fields = [StructField('resultId',IntegerType(),False),\n",
    "                                      StructField('raceId',IntegerType(),True),\n",
    "                                      StructField('driverId',IntegerType(),True),\n",
    "                                      StructField('constructorId',IntegerType(),True),\n",
    "                                      StructField('number',IntegerType(),True),\n",
    "                                      StructField('grid',IntegerType(),True),\n",
    "                                      StructField('position',IntegerType(),True),\n",
    "                                      StructField('positionText',StringType(),True),\n",
    "                                      StructField('positionOrder',IntegerType(),True),\n",
    "                                      StructField('points',FloatType(),True),\n",
    "                                      StructField('laps',IntegerType(),True),\n",
    "                                      StructField('time',StringType(),True),\n",
    "                                      StructField('milliseconds',IntegerType(),True),\n",
    "                                      StructField('fastestLap',IntegerType(),True),\n",
    "                                      StructField('rank',IntegerType(),True),\n",
    "                                      StructField('fastestLapTime',StringType(),True),\n",
    "                                      StructField('fastestLapSpeed',FloatType(),True),\n",
    "                                      StructField('statusId',StringType(),True),\n",
    "                                      ])"
   ]
  },
  {
   "cell_type": "code",
   "execution_count": 0,
   "metadata": {
    "application/vnd.databricks.v1+cell": {
     "cellMetadata": {
      "byteLimit": 2048000,
      "rowLimit": 10000
     },
     "inputWidgets": {},
     "nuid": "c5ab44b5-8ea8-4eed-95cb-488b3b9ed3ce",
     "showTitle": false,
     "title": ""
    }
   },
   "outputs": [],
   "source": [
    "results_df = spark.read.json(f\"{raw_folder_path}/results.json\",schema = results_schema)"
   ]
  },
  {
   "cell_type": "code",
   "execution_count": 0,
   "metadata": {
    "application/vnd.databricks.v1+cell": {
     "cellMetadata": {
      "byteLimit": 2048000,
      "rowLimit": 10000
     },
     "inputWidgets": {},
     "nuid": "fa2d0c23-d52e-42b4-a66b-c4cc70330714",
     "showTitle": false,
     "title": ""
    }
   },
   "outputs": [
    {
     "output_type": "stream",
     "name": "stdout",
     "output_type": "stream",
     "text": [
      "+--------+------+--------+-------------+------+----+--------+------------+-------------+------+----+-----------+------------+----------+----+--------------+---------------+--------+\n|resultId|raceId|driverId|constructorId|number|grid|position|positionText|positionOrder|points|laps|       time|milliseconds|fastestLap|rank|fastestLapTime|fastestLapSpeed|statusId|\n+--------+------+--------+-------------+------+----+--------+------------+-------------+------+----+-----------+------------+----------+----+--------------+---------------+--------+\n|       1|    18|       1|            1|    22|   1|       1|           1|            1|  10.0|  58|1:34:50.616|     5690616|        39|   2|      1:27.452|          218.3|       1|\n|       2|    18|       2|            2|     3|   5|       2|           2|            2|   8.0|  58|     +5.478|     5696094|        41|   3|      1:27.739|        217.586|       1|\n|       3|    18|       3|            3|     7|   7|       3|           3|            3|   6.0|  58|     +8.163|     5698779|        41|   5|      1:28.090|        216.719|       1|\n|       4|    18|       4|            4|     5|  11|       4|           4|            4|   5.0|  58|    +17.181|     5707797|        58|   7|      1:28.603|        215.464|       1|\n|       5|    18|       5|            1|    23|   3|       5|           5|            5|   4.0|  58|    +18.014|     5708630|        43|   1|      1:27.418|        218.385|       1|\n|       6|    18|       6|            3|     8|  13|       6|           6|            6|   3.0|  57|         \\N|        null|        50|  14|      1:29.639|        212.974|      11|\n|       7|    18|       7|            5|    14|  17|       7|           7|            7|   2.0|  55|         \\N|        null|        22|  12|      1:29.534|        213.224|       5|\n|       8|    18|       8|            6|     1|  15|       8|           8|            8|   1.0|  53|         \\N|        null|        20|   4|      1:27.903|         217.18|       5|\n|       9|    18|       9|            2|     4|   2|    null|           R|            9|   0.0|  47|         \\N|        null|        15|   9|      1:28.753|          215.1|       4|\n|      10|    18|      10|            7|    12|  18|    null|           R|           10|   0.0|  43|         \\N|        null|        23|  13|      1:29.558|        213.166|       3|\n+--------+------+--------+-------------+------+----+--------+------------+-------------+------+----+-----------+------------+----------+----+--------------+---------------+--------+\nonly showing top 10 rows\n\n"
     ]
    }
   ],
   "source": [
    "results_df.show(10)"
   ]
  },
  {
   "cell_type": "markdown",
   "metadata": {
    "application/vnd.databricks.v1+cell": {
     "cellMetadata": {
      "byteLimit": 2048000,
      "rowLimit": 10000
     },
     "inputWidgets": {},
     "nuid": "8760b9e5-b072-4901-b675-e1217e7c83d2",
     "showTitle": false,
     "title": ""
    }
   },
   "source": [
    "#####Step 2 - Rename the columns and add new columns"
   ]
  },
  {
   "cell_type": "code",
   "execution_count": 0,
   "metadata": {
    "application/vnd.databricks.v1+cell": {
     "cellMetadata": {
      "byteLimit": 2048000,
      "rowLimit": 10000
     },
     "inputWidgets": {},
     "nuid": "ddf6abd3-a378-42a2-92d7-a806adf0d9aa",
     "showTitle": false,
     "title": ""
    }
   },
   "outputs": [],
   "source": [
    "from pyspark.sql.functions import current_timestamp,lit"
   ]
  },
  {
   "cell_type": "code",
   "execution_count": 0,
   "metadata": {
    "application/vnd.databricks.v1+cell": {
     "cellMetadata": {
      "byteLimit": 2048000,
      "rowLimit": 10000
     },
     "inputWidgets": {},
     "nuid": "305717ba-324c-401c-8ef1-eb6c99943b13",
     "showTitle": false,
     "title": ""
    }
   },
   "outputs": [],
   "source": [
    "results_with_columns_df = results_df.withColumnRenamed('resultId','result_id') \\\n",
    "                                    .withColumnRenamed('raceId','race_id') \\\n",
    "                                    .withColumnRenamed('driverId','driver_id') \\\n",
    "                                    .withColumnRenamed('constructorId','constructor_id') \\\n",
    "                                    .withColumnRenamed('positionText','position_text') \\\n",
    "                                    .withColumnRenamed('positionOrder','position_order') \\\n",
    "                                    .withColumnRenamed('fastestLap','fastest_lap') \\\n",
    "                                    .withColumnRenamed('fastestLapTime','fastest_lap_time') \\\n",
    "                                    .withColumnRenamed('fastestLapSpeed','fastest_lap_speed') \\\n",
    "                                    .withColumn('ingestion_date',current_timestamp()) \\\n",
    "                                    .withColumn('data_source',lit(v_data_source))"
   ]
  },
  {
   "cell_type": "code",
   "execution_count": 0,
   "metadata": {
    "application/vnd.databricks.v1+cell": {
     "cellMetadata": {
      "byteLimit": 2048000,
      "rowLimit": 10000
     },
     "inputWidgets": {},
     "nuid": "c3d4849f-cdda-4758-8886-17a13b576907",
     "showTitle": false,
     "title": ""
    }
   },
   "outputs": [
    {
     "output_type": "stream",
     "name": "stdout",
     "output_type": "stream",
     "text": [
      "+---------+-------+---------+--------------+------+----+--------+-------------+--------------+------+----+-----------+------------+-----------+----+----------------+-----------------+--------+--------------------+-----------+\n|result_id|race_id|driver_id|constructor_id|number|grid|position|position_text|position_order|points|laps|       time|milliseconds|fastest_lap|rank|fastest_lap_time|fastest_lap_speed|statusId|      ingestion_date|data_source|\n+---------+-------+---------+--------------+------+----+--------+-------------+--------------+------+----+-----------+------------+-----------+----+----------------+-----------------+--------+--------------------+-----------+\n|        1|     18|        1|             1|    22|   1|       1|            1|             1|  10.0|  58|1:34:50.616|     5690616|         39|   2|        1:27.452|            218.3|       1|2023-09-30 18:03:...| Ergast API|\n|        2|     18|        2|             2|     3|   5|       2|            2|             2|   8.0|  58|     +5.478|     5696094|         41|   3|        1:27.739|          217.586|       1|2023-09-30 18:03:...| Ergast API|\n|        3|     18|        3|             3|     7|   7|       3|            3|             3|   6.0|  58|     +8.163|     5698779|         41|   5|        1:28.090|          216.719|       1|2023-09-30 18:03:...| Ergast API|\n|        4|     18|        4|             4|     5|  11|       4|            4|             4|   5.0|  58|    +17.181|     5707797|         58|   7|        1:28.603|          215.464|       1|2023-09-30 18:03:...| Ergast API|\n|        5|     18|        5|             1|    23|   3|       5|            5|             5|   4.0|  58|    +18.014|     5708630|         43|   1|        1:27.418|          218.385|       1|2023-09-30 18:03:...| Ergast API|\n|        6|     18|        6|             3|     8|  13|       6|            6|             6|   3.0|  57|         \\N|        null|         50|  14|        1:29.639|          212.974|      11|2023-09-30 18:03:...| Ergast API|\n|        7|     18|        7|             5|    14|  17|       7|            7|             7|   2.0|  55|         \\N|        null|         22|  12|        1:29.534|          213.224|       5|2023-09-30 18:03:...| Ergast API|\n|        8|     18|        8|             6|     1|  15|       8|            8|             8|   1.0|  53|         \\N|        null|         20|   4|        1:27.903|           217.18|       5|2023-09-30 18:03:...| Ergast API|\n|        9|     18|        9|             2|     4|   2|    null|            R|             9|   0.0|  47|         \\N|        null|         15|   9|        1:28.753|            215.1|       4|2023-09-30 18:03:...| Ergast API|\n|       10|     18|       10|             7|    12|  18|    null|            R|            10|   0.0|  43|         \\N|        null|         23|  13|        1:29.558|          213.166|       3|2023-09-30 18:03:...| Ergast API|\n+---------+-------+---------+--------------+------+----+--------+-------------+--------------+------+----+-----------+------------+-----------+----+----------------+-----------------+--------+--------------------+-----------+\nonly showing top 10 rows\n\n"
     ]
    }
   ],
   "source": [
    "results_with_columns_df.show(10)"
   ]
  },
  {
   "cell_type": "markdown",
   "metadata": {
    "application/vnd.databricks.v1+cell": {
     "cellMetadata": {
      "byteLimit": 2048000,
      "rowLimit": 10000
     },
     "inputWidgets": {},
     "nuid": "e1497f26-6f46-4fd4-8ad4-1a7622ba443d",
     "showTitle": false,
     "title": ""
    }
   },
   "source": [
    "#####Step 3 - Drop the unwanted column"
   ]
  },
  {
   "cell_type": "code",
   "execution_count": 0,
   "metadata": {
    "application/vnd.databricks.v1+cell": {
     "cellMetadata": {
      "byteLimit": 2048000,
      "rowLimit": 10000
     },
     "inputWidgets": {},
     "nuid": "dca252d0-1fa7-4bdb-bc24-8f9c568e5bb8",
     "showTitle": false,
     "title": ""
    }
   },
   "outputs": [],
   "source": [
    "from pyspark.sql.functions import col"
   ]
  },
  {
   "cell_type": "code",
   "execution_count": 0,
   "metadata": {
    "application/vnd.databricks.v1+cell": {
     "cellMetadata": {
      "byteLimit": 2048000,
      "rowLimit": 10000
     },
     "inputWidgets": {},
     "nuid": "c85745a1-1039-44a4-b19d-31f4b523f45b",
     "showTitle": false,
     "title": ""
    }
   },
   "outputs": [],
   "source": [
    "results_final_df = results_with_columns_df.drop(col('statusId'))"
   ]
  },
  {
   "cell_type": "code",
   "execution_count": 0,
   "metadata": {
    "application/vnd.databricks.v1+cell": {
     "cellMetadata": {
      "byteLimit": 2048000,
      "rowLimit": 10000
     },
     "inputWidgets": {},
     "nuid": "3bdd5083-f65f-45ad-b704-1b856a7450b4",
     "showTitle": false,
     "title": ""
    }
   },
   "outputs": [
    {
     "output_type": "stream",
     "name": "stdout",
     "output_type": "stream",
     "text": [
      "+---------+-------+---------+--------------+------+----+--------+-------------+--------------+------+----+-----------+------------+-----------+----+----------------+-----------------+--------------------+-----------+\n|result_id|race_id|driver_id|constructor_id|number|grid|position|position_text|position_order|points|laps|       time|milliseconds|fastest_lap|rank|fastest_lap_time|fastest_lap_speed|      ingestion_date|data_source|\n+---------+-------+---------+--------------+------+----+--------+-------------+--------------+------+----+-----------+------------+-----------+----+----------------+-----------------+--------------------+-----------+\n|        1|     18|        1|             1|    22|   1|       1|            1|             1|  10.0|  58|1:34:50.616|     5690616|         39|   2|        1:27.452|            218.3|2023-09-30 18:03:...| Ergast API|\n|        2|     18|        2|             2|     3|   5|       2|            2|             2|   8.0|  58|     +5.478|     5696094|         41|   3|        1:27.739|          217.586|2023-09-30 18:03:...| Ergast API|\n|        3|     18|        3|             3|     7|   7|       3|            3|             3|   6.0|  58|     +8.163|     5698779|         41|   5|        1:28.090|          216.719|2023-09-30 18:03:...| Ergast API|\n|        4|     18|        4|             4|     5|  11|       4|            4|             4|   5.0|  58|    +17.181|     5707797|         58|   7|        1:28.603|          215.464|2023-09-30 18:03:...| Ergast API|\n|        5|     18|        5|             1|    23|   3|       5|            5|             5|   4.0|  58|    +18.014|     5708630|         43|   1|        1:27.418|          218.385|2023-09-30 18:03:...| Ergast API|\n|        6|     18|        6|             3|     8|  13|       6|            6|             6|   3.0|  57|         \\N|        null|         50|  14|        1:29.639|          212.974|2023-09-30 18:03:...| Ergast API|\n|        7|     18|        7|             5|    14|  17|       7|            7|             7|   2.0|  55|         \\N|        null|         22|  12|        1:29.534|          213.224|2023-09-30 18:03:...| Ergast API|\n|        8|     18|        8|             6|     1|  15|       8|            8|             8|   1.0|  53|         \\N|        null|         20|   4|        1:27.903|           217.18|2023-09-30 18:03:...| Ergast API|\n|        9|     18|        9|             2|     4|   2|    null|            R|             9|   0.0|  47|         \\N|        null|         15|   9|        1:28.753|            215.1|2023-09-30 18:03:...| Ergast API|\n|       10|     18|       10|             7|    12|  18|    null|            R|            10|   0.0|  43|         \\N|        null|         23|  13|        1:29.558|          213.166|2023-09-30 18:03:...| Ergast API|\n+---------+-------+---------+--------------+------+----+--------+-------------+--------------+------+----+-----------+------------+-----------+----+----------------+-----------------+--------------------+-----------+\nonly showing top 10 rows\n\n"
     ]
    }
   ],
   "source": [
    "results_final_df.show(10)"
   ]
  },
  {
   "cell_type": "markdown",
   "metadata": {
    "application/vnd.databricks.v1+cell": {
     "cellMetadata": {
      "byteLimit": 2048000,
      "rowLimit": 10000
     },
     "inputWidgets": {},
     "nuid": "a8a136cb-cf5d-4d1d-9276-9eb5a3597f84",
     "showTitle": false,
     "title": ""
    }
   },
   "source": [
    "#####Step 4 - Write the output to processed container in parquet format"
   ]
  },
  {
   "cell_type": "code",
   "execution_count": 0,
   "metadata": {
    "application/vnd.databricks.v1+cell": {
     "cellMetadata": {
      "byteLimit": 2048000,
      "rowLimit": 10000
     },
     "inputWidgets": {},
     "nuid": "2390d7eb-ee8f-4588-924c-2bb34dc68735",
     "showTitle": false,
     "title": ""
    }
   },
   "outputs": [],
   "source": [
    "results_final_df.write.mode('overwrite').partitionBy('race_id').parquet(f\"{processed_folder_path}/results\")"
   ]
  },
  {
   "cell_type": "code",
   "execution_count": 0,
   "metadata": {
    "application/vnd.databricks.v1+cell": {
     "cellMetadata": {
      "byteLimit": 2048000,
      "rowLimit": 10000
     },
     "inputWidgets": {},
     "nuid": "3a18fd98-3c7b-4cae-9fe3-99f8cc6ec824",
     "showTitle": false,
     "title": ""
    }
   },
   "outputs": [],
   "source": [
    "dbutils.notebook.exit('Success')"
   ]
  }
 ],
 "metadata": {
  "application/vnd.databricks.v1+notebook": {
   "dashboards": [],
   "language": "python",
   "notebookMetadata": {
    "mostRecentlyExecutedCommandWithImplicitDF": {
     "commandId": 2130526269791795,
     "dataframes": [
      "_sqldf"
     ]
    },
    "pythonIndentUnit": 4
   },
   "notebookName": "6.Ingest_results_file",
   "widgets": {
    "p_data_source": {
     "currentValue": "Ergast API",
     "nuid": "a06650ca-62a1-4549-9ded-346bb72fab87",
     "widgetInfo": {
      "widgetType": "text",
      "defaultValue": "",
      "label": null,
      "name": "p_data_source",
      "options": {
       "widgetType": "text",
       "validationRegex": null
      }
     }
    }
   }
  }
 },
 "nbformat": 4,
 "nbformat_minor": 0
}
