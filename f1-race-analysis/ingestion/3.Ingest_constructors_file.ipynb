{
 "cells": [
  {
   "cell_type": "markdown",
   "metadata": {
    "application/vnd.databricks.v1+cell": {
     "cellMetadata": {
      "byteLimit": 2048000,
      "rowLimit": 10000
     },
     "inputWidgets": {},
     "nuid": "43490f5a-3d41-4cef-b2d9-2fe437c023d1",
     "showTitle": false,
     "title": ""
    }
   },
   "source": [
    "###Ingest constructors.json file"
   ]
  },
  {
   "cell_type": "code",
   "execution_count": 0,
   "metadata": {
    "application/vnd.databricks.v1+cell": {
     "cellMetadata": {
      "byteLimit": 2048000,
      "rowLimit": 10000
     },
     "inputWidgets": {},
     "nuid": "2e119148-551c-4bdd-9efb-4d7b95827f2a",
     "showTitle": false,
     "title": ""
    }
   },
   "outputs": [],
   "source": [
    "dbutils.widgets.text('p_data_source','')\n",
    "v_data_source = dbutils.widgets.get('p_data_source')"
   ]
  },
  {
   "cell_type": "code",
   "execution_count": 0,
   "metadata": {
    "application/vnd.databricks.v1+cell": {
     "cellMetadata": {
      "byteLimit": 2048000,
      "rowLimit": 10000
     },
     "inputWidgets": {},
     "nuid": "73211ce4-cab1-47be-bdc4-20e87e1953ff",
     "showTitle": false,
     "title": ""
    }
   },
   "outputs": [],
   "source": [
    "%run \"../includes/configuration\""
   ]
  },
  {
   "cell_type": "code",
   "execution_count": 0,
   "metadata": {
    "application/vnd.databricks.v1+cell": {
     "cellMetadata": {
      "byteLimit": 2048000,
      "rowLimit": 10000
     },
     "inputWidgets": {},
     "nuid": "3abaf3cc-77cf-42c7-9ae3-6f81287c1de2",
     "showTitle": false,
     "title": ""
    }
   },
   "outputs": [],
   "source": [
    "%run \"../includes/common_functions\""
   ]
  },
  {
   "cell_type": "markdown",
   "metadata": {
    "application/vnd.databricks.v1+cell": {
     "cellMetadata": {
      "byteLimit": 2048000,
      "rowLimit": 10000
     },
     "inputWidgets": {},
     "nuid": "daa2430c-8429-4b1a-a27c-1cdc5703099d",
     "showTitle": false,
     "title": ""
    }
   },
   "source": [
    "#####Step 1 - Read the JSON file using the spark dataframe reader"
   ]
  },
  {
   "cell_type": "code",
   "execution_count": 0,
   "metadata": {
    "application/vnd.databricks.v1+cell": {
     "cellMetadata": {
      "byteLimit": 2048000,
      "rowLimit": 10000
     },
     "inputWidgets": {},
     "nuid": "ff8f45cb-8adc-4b34-a087-7173aa7df93e",
     "showTitle": false,
     "title": ""
    }
   },
   "outputs": [],
   "source": [
    "constructors_schema = \"constructorId INT,constructorRef STRING,name STRING,nationality STRING,url STRING\""
   ]
  },
  {
   "cell_type": "code",
   "execution_count": 0,
   "metadata": {
    "application/vnd.databricks.v1+cell": {
     "cellMetadata": {
      "byteLimit": 2048000,
      "rowLimit": 10000
     },
     "inputWidgets": {},
     "nuid": "7a26a060-549a-4ecb-bafd-345d9f0c9bfe",
     "showTitle": false,
     "title": ""
    }
   },
   "outputs": [],
   "source": [
    "constructors_df = spark.read.json(f\"{raw_folder_path}/constructors.json\",schema=constructors_schema)"
   ]
  },
  {
   "cell_type": "code",
   "execution_count": 0,
   "metadata": {
    "application/vnd.databricks.v1+cell": {
     "cellMetadata": {
      "byteLimit": 2048000,
      "rowLimit": 10000
     },
     "inputWidgets": {},
     "nuid": "c5a7a8fa-ba6f-4b19-b3c5-5175960fa396",
     "showTitle": false,
     "title": ""
    }
   },
   "outputs": [
    {
     "output_type": "stream",
     "name": "stdout",
     "output_type": "stream",
     "text": [
      "+-------------+--------------+-----------+-----------+--------------------+\n|constructorId|constructorRef|       name|nationality|                 url|\n+-------------+--------------+-----------+-----------+--------------------+\n|            1|       mclaren|    McLaren|    British|http://en.wikiped...|\n|            2|    bmw_sauber| BMW Sauber|     German|http://en.wikiped...|\n|            3|      williams|   Williams|    British|http://en.wikiped...|\n|            4|       renault|    Renault|     French|http://en.wikiped...|\n|            5|    toro_rosso| Toro Rosso|    Italian|http://en.wikiped...|\n|            6|       ferrari|    Ferrari|    Italian|http://en.wikiped...|\n|            7|        toyota|     Toyota|   Japanese|http://en.wikiped...|\n|            8|   super_aguri|Super Aguri|   Japanese|http://en.wikiped...|\n|            9|      red_bull|   Red Bull|   Austrian|http://en.wikiped...|\n|           10|   force_india|Force India|     Indian|http://en.wikiped...|\n+-------------+--------------+-----------+-----------+--------------------+\nonly showing top 10 rows\n\n"
     ]
    }
   ],
   "source": [
    "constructors_df.show(10)"
   ]
  },
  {
   "cell_type": "markdown",
   "metadata": {
    "application/vnd.databricks.v1+cell": {
     "cellMetadata": {
      "byteLimit": 2048000,
      "rowLimit": 10000
     },
     "inputWidgets": {},
     "nuid": "0c626968-fd11-432c-b3be-66551c0c4858",
     "showTitle": false,
     "title": ""
    }
   },
   "source": [
    "#####Step 2 - Drop unwanted columns from the dataframe"
   ]
  },
  {
   "cell_type": "code",
   "execution_count": 0,
   "metadata": {
    "application/vnd.databricks.v1+cell": {
     "cellMetadata": {
      "byteLimit": 2048000,
      "rowLimit": 10000
     },
     "inputWidgets": {},
     "nuid": "4d413a85-a3cd-4ac8-9d0a-fa63cdbdd30d",
     "showTitle": false,
     "title": ""
    }
   },
   "outputs": [],
   "source": [
    "from pyspark.sql.functions import col"
   ]
  },
  {
   "cell_type": "code",
   "execution_count": 0,
   "metadata": {
    "application/vnd.databricks.v1+cell": {
     "cellMetadata": {
      "byteLimit": 2048000,
      "rowLimit": 10000
     },
     "inputWidgets": {},
     "nuid": "4fe28fd5-2ed5-489c-93c0-244a7b38dab3",
     "showTitle": false,
     "title": ""
    }
   },
   "outputs": [],
   "source": [
    "constructors_dropped_df = constructors_df.drop(col('url'))"
   ]
  },
  {
   "cell_type": "code",
   "execution_count": 0,
   "metadata": {
    "application/vnd.databricks.v1+cell": {
     "cellMetadata": {
      "byteLimit": 2048000,
      "rowLimit": 10000
     },
     "inputWidgets": {},
     "nuid": "63a50ae2-d778-4646-800a-e0d747713aec",
     "showTitle": false,
     "title": ""
    }
   },
   "outputs": [
    {
     "output_type": "stream",
     "name": "stdout",
     "output_type": "stream",
     "text": [
      "+-------------+--------------+-----------+-----------+\n|constructorId|constructorRef|       name|nationality|\n+-------------+--------------+-----------+-----------+\n|            1|       mclaren|    McLaren|    British|\n|            2|    bmw_sauber| BMW Sauber|     German|\n|            3|      williams|   Williams|    British|\n|            4|       renault|    Renault|     French|\n|            5|    toro_rosso| Toro Rosso|    Italian|\n|            6|       ferrari|    Ferrari|    Italian|\n|            7|        toyota|     Toyota|   Japanese|\n|            8|   super_aguri|Super Aguri|   Japanese|\n|            9|      red_bull|   Red Bull|   Austrian|\n|           10|   force_india|Force India|     Indian|\n+-------------+--------------+-----------+-----------+\nonly showing top 10 rows\n\n"
     ]
    }
   ],
   "source": [
    "constructors_dropped_df.show(10)"
   ]
  },
  {
   "cell_type": "markdown",
   "metadata": {
    "application/vnd.databricks.v1+cell": {
     "cellMetadata": {
      "byteLimit": 2048000,
      "rowLimit": 10000
     },
     "inputWidgets": {},
     "nuid": "29b8b718-f2c7-4b58-a6e4-f20107db38ad",
     "showTitle": false,
     "title": ""
    }
   },
   "source": [
    "#####Step 3 - Rename columns and add ingestion date"
   ]
  },
  {
   "cell_type": "code",
   "execution_count": 0,
   "metadata": {
    "application/vnd.databricks.v1+cell": {
     "cellMetadata": {
      "byteLimit": 2048000,
      "rowLimit": 10000
     },
     "inputWidgets": {},
     "nuid": "e1a40ed6-02d4-46fd-87d4-7bfec7764271",
     "showTitle": false,
     "title": ""
    }
   },
   "outputs": [],
   "source": [
    "from pyspark.sql.functions import current_timestamp,lit"
   ]
  },
  {
   "cell_type": "code",
   "execution_count": 0,
   "metadata": {
    "application/vnd.databricks.v1+cell": {
     "cellMetadata": {
      "byteLimit": 2048000,
      "rowLimit": 10000
     },
     "inputWidgets": {},
     "nuid": "08b5770d-2ec9-4de8-83b3-46cc333a45a0",
     "showTitle": false,
     "title": ""
    }
   },
   "outputs": [],
   "source": [
    "constructors_final_df = constructors_dropped_df.withColumnRenamed('constructorId','constructor_id') \\\n",
    "                                                .withColumnRenamed('constructorRef','constructor_ref') \\\n",
    "                                                .withColumn('ingestion_date',current_timestamp()) \\\n",
    "                                                .withColumn('data_source',lit(v_data_source))"
   ]
  },
  {
   "cell_type": "code",
   "execution_count": 0,
   "metadata": {
    "application/vnd.databricks.v1+cell": {
     "cellMetadata": {
      "byteLimit": 2048000,
      "rowLimit": 10000
     },
     "inputWidgets": {},
     "nuid": "09407c14-89c3-4225-866b-ebcdd129502e",
     "showTitle": false,
     "title": ""
    }
   },
   "outputs": [
    {
     "output_type": "stream",
     "name": "stdout",
     "output_type": "stream",
     "text": [
      "+--------------+---------------+-----------+-----------+--------------------+-----------+\n|constructor_id|constructor_ref|       name|nationality|      ingestion_date|data_source|\n+--------------+---------------+-----------+-----------+--------------------+-----------+\n|             1|        mclaren|    McLaren|    British|2023-09-30 17:59:...| Ergast API|\n|             2|     bmw_sauber| BMW Sauber|     German|2023-09-30 17:59:...| Ergast API|\n|             3|       williams|   Williams|    British|2023-09-30 17:59:...| Ergast API|\n|             4|        renault|    Renault|     French|2023-09-30 17:59:...| Ergast API|\n|             5|     toro_rosso| Toro Rosso|    Italian|2023-09-30 17:59:...| Ergast API|\n|             6|        ferrari|    Ferrari|    Italian|2023-09-30 17:59:...| Ergast API|\n|             7|         toyota|     Toyota|   Japanese|2023-09-30 17:59:...| Ergast API|\n|             8|    super_aguri|Super Aguri|   Japanese|2023-09-30 17:59:...| Ergast API|\n|             9|       red_bull|   Red Bull|   Austrian|2023-09-30 17:59:...| Ergast API|\n|            10|    force_india|Force India|     Indian|2023-09-30 17:59:...| Ergast API|\n+--------------+---------------+-----------+-----------+--------------------+-----------+\nonly showing top 10 rows\n\n"
     ]
    }
   ],
   "source": [
    "constructors_final_df.show(10)"
   ]
  },
  {
   "cell_type": "markdown",
   "metadata": {
    "application/vnd.databricks.v1+cell": {
     "cellMetadata": {
      "byteLimit": 2048000,
      "rowLimit": 10000
     },
     "inputWidgets": {},
     "nuid": "1e13076c-c521-4cea-b8ae-f79ffadffe79",
     "showTitle": false,
     "title": ""
    }
   },
   "source": [
    "#####Step 4 - Write the output to parquet file"
   ]
  },
  {
   "cell_type": "code",
   "execution_count": 0,
   "metadata": {
    "application/vnd.databricks.v1+cell": {
     "cellMetadata": {
      "byteLimit": 2048000,
      "rowLimit": 10000
     },
     "inputWidgets": {},
     "nuid": "85dbe5ac-2fcc-4795-8c13-abfe12be08f7",
     "showTitle": false,
     "title": ""
    }
   },
   "outputs": [],
   "source": [
    "constructors_final_df.write.mode('overwrite').parquet(f\"{processed_folder_path}/constructors\")"
   ]
  },
  {
   "cell_type": "code",
   "execution_count": 0,
   "metadata": {
    "application/vnd.databricks.v1+cell": {
     "cellMetadata": {
      "byteLimit": 2048000,
      "rowLimit": 10000
     },
     "inputWidgets": {},
     "nuid": "df2d6f6d-850f-47a7-85a6-9fbf5905220a",
     "showTitle": false,
     "title": ""
    }
   },
   "outputs": [],
   "source": [
    "dbutils.notebook.exit('Success')"
   ]
  }
 ],
 "metadata": {
  "application/vnd.databricks.v1+notebook": {
   "dashboards": [],
   "language": "python",
   "notebookMetadata": {
    "pythonIndentUnit": 4
   },
   "notebookName": "3.Ingest_constructors_file",
   "widgets": {
    "p_data_source": {
     "currentValue": "Ergast API",
     "nuid": "723918c7-98d9-405e-915b-0a6a26b8b017",
     "widgetInfo": {
      "widgetType": "text",
      "defaultValue": "",
      "label": null,
      "name": "p_data_source",
      "options": {
       "widgetType": "text",
       "validationRegex": null
      }
     }
    }
   }
  }
 },
 "nbformat": 4,
 "nbformat_minor": 0
}
