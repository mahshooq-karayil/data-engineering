{
 "cells": [
  {
   "cell_type": "markdown",
   "metadata": {
    "application/vnd.databricks.v1+cell": {
     "cellMetadata": {
      "byteLimit": 2048000,
      "rowLimit": 10000
     },
     "inputWidgets": {},
     "nuid": "29620a00-0665-455f-9ccc-92fd345201d3",
     "showTitle": false,
     "title": ""
    }
   },
   "source": [
    "###Ingest circuits.csv file"
   ]
  },
  {
   "cell_type": "code",
   "execution_count": 0,
   "metadata": {
    "application/vnd.databricks.v1+cell": {
     "cellMetadata": {
      "byteLimit": 2048000,
      "rowLimit": 10000
     },
     "inputWidgets": {},
     "nuid": "0c341f52-34a6-48bb-bbad-85db361c417a",
     "showTitle": false,
     "title": ""
    }
   },
   "outputs": [],
   "source": [
    "dbutils.widgets.text('p_data_source','')\n",
    "v_data_source = dbutils.widgets.get('p_data_source')"
   ]
  },
  {
   "cell_type": "code",
   "execution_count": 0,
   "metadata": {
    "application/vnd.databricks.v1+cell": {
     "cellMetadata": {
      "byteLimit": 2048000,
      "rowLimit": 10000
     },
     "inputWidgets": {},
     "nuid": "923a7eab-49c9-402d-a46a-b3736a64cec3",
     "showTitle": false,
     "title": ""
    }
   },
   "outputs": [],
   "source": [
    "%run \"../includes/configuration\""
   ]
  },
  {
   "cell_type": "code",
   "execution_count": 0,
   "metadata": {
    "application/vnd.databricks.v1+cell": {
     "cellMetadata": {
      "byteLimit": 2048000,
      "rowLimit": 10000
     },
     "inputWidgets": {},
     "nuid": "c0a6de01-c412-4ae3-b5ea-6ec59c164e6a",
     "showTitle": false,
     "title": ""
    }
   },
   "outputs": [],
   "source": [
    "%run \"../includes/common_functions\""
   ]
  },
  {
   "cell_type": "markdown",
   "metadata": {
    "application/vnd.databricks.v1+cell": {
     "cellMetadata": {
      "byteLimit": 2048000,
      "rowLimit": 10000
     },
     "inputWidgets": {},
     "nuid": "f003b791-8a50-42e7-ab82-e7650364e46b",
     "showTitle": false,
     "title": ""
    }
   },
   "source": [
    "#####Step 1 - Read the CSV file using the spark dataframe reader"
   ]
  },
  {
   "cell_type": "code",
   "execution_count": 0,
   "metadata": {
    "application/vnd.databricks.v1+cell": {
     "cellMetadata": {
      "byteLimit": 2048000,
      "rowLimit": 10000
     },
     "inputWidgets": {},
     "nuid": "3f57e6a3-0310-4d39-86aa-59b616d59d1f",
     "showTitle": false,
     "title": ""
    }
   },
   "outputs": [],
   "source": [
    "from pyspark.sql.types import StructType,StructField,IntegerType,StringType,DoubleType"
   ]
  },
  {
   "cell_type": "code",
   "execution_count": 0,
   "metadata": {
    "application/vnd.databricks.v1+cell": {
     "cellMetadata": {
      "byteLimit": 2048000,
      "rowLimit": 10000
     },
     "inputWidgets": {},
     "nuid": "9096b2fb-11fb-4f40-96a6-8581c6b980af",
     "showTitle": false,
     "title": ""
    }
   },
   "outputs": [],
   "source": [
    "circuits_schema=StructType(fields=[StructField('circuitid',IntegerType(),False),\n",
    "                                    StructField('circuitRef',StringType(),True),\n",
    "                                    StructField('name',StringType(),True),\n",
    "                                    StructField('location',StringType(),True),\n",
    "                                    StructField('country',StringType(),True),\n",
    "                                    StructField('lat',DoubleType(),True),\n",
    "                                    StructField('lng',DoubleType(),True),\n",
    "                                    StructField('alt',IntegerType(),True),\n",
    "                                    StructField('url',StringType(),True)]\n",
    "                            )"
   ]
  },
  {
   "cell_type": "code",
   "execution_count": 0,
   "metadata": {
    "application/vnd.databricks.v1+cell": {
     "cellMetadata": {
      "byteLimit": 2048000,
      "rowLimit": 10000
     },
     "inputWidgets": {},
     "nuid": "4fc52114-e1a2-4ac9-9998-86cda5671114",
     "showTitle": false,
     "title": ""
    }
   },
   "outputs": [],
   "source": [
    "circuits_df = spark.read.csv(f\"{raw_folder_path}/circuits.csv\",header=True,schema=circuits_schema)\n"
   ]
  },
  {
   "cell_type": "code",
   "execution_count": 0,
   "metadata": {
    "application/vnd.databricks.v1+cell": {
     "cellMetadata": {
      "byteLimit": 2048000,
      "rowLimit": 10000
     },
     "inputWidgets": {},
     "nuid": "51bd222e-d5ba-468e-bdca-b3cc07349851",
     "showTitle": false,
     "title": ""
    }
   },
   "outputs": [
    {
     "output_type": "stream",
     "name": "stdout",
     "output_type": "stream",
     "text": [
      "Out[7]: DataFrame[summary: string, circuitid: string, circuitRef: string, name: string, location: string, country: string, lat: string, lng: string, alt: string, url: string]"
     ]
    }
   ],
   "source": [
    "circuits_df.describe()"
   ]
  },
  {
   "cell_type": "markdown",
   "metadata": {
    "application/vnd.databricks.v1+cell": {
     "cellMetadata": {
      "byteLimit": 2048000,
      "rowLimit": 10000
     },
     "inputWidgets": {},
     "nuid": "473002b0-be88-4475-ad8a-256df4fbd4ed",
     "showTitle": false,
     "title": ""
    }
   },
   "source": [
    "#####Step 2 -Select only the required columns"
   ]
  },
  {
   "cell_type": "code",
   "execution_count": 0,
   "metadata": {
    "application/vnd.databricks.v1+cell": {
     "cellMetadata": {
      "byteLimit": 2048000,
      "rowLimit": 10000
     },
     "inputWidgets": {},
     "nuid": "a5df9a89-198c-42ea-8b28-4b7a0deebe42",
     "showTitle": false,
     "title": ""
    }
   },
   "outputs": [],
   "source": [
    "from pyspark.sql.functions import lit,col"
   ]
  },
  {
   "cell_type": "code",
   "execution_count": 0,
   "metadata": {
    "application/vnd.databricks.v1+cell": {
     "cellMetadata": {
      "byteLimit": 2048000,
      "rowLimit": 10000
     },
     "inputWidgets": {},
     "nuid": "9d565b20-57b5-49a9-9951-99de8fafb0e3",
     "showTitle": false,
     "title": ""
    }
   },
   "outputs": [],
   "source": [
    "circuits_selected = circuits_df.select(col('circuitid'),col('circuitRef'),\n",
    "                                       col('name'),col('location'),\n",
    "                                       col('country'),col('lat'),\n",
    "                                       col('lng'),col('alt'))"
   ]
  },
  {
   "cell_type": "markdown",
   "metadata": {
    "application/vnd.databricks.v1+cell": {
     "cellMetadata": {
      "byteLimit": 2048000,
      "rowLimit": 10000
     },
     "inputWidgets": {},
     "nuid": "efcb4617-55d5-430d-934a-a344add5a061",
     "showTitle": false,
     "title": ""
    }
   },
   "source": [
    "#####Step 3 - Rename the columns as required"
   ]
  },
  {
   "cell_type": "code",
   "execution_count": 0,
   "metadata": {
    "application/vnd.databricks.v1+cell": {
     "cellMetadata": {
      "byteLimit": 2048000,
      "rowLimit": 10000
     },
     "inputWidgets": {},
     "nuid": "abf47fdc-c994-4870-b582-962aa5dc1b22",
     "showTitle": false,
     "title": ""
    }
   },
   "outputs": [],
   "source": [
    "circuits_renamed_df = circuits_selected.withColumnRenamed('circuitId','circuit_id') \\\n",
    "    .withColumnRenamed('circuitRef','circuit_ref') \\\n",
    "    .withColumnRenamed('lat','latitude') \\\n",
    "    .withColumnRenamed('lng','longitude') \\\n",
    "    .withColumnRenamed('alt','altitude') \\\n",
    "    .withColumn('data_source',lit(v_data_source))"
   ]
  },
  {
   "cell_type": "markdown",
   "metadata": {
    "application/vnd.databricks.v1+cell": {
     "cellMetadata": {
      "byteLimit": 2048000,
      "rowLimit": 10000
     },
     "inputWidgets": {},
     "nuid": "93144d5d-ab2f-46e4-8bdf-58ba722b2b81",
     "showTitle": false,
     "title": ""
    }
   },
   "source": [
    "#####Step 4 - Add ingestion date to the dataframe"
   ]
  },
  {
   "cell_type": "code",
   "execution_count": 0,
   "metadata": {
    "application/vnd.databricks.v1+cell": {
     "cellMetadata": {
      "byteLimit": 2048000,
      "rowLimit": 10000
     },
     "inputWidgets": {},
     "nuid": "10a9d4f7-9b10-41bb-9ea3-98f9568e9667",
     "showTitle": false,
     "title": ""
    }
   },
   "outputs": [],
   "source": [
    "circuits_final_df = add_ingestion_date(circuits_renamed_df)"
   ]
  },
  {
   "cell_type": "markdown",
   "metadata": {
    "application/vnd.databricks.v1+cell": {
     "cellMetadata": {
      "byteLimit": 2048000,
      "rowLimit": 10000
     },
     "inputWidgets": {},
     "nuid": "184466c2-182e-4303-93dc-3b162558b56a",
     "showTitle": false,
     "title": ""
    }
   },
   "source": [
    "##### Step 4 - Write the output to processed container in parquet file"
   ]
  },
  {
   "cell_type": "code",
   "execution_count": 0,
   "metadata": {
    "application/vnd.databricks.v1+cell": {
     "cellMetadata": {
      "byteLimit": 2048000,
      "rowLimit": 10000
     },
     "inputWidgets": {},
     "nuid": "6a0a9a76-8131-4d69-b062-cfaa6c71a048",
     "showTitle": false,
     "title": ""
    }
   },
   "outputs": [],
   "source": [
    "circuits_final_df.write.mode('overwrite').parquet(f\"{processed_folder_path}/circuits\")"
   ]
  },
  {
   "cell_type": "code",
   "execution_count": 0,
   "metadata": {
    "application/vnd.databricks.v1+cell": {
     "cellMetadata": {
      "byteLimit": 2048000,
      "rowLimit": 10000
     },
     "inputWidgets": {},
     "nuid": "681f68ca-17c8-41e5-a136-f9d6ce289d4a",
     "showTitle": false,
     "title": ""
    }
   },
   "outputs": [],
   "source": [
    "dbutils.notebook.exit('Success')"
   ]
  }
 ],
 "metadata": {
  "application/vnd.databricks.v1+notebook": {
   "dashboards": [],
   "language": "python",
   "notebookMetadata": {
    "mostRecentlyExecutedCommandWithImplicitDF": {
     "commandId": 2846924869919849,
     "dataframes": [
      "_sqldf"
     ]
    },
    "pythonIndentUnit": 4
   },
   "notebookName": "1.ingest_circuits_file",
   "widgets": {
    "p_data_source": {
     "currentValue": "Ergast API",
     "nuid": "fc152e53-da8e-4f5d-98e0-14c3e566e317",
     "widgetInfo": {
      "widgetType": "text",
      "defaultValue": "",
      "label": null,
      "name": "p_data_source",
      "options": {
       "widgetType": "text",
       "validationRegex": null
      }
     }
    },
    "p_data_source 123": {
     "currentValue": "",
     "nuid": "831a48f3-d49e-4bb6-99ad-f2e9f8190339",
     "widgetInfo": {
      "widgetType": "text",
      "defaultValue": "",
      "label": null,
      "name": "p_data_source 123",
      "options": {
       "widgetType": "text",
       "validationRegex": null
      }
     }
    }
   }
  }
 },
 "nbformat": 4,
 "nbformat_minor": 0
}
