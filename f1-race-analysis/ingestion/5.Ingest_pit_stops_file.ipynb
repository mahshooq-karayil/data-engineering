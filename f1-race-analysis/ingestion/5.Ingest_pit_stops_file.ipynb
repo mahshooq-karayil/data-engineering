{
 "cells": [
  {
   "cell_type": "markdown",
   "metadata": {
    "application/vnd.databricks.v1+cell": {
     "cellMetadata": {
      "byteLimit": 2048000,
      "rowLimit": 10000
     },
     "inputWidgets": {},
     "nuid": "e7d97c89-3768-4417-8e55-f601c1474b18",
     "showTitle": false,
     "title": ""
    }
   },
   "source": [
    "###Ingest pit_stops.json file"
   ]
  },
  {
   "cell_type": "code",
   "execution_count": 0,
   "metadata": {
    "application/vnd.databricks.v1+cell": {
     "cellMetadata": {
      "byteLimit": 2048000,
      "rowLimit": 10000
     },
     "inputWidgets": {},
     "nuid": "06092723-1a47-46db-91d4-3caf65edf014",
     "showTitle": false,
     "title": ""
    }
   },
   "outputs": [],
   "source": [
    "dbutils.widgets.text('p_data_source','')\n",
    "v_data_source = dbutils.widgets.get('p_data_source')"
   ]
  },
  {
   "cell_type": "code",
   "execution_count": 0,
   "metadata": {
    "application/vnd.databricks.v1+cell": {
     "cellMetadata": {
      "byteLimit": 2048000,
      "rowLimit": 10000
     },
     "inputWidgets": {},
     "nuid": "a3898380-82a9-46f2-b33d-857153776b94",
     "showTitle": false,
     "title": ""
    }
   },
   "outputs": [],
   "source": [
    "%run \"../includes/configuration\""
   ]
  },
  {
   "cell_type": "code",
   "execution_count": 0,
   "metadata": {
    "application/vnd.databricks.v1+cell": {
     "cellMetadata": {
      "byteLimit": 2048000,
      "rowLimit": 10000
     },
     "inputWidgets": {},
     "nuid": "d2462393-04bf-4aa3-afbb-141eb48238dc",
     "showTitle": false,
     "title": ""
    }
   },
   "outputs": [],
   "source": [
    "%run \"../includes/common_functions\""
   ]
  },
  {
   "cell_type": "markdown",
   "metadata": {
    "application/vnd.databricks.v1+cell": {
     "cellMetadata": {
      "byteLimit": 2048000,
      "rowLimit": 10000
     },
     "inputWidgets": {},
     "nuid": "471166e0-1003-49c2-9048-604a7dec8573",
     "showTitle": false,
     "title": ""
    }
   },
   "source": [
    "#####Step 1 - Read the JSON file using the spark dataframe reader API"
   ]
  },
  {
   "cell_type": "code",
   "execution_count": 0,
   "metadata": {
    "application/vnd.databricks.v1+cell": {
     "cellMetadata": {
      "byteLimit": 2048000,
      "rowLimit": 10000
     },
     "inputWidgets": {},
     "nuid": "746a03b3-01cb-4291-9104-39183052c668",
     "showTitle": false,
     "title": ""
    }
   },
   "outputs": [],
   "source": [
    "from pyspark.sql.types import StructType,StructField,StringType,IntegerType"
   ]
  },
  {
   "cell_type": "code",
   "execution_count": 0,
   "metadata": {
    "application/vnd.databricks.v1+cell": {
     "cellMetadata": {
      "byteLimit": 2048000,
      "rowLimit": 10000
     },
     "inputWidgets": {},
     "nuid": "0b7d8685-e689-40aa-a2d5-c1e5b7440683",
     "showTitle": false,
     "title": ""
    }
   },
   "outputs": [],
   "source": [
    "pit_stops_schema = StructType(fields = [StructField('raceId',IntegerType(),False),\n",
    "                                      StructField('driverId',IntegerType(),True),\n",
    "                                      StructField('stop',StringType(),True),\n",
    "                                      StructField('lap',IntegerType(),True),\n",
    "                                      StructField('time',StringType(),True),\n",
    "                                      StructField('duration',StringType(),True),\n",
    "                                      StructField('milliseconds',IntegerType(),True)])"
   ]
  },
  {
   "cell_type": "code",
   "execution_count": 0,
   "metadata": {
    "application/vnd.databricks.v1+cell": {
     "cellMetadata": {
      "byteLimit": 2048000,
      "rowLimit": 10000
     },
     "inputWidgets": {},
     "nuid": "4c4fc91d-64a5-451b-b316-69c98f04a0b6",
     "showTitle": false,
     "title": ""
    }
   },
   "outputs": [],
   "source": [
    "pit_stops_df = spark.read.option('multiline',True).json(f\"{raw_folder_path}/pit_stops.json\",schema = pit_stops_schema)"
   ]
  },
  {
   "cell_type": "code",
   "execution_count": 0,
   "metadata": {
    "application/vnd.databricks.v1+cell": {
     "cellMetadata": {
      "byteLimit": 2048000,
      "rowLimit": 10000
     },
     "inputWidgets": {},
     "nuid": "bd8ca9b4-14a4-49b6-b97a-8cb14214dc92",
     "showTitle": false,
     "title": ""
    }
   },
   "outputs": [
    {
     "output_type": "stream",
     "name": "stdout",
     "output_type": "stream",
     "text": [
      "+------+--------+----+---+--------+--------+------------+\n|raceId|driverId|stop|lap|    time|duration|milliseconds|\n+------+--------+----+---+--------+--------+------------+\n|   841|     153|   1|  1|17:05:23|  26.898|       26898|\n|   841|      30|   1|  1|17:05:52|  25.021|       25021|\n|   841|      17|   1| 11|17:20:48|  23.426|       23426|\n|   841|       4|   1| 12|17:22:34|  23.251|       23251|\n|   841|      13|   1| 13|17:24:10|  23.842|       23842|\n|   841|      22|   1| 13|17:24:29|  23.643|       23643|\n|   841|      20|   1| 14|17:25:17|  22.603|       22603|\n|   841|     814|   1| 14|17:26:03|  24.863|       24863|\n|   841|     816|   1| 14|17:26:50|  25.259|       25259|\n|   841|      67|   1| 15|17:27:34|  25.342|       25342|\n+------+--------+----+---+--------+--------+------------+\nonly showing top 10 rows\n\n"
     ]
    }
   ],
   "source": [
    "pit_stops_df.show(10)"
   ]
  },
  {
   "cell_type": "markdown",
   "metadata": {
    "application/vnd.databricks.v1+cell": {
     "cellMetadata": {
      "byteLimit": 2048000,
      "rowLimit": 10000
     },
     "inputWidgets": {},
     "nuid": "17c48ae8-0911-4449-bddd-9fdf9df33280",
     "showTitle": false,
     "title": ""
    }
   },
   "source": [
    "#####Step 2 - Rename columns and add new columns"
   ]
  },
  {
   "cell_type": "code",
   "execution_count": 0,
   "metadata": {
    "application/vnd.databricks.v1+cell": {
     "cellMetadata": {
      "byteLimit": 2048000,
      "rowLimit": 10000
     },
     "inputWidgets": {},
     "nuid": "6987b085-a387-4351-a245-8701f76482dd",
     "showTitle": false,
     "title": ""
    }
   },
   "outputs": [],
   "source": [
    "from pyspark.sql.functions import current_timestamp,lit"
   ]
  },
  {
   "cell_type": "code",
   "execution_count": 0,
   "metadata": {
    "application/vnd.databricks.v1+cell": {
     "cellMetadata": {
      "byteLimit": 2048000,
      "rowLimit": 10000
     },
     "inputWidgets": {},
     "nuid": "b2e19352-a843-463e-8d89-df5e8bc2c063",
     "showTitle": false,
     "title": ""
    }
   },
   "outputs": [],
   "source": [
    "pit_stops_final_df = pit_stops_df.withColumnRenamed('driverId','driver_id') \\\n",
    "        .withColumnRenamed('raceId','race_id') \\\n",
    "        .withColumn('ingestion_date',current_timestamp()) \\\n",
    "        .withColumn('data_source',lit(v_data_source))"
   ]
  },
  {
   "cell_type": "code",
   "execution_count": 0,
   "metadata": {
    "application/vnd.databricks.v1+cell": {
     "cellMetadata": {
      "byteLimit": 2048000,
      "rowLimit": 10000
     },
     "inputWidgets": {},
     "nuid": "4df84218-ced6-47e6-aa3c-a3fbed4078da",
     "showTitle": false,
     "title": ""
    }
   },
   "outputs": [
    {
     "output_type": "stream",
     "name": "stdout",
     "output_type": "stream",
     "text": [
      "+-------+---------+----+---+--------+--------+------------+--------------------+-----------+\n|race_id|driver_id|stop|lap|    time|duration|milliseconds|      ingestion_date|data_source|\n+-------+---------+----+---+--------+--------+------------+--------------------+-----------+\n|    841|      153|   1|  1|17:05:23|  26.898|       26898|2023-09-30 18:02:...| Ergast API|\n|    841|       30|   1|  1|17:05:52|  25.021|       25021|2023-09-30 18:02:...| Ergast API|\n|    841|       17|   1| 11|17:20:48|  23.426|       23426|2023-09-30 18:02:...| Ergast API|\n|    841|        4|   1| 12|17:22:34|  23.251|       23251|2023-09-30 18:02:...| Ergast API|\n|    841|       13|   1| 13|17:24:10|  23.842|       23842|2023-09-30 18:02:...| Ergast API|\n|    841|       22|   1| 13|17:24:29|  23.643|       23643|2023-09-30 18:02:...| Ergast API|\n|    841|       20|   1| 14|17:25:17|  22.603|       22603|2023-09-30 18:02:...| Ergast API|\n|    841|      814|   1| 14|17:26:03|  24.863|       24863|2023-09-30 18:02:...| Ergast API|\n|    841|      816|   1| 14|17:26:50|  25.259|       25259|2023-09-30 18:02:...| Ergast API|\n|    841|       67|   1| 15|17:27:34|  25.342|       25342|2023-09-30 18:02:...| Ergast API|\n+-------+---------+----+---+--------+--------+------------+--------------------+-----------+\nonly showing top 10 rows\n\n"
     ]
    }
   ],
   "source": [
    "pit_stops_final_df.show(10)"
   ]
  },
  {
   "cell_type": "markdown",
   "metadata": {
    "application/vnd.databricks.v1+cell": {
     "cellMetadata": {
      "byteLimit": 2048000,
      "rowLimit": 10000
     },
     "inputWidgets": {},
     "nuid": "9a6cbdfb-631c-4d1f-b816-96f2d017a0a2",
     "showTitle": false,
     "title": ""
    }
   },
   "source": [
    "#####Step 3 - Write the output to processed container in parquet format"
   ]
  },
  {
   "cell_type": "code",
   "execution_count": 0,
   "metadata": {
    "application/vnd.databricks.v1+cell": {
     "cellMetadata": {
      "byteLimit": 2048000,
      "rowLimit": 10000
     },
     "inputWidgets": {},
     "nuid": "1f9df8e3-e66d-4113-96f6-442b8c1becfe",
     "showTitle": false,
     "title": ""
    }
   },
   "outputs": [],
   "source": [
    "pit_stops_final_df.write.mode('overwrite').parquet(f\"{processed_folder_path}/pit_stops\")"
   ]
  },
  {
   "cell_type": "code",
   "execution_count": 0,
   "metadata": {
    "application/vnd.databricks.v1+cell": {
     "cellMetadata": {
      "byteLimit": 2048000,
      "rowLimit": 10000
     },
     "inputWidgets": {},
     "nuid": "505e4b2d-4b47-4c70-8a42-7378fc945561",
     "showTitle": false,
     "title": ""
    }
   },
   "outputs": [],
   "source": [
    "dbutils.notebook.exit('Success')"
   ]
  }
 ],
 "metadata": {
  "application/vnd.databricks.v1+notebook": {
   "dashboards": [],
   "language": "python",
   "notebookMetadata": {
    "pythonIndentUnit": 4
   },
   "notebookName": "5.Ingest_pit_stops_file",
   "widgets": {
    "p_data_source": {
     "currentValue": "Ergast API",
     "nuid": "6b291bfe-8346-4e49-be90-6cb5da5b9054",
     "widgetInfo": {
      "widgetType": "text",
      "defaultValue": "",
      "label": null,
      "name": "p_data_source",
      "options": {
       "widgetType": "text",
       "validationRegex": null
      }
     }
    }
   }
  }
 },
 "nbformat": 4,
 "nbformat_minor": 0
}
