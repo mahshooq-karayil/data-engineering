{
 "cells": [
  {
   "cell_type": "code",
   "execution_count": 0,
   "metadata": {
    "application/vnd.databricks.v1+cell": {
     "cellMetadata": {
      "byteLimit": 2048000,
      "rowLimit": 10000
     },
     "inputWidgets": {},
     "nuid": "c3d0199c-8153-468e-bf4b-0e6ce7b6e42c",
     "showTitle": false,
     "title": ""
    }
   },
   "outputs": [],
   "source": [
    "raw_folder_path = '/FileStore/f1/raw'\n",
    "processed_folder_path = '/FileStore/f1/processed'\n",
    "presentation_folder_path = '/FileStore/f1/presentation'"
   ]
  }
 ],
 "metadata": {
  "application/vnd.databricks.v1+notebook": {
   "dashboards": [],
   "language": "python",
   "notebookMetadata": {
    "mostRecentlyExecutedCommandWithImplicitDF": {
     "commandId": 826179867947543,
     "dataframes": [
      "_sqldf"
     ]
    },
    "pythonIndentUnit": 4
   },
   "notebookName": "configuration",
   "widgets": {}
  }
 },
 "nbformat": 4,
 "nbformat_minor": 0
}
