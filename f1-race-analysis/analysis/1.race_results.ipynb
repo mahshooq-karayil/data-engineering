{
 "cells": [
  {
   "cell_type": "code",
   "execution_count": 0,
   "metadata": {
    "application/vnd.databricks.v1+cell": {
     "cellMetadata": {
      "byteLimit": 2048000,
      "rowLimit": 10000
     },
     "inputWidgets": {},
     "nuid": "cb5469c3-8332-4d51-ba3b-2c7e8225c2a3",
     "showTitle": false,
     "title": ""
    }
   },
   "outputs": [],
   "source": [
    "# https://www.bbc.com/sport/formula1/2020/abu-dhabi-grand-prix/results"
   ]
  },
  {
   "cell_type": "code",
   "execution_count": 0,
   "metadata": {
    "application/vnd.databricks.v1+cell": {
     "cellMetadata": {
      "byteLimit": 2048000,
      "rowLimit": 10000
     },
     "inputWidgets": {},
     "nuid": "384651b8-67e9-407c-9551-93922c59df85",
     "showTitle": false,
     "title": ""
    }
   },
   "outputs": [],
   "source": [
    "%run \"../includes/configuration\""
   ]
  },
  {
   "cell_type": "code",
   "execution_count": 0,
   "metadata": {
    "application/vnd.databricks.v1+cell": {
     "cellMetadata": {
      "byteLimit": 2048000,
      "rowLimit": 10000
     },
     "inputWidgets": {},
     "nuid": "cbaed91f-9684-410a-9e0b-1402045f9f3c",
     "showTitle": false,
     "title": ""
    }
   },
   "outputs": [],
   "source": [
    "drivers_df = spark.read.parquet(f\"{processed_folder_path}/drivers\")\\\n",
    "    .withColumnRenamed(\"number\",\"driver_number\")\\\n",
    "    .withColumnRenamed(\"name\",\"driver_name\")\\\n",
    "    .withColumnRenamed(\"nationality\",\"driver_nationality\")"
   ]
  },
  {
   "cell_type": "code",
   "execution_count": 0,
   "metadata": {
    "application/vnd.databricks.v1+cell": {
     "cellMetadata": {
      "byteLimit": 2048000,
      "rowLimit": 10000
     },
     "inputWidgets": {},
     "nuid": "14e26dcc-d956-4b65-afff-19674347eb58",
     "showTitle": false,
     "title": ""
    }
   },
   "outputs": [
    {
     "output_type": "stream",
     "name": "stdout",
     "output_type": "stream",
     "text": [
      "+---------+----------+-------------+----+------------------+----------+------------------+--------------------+-----------+\n|driver_id|driver_ref|driver_number|code|       driver_name|       dob|driver_nationality|      ingestion_date|data_source|\n+---------+----------+-------------+----+------------------+----------+------------------+--------------------+-----------+\n|        1|  hamilton|           44| HAM|    Lewis Hamilton|1985-01-07|           British|2023-09-30 14:27:...| Ergast API|\n|        2|  heidfeld|         null| HEI|     Nick Heidfeld|1977-05-10|            German|2023-09-30 14:27:...| Ergast API|\n|        3|   rosberg|            6| ROS|      Nico Rosberg|1985-06-27|            German|2023-09-30 14:27:...| Ergast API|\n|        4|    alonso|           14| ALO|   Fernando Alonso|1981-07-29|           Spanish|2023-09-30 14:27:...| Ergast API|\n|        5|kovalainen|         null| KOV| Heikki Kovalainen|1981-10-19|           Finnish|2023-09-30 14:27:...| Ergast API|\n|        6|  nakajima|         null| NAK|   Kazuki Nakajima|1985-01-11|          Japanese|2023-09-30 14:27:...| Ergast API|\n|        7|  bourdais|         null| BOU|Sébastien Bourdais|1979-02-28|            French|2023-09-30 14:27:...| Ergast API|\n|        8| raikkonen|            7| RAI|    Kimi Räikkönen|1979-10-17|           Finnish|2023-09-30 14:27:...| Ergast API|\n|        9|    kubica|           88| KUB|     Robert Kubica|1984-12-07|            Polish|2023-09-30 14:27:...| Ergast API|\n|       10|     glock|         null| GLO|        Timo Glock|1982-03-18|            German|2023-09-30 14:27:...| Ergast API|\n+---------+----------+-------------+----+------------------+----------+------------------+--------------------+-----------+\nonly showing top 10 rows\n\n"
     ]
    }
   ],
   "source": [
    "drivers_df.show(10)"
   ]
  },
  {
   "cell_type": "code",
   "execution_count": 0,
   "metadata": {
    "application/vnd.databricks.v1+cell": {
     "cellMetadata": {
      "byteLimit": 2048000,
      "rowLimit": 10000
     },
     "inputWidgets": {},
     "nuid": "9196ceec-2821-420f-bd49-a55b5272a2d9",
     "showTitle": false,
     "title": ""
    }
   },
   "outputs": [],
   "source": [
    "constructors_df = spark.read.parquet(f\"{processed_folder_path}/constructors\")\\\n",
    "    .withColumnRenamed(\"name\",\"team\")"
   ]
  },
  {
   "cell_type": "code",
   "execution_count": 0,
   "metadata": {
    "application/vnd.databricks.v1+cell": {
     "cellMetadata": {
      "byteLimit": 2048000,
      "rowLimit": 10000
     },
     "inputWidgets": {},
     "nuid": "64eaa48e-2782-487a-9267-0f3c1a2ac022",
     "showTitle": false,
     "title": ""
    }
   },
   "outputs": [
    {
     "output_type": "stream",
     "name": "stdout",
     "output_type": "stream",
     "text": [
      "+--------------+---------------+-----------+-----------+--------------------+-----------+\n|constructor_id|constructor_ref|       team|nationality|      ingestion_date|data_source|\n+--------------+---------------+-----------+-----------+--------------------+-----------+\n|             1|        mclaren|    McLaren|    British|2023-09-30 14:26:...| Ergast API|\n|             2|     bmw_sauber| BMW Sauber|     German|2023-09-30 14:26:...| Ergast API|\n|             3|       williams|   Williams|    British|2023-09-30 14:26:...| Ergast API|\n|             4|        renault|    Renault|     French|2023-09-30 14:26:...| Ergast API|\n|             5|     toro_rosso| Toro Rosso|    Italian|2023-09-30 14:26:...| Ergast API|\n|             6|        ferrari|    Ferrari|    Italian|2023-09-30 14:26:...| Ergast API|\n|             7|         toyota|     Toyota|   Japanese|2023-09-30 14:26:...| Ergast API|\n|             8|    super_aguri|Super Aguri|   Japanese|2023-09-30 14:26:...| Ergast API|\n|             9|       red_bull|   Red Bull|   Austrian|2023-09-30 14:26:...| Ergast API|\n|            10|    force_india|Force India|     Indian|2023-09-30 14:26:...| Ergast API|\n+--------------+---------------+-----------+-----------+--------------------+-----------+\nonly showing top 10 rows\n\n"
     ]
    }
   ],
   "source": [
    "constructors_df.show(10)"
   ]
  },
  {
   "cell_type": "code",
   "execution_count": 0,
   "metadata": {
    "application/vnd.databricks.v1+cell": {
     "cellMetadata": {
      "byteLimit": 2048000,
      "rowLimit": 10000
     },
     "inputWidgets": {},
     "nuid": "1a111ecd-978b-4293-8265-88a4fb0a42d1",
     "showTitle": false,
     "title": ""
    }
   },
   "outputs": [],
   "source": [
    "circuits_df = spark.read.parquet(f\"{processed_folder_path}/circuits\")\\\n",
    "    .withColumnRenamed(\"location\",\"circuit_location\")"
   ]
  },
  {
   "cell_type": "code",
   "execution_count": 0,
   "metadata": {
    "application/vnd.databricks.v1+cell": {
     "cellMetadata": {
      "byteLimit": 2048000,
      "rowLimit": 10000
     },
     "inputWidgets": {},
     "nuid": "e2efd367-1fe4-45e1-a909-6ea4bdf9d601",
     "showTitle": false,
     "title": ""
    }
   },
   "outputs": [
    {
     "output_type": "stream",
     "name": "stdout",
     "output_type": "stream",
     "text": [
      "+----------+--------------+--------------------+----------------+---------+--------+---------+--------+-----------+--------------------+\n|circuit_id|   circuit_ref|                name|circuit_location|  country|latitude|longitude|altitude|data_source|      ingestion date|\n+----------+--------------+--------------------+----------------+---------+--------+---------+--------+-----------+--------------------+\n|         1|   albert_park|Albert Park Grand...|       Melbourne|Australia|-37.8497|  144.968|      10| Ergast API|2023-09-30 14:25:...|\n|         2|        sepang|Sepang Internatio...|    Kuala Lumpur| Malaysia| 2.76083|  101.738|      18| Ergast API|2023-09-30 14:25:...|\n|         3|       bahrain|Bahrain Internati...|          Sakhir|  Bahrain| 26.0325|  50.5106|       7| Ergast API|2023-09-30 14:25:...|\n|         4|     catalunya|Circuit de Barcel...|        Montmeló|    Spain|   41.57|  2.26111|     109| Ergast API|2023-09-30 14:25:...|\n|         5|      istanbul|       Istanbul Park|        Istanbul|   Turkey| 40.9517|   29.405|     130| Ergast API|2023-09-30 14:25:...|\n|         6|        monaco|   Circuit de Monaco|     Monte-Carlo|   Monaco| 43.7347|  7.42056|       7| Ergast API|2023-09-30 14:25:...|\n|         7|    villeneuve|Circuit Gilles Vi...|        Montreal|   Canada|    45.5| -73.5228|      13| Ergast API|2023-09-30 14:25:...|\n|         8|   magny_cours|Circuit de Nevers...|     Magny Cours|   France| 46.8642|  3.16361|     228| Ergast API|2023-09-30 14:25:...|\n|         9|   silverstone| Silverstone Circuit|     Silverstone|       UK| 52.0786| -1.01694|     153| Ergast API|2023-09-30 14:25:...|\n|        10|hockenheimring|      Hockenheimring|      Hockenheim|  Germany| 49.3278|  8.56583|     103| Ergast API|2023-09-30 14:25:...|\n+----------+--------------+--------------------+----------------+---------+--------+---------+--------+-----------+--------------------+\nonly showing top 10 rows\n\n"
     ]
    }
   ],
   "source": [
    "circuits_df.show(10)"
   ]
  },
  {
   "cell_type": "code",
   "execution_count": 0,
   "metadata": {
    "application/vnd.databricks.v1+cell": {
     "cellMetadata": {
      "byteLimit": 2048000,
      "rowLimit": 10000
     },
     "inputWidgets": {},
     "nuid": "750d545d-e184-4c2f-82ea-fb35dc81a865",
     "showTitle": false,
     "title": ""
    }
   },
   "outputs": [],
   "source": [
    "races_df = spark.read.parquet(f\"{processed_folder_path}/races\")\\\n",
    "    .withColumnRenamed(\"name\",\"race_name\")\\\n",
    "    .withColumnRenamed(\"race_timestamp\",\"race_date\")"
   ]
  },
  {
   "cell_type": "code",
   "execution_count": 0,
   "metadata": {
    "application/vnd.databricks.v1+cell": {
     "cellMetadata": {
      "byteLimit": 2048000,
      "rowLimit": 10000
     },
     "inputWidgets": {},
     "nuid": "8e43a47d-2fb0-4f81-8eaa-978ea9e8ff97",
     "showTitle": false,
     "title": ""
    }
   },
   "outputs": [
    {
     "output_type": "stream",
     "name": "stdout",
     "output_type": "stream",
     "text": [
      "+-------+-----+----------+--------------------+--------------------+-------------------+-----------+---------+\n|race_id|round|circuit_id|           race_name|      ingestion_date|          race_date|data_source|race_year|\n+-------+-----+----------+--------------------+--------------------+-------------------+-----------+---------+\n|   1053|    2|        21|Emilia Romagna Gr...|2023-09-30 14:26:...|2021-04-18 13:00:00| Ergast API|     2021|\n|   1052|    1|         3|  Bahrain Grand Prix|2023-09-30 14:26:...|2021-03-28 15:00:00| Ergast API|     2021|\n|   1051|   21|         1|Australian Grand ...|2023-09-30 14:26:...|2021-11-21 06:00:00| Ergast API|     2021|\n|   1054|    3|        20|                 TBC|2023-09-30 14:26:...|               null| Ergast API|     2021|\n|   1055|    4|         4|  Spanish Grand Prix|2023-09-30 14:26:...|2021-05-09 13:00:00| Ergast API|     2021|\n|   1056|    5|         6|   Monaco Grand Prix|2023-09-30 14:26:...|2021-05-23 13:00:00| Ergast API|     2021|\n|   1057|    6|        73|Azerbaijan Grand ...|2023-09-30 14:26:...|2021-06-06 12:00:00| Ergast API|     2021|\n|   1058|    7|         7| Canadian Grand Prix|2023-09-30 14:26:...|2021-06-13 18:00:00| Ergast API|     2021|\n|   1059|    8|        34|   French Grand Prix|2023-09-30 14:26:...|2021-06-27 13:00:00| Ergast API|     2021|\n|   1060|    9|        70| Austrian Grand Prix|2023-09-30 14:26:...|2021-07-04 13:00:00| Ergast API|     2021|\n+-------+-----+----------+--------------------+--------------------+-------------------+-----------+---------+\nonly showing top 10 rows\n\n"
     ]
    }
   ],
   "source": [
    "races_df.show(10)"
   ]
  },
  {
   "cell_type": "code",
   "execution_count": 0,
   "metadata": {
    "application/vnd.databricks.v1+cell": {
     "cellMetadata": {
      "byteLimit": 2048000,
      "rowLimit": 10000
     },
     "inputWidgets": {},
     "nuid": "be53de64-9258-4877-9a01-4f45a9807dfa",
     "showTitle": false,
     "title": ""
    }
   },
   "outputs": [],
   "source": [
    "results_df = spark.read.parquet(f\"{processed_folder_path}/results\")\\\n",
    "    .withColumnRenamed(\"time\",\"race_time\")"
   ]
  },
  {
   "cell_type": "code",
   "execution_count": 0,
   "metadata": {
    "application/vnd.databricks.v1+cell": {
     "cellMetadata": {
      "byteLimit": 2048000,
      "rowLimit": 10000
     },
     "inputWidgets": {},
     "nuid": "5bfc970d-db94-4436-b241-407977b0443b",
     "showTitle": false,
     "title": ""
    }
   },
   "outputs": [
    {
     "output_type": "stream",
     "name": "stdout",
     "output_type": "stream",
     "text": [
      "+---------+---------+--------------+------+----+--------+-------------+--------------+------+----+----------+------------+-----------+----+----------------+-----------------+--------------------+-----------+-------+\n|result_id|driver_id|constructor_id|number|grid|position|position_text|position_order|points|laps| race_time|milliseconds|fastest_lap|rank|fastest_lap_time|fastest_lap_speed|      ingestion_date|data_source|race_id|\n+---------+---------+--------------+------+----+--------+-------------+--------------+------+----+----------+------------+-----------+----+----------------+-----------------+--------------------+-----------+-------+\n|    19232|      657|           113|    14|  19|       1|            1|             1|   8.0| 200|3:49:17.27|    13757270|       null|null|              \\N|             null|2023-09-30 14:28:...| Ergast API|    800|\n|    19233|      525|           114|     9|   3|       2|            2|             2|   6.0| 200|  +1:09.95|    13827220|       null|null|              \\N|             null|2023-09-30 14:28:...| Ergast API|    800|\n|    19234|      658|           113|     2|   1|       3|            3|             3|   5.0| 200|  +1:19.73|    13837000|       null|null|              \\N|             null|2023-09-30 14:28:...| Ergast API|    800|\n|    19235|      526|           113|    34|  11|       4|            4|             4|   1.5| 200|  +2:52.68|    13929950|       null|null|              \\N|             null|2023-09-30 14:28:...| Ergast API|    800|\n|    19236|      673|           113|    73|  14|       5|            5|             5|   2.0| 200|  +3:24.55|    13961820|       null|null|              \\N|             null|2023-09-30 14:28:...| Ergast API|    800|\n|    19237|      615|           113|    77|  24|       6|            6|             6|   0.0| 200|  +3:47.55|    13984820|       null|null|              \\N|             null|2023-09-30 14:28:...| Ergast API|    800|\n|    19238|      528|           109|     7|   6|       7|            7|             7|   0.0| 200|  +4:13.35|    14010620|       null|null|              \\N|             null|2023-09-30 14:28:...| Ergast API|    800|\n|    19239|      555|           113|     5|  32|       8|            8|             8|   0.0| 200|  +5:01.17|    14058440|       null|null|              \\N|             null|2023-09-30 14:28:...| Ergast API|    800|\n|    19240|      674|           113|    28|  25|       9|            9|             9|   0.0| 200|  +7:07.24|    14184510|       null|null|              \\N|             null|2023-09-30 14:28:...| Ergast API|    800|\n|    19241|      655|           129|    24|  13|      10|           10|            10|   0.0| 200|  +7:07.69|    14184960|       null|null|              \\N|             null|2023-09-30 14:28:...| Ergast API|    800|\n+---------+---------+--------------+------+----+--------+-------------+--------------+------+----+----------+------------+-----------+----+----------------+-----------------+--------------------+-----------+-------+\nonly showing top 10 rows\n\n"
     ]
    }
   ],
   "source": [
    "results_df.show(10)"
   ]
  },
  {
   "cell_type": "markdown",
   "metadata": {
    "application/vnd.databricks.v1+cell": {
     "cellMetadata": {
      "byteLimit": 2048000,
      "rowLimit": 10000
     },
     "inputWidgets": {},
     "nuid": "57b42b9e-a849-4f79-ab89-470c38a949e6",
     "showTitle": false,
     "title": ""
    }
   },
   "source": [
    "####Join Circuits to Races"
   ]
  },
  {
   "cell_type": "code",
   "execution_count": 0,
   "metadata": {
    "application/vnd.databricks.v1+cell": {
     "cellMetadata": {
      "byteLimit": 2048000,
      "rowLimit": 10000
     },
     "inputWidgets": {},
     "nuid": "edfd3766-90fb-4650-a83b-acdfe3ffee50",
     "showTitle": false,
     "title": ""
    }
   },
   "outputs": [],
   "source": [
    "race_circuits_df = races_df.join(circuits_df, races_df.circuit_id == circuits_df.circuit_id, \"inner\")\\\n",
    "    .select(races_df.race_id, races_df.race_year, races_df.race_name, races_df.race_date, circuits_df.circuit_location)"
   ]
  },
  {
   "cell_type": "code",
   "execution_count": 0,
   "metadata": {
    "application/vnd.databricks.v1+cell": {
     "cellMetadata": {
      "byteLimit": 2048000,
      "rowLimit": 10000
     },
     "inputWidgets": {},
     "nuid": "9ae28cc1-53d3-4de7-9ad5-bdd92baf35f3",
     "showTitle": false,
     "title": ""
    }
   },
   "outputs": [
    {
     "output_type": "stream",
     "name": "stdout",
     "output_type": "stream",
     "text": [
      "+-------+---------+--------------------+-------------------+----------------+\n|race_id|race_year|           race_name|          race_date|circuit_location|\n+-------+---------+--------------------+-------------------+----------------+\n|   1053|     2021|Emilia Romagna Gr...|2021-04-18 13:00:00|           Imola|\n|   1052|     2021|  Bahrain Grand Prix|2021-03-28 15:00:00|          Sakhir|\n|   1051|     2021|Australian Grand ...|2021-11-21 06:00:00|       Melbourne|\n|   1054|     2021|                 TBC|               null|         Nürburg|\n|   1055|     2021|  Spanish Grand Prix|2021-05-09 13:00:00|        Montmeló|\n|   1056|     2021|   Monaco Grand Prix|2021-05-23 13:00:00|     Monte-Carlo|\n|   1057|     2021|Azerbaijan Grand ...|2021-06-06 12:00:00|            Baku|\n|   1058|     2021| Canadian Grand Prix|2021-06-13 18:00:00|        Montreal|\n|   1059|     2021|   French Grand Prix|2021-06-27 13:00:00|    Le Castellet|\n|   1060|     2021| Austrian Grand Prix|2021-07-04 13:00:00|       Spielburg|\n+-------+---------+--------------------+-------------------+----------------+\nonly showing top 10 rows\n\n"
     ]
    }
   ],
   "source": [
    "race_circuits_df.show(10)"
   ]
  },
  {
   "cell_type": "markdown",
   "metadata": {
    "application/vnd.databricks.v1+cell": {
     "cellMetadata": {
      "byteLimit": 2048000,
      "rowLimit": 10000
     },
     "inputWidgets": {},
     "nuid": "18f13ab3-0733-49a8-b92a-31867feb15d8",
     "showTitle": false,
     "title": ""
    }
   },
   "source": [
    "####Join Results to all other dataframes"
   ]
  },
  {
   "cell_type": "code",
   "execution_count": 0,
   "metadata": {
    "application/vnd.databricks.v1+cell": {
     "cellMetadata": {
      "byteLimit": 2048000,
      "rowLimit": 10000
     },
     "inputWidgets": {},
     "nuid": "90d41278-64c8-409a-9b22-ca74f787bd62",
     "showTitle": false,
     "title": ""
    }
   },
   "outputs": [],
   "source": [
    "race_results_df = results_df.join(race_circuits_df, results_df.race_id == race_circuits_df.race_id, \"inner\")\\\n",
    "    .join(drivers_df, results_df.driver_id == drivers_df.driver_id, \"inner\")\\\n",
    "    .join(constructors_df, results_df.constructor_id == constructors_df.constructor_id, \"inner\")"
   ]
  },
  {
   "cell_type": "code",
   "execution_count": 0,
   "metadata": {
    "application/vnd.databricks.v1+cell": {
     "cellMetadata": {
      "byteLimit": 2048000,
      "rowLimit": 10000
     },
     "inputWidgets": {},
     "nuid": "b2757506-9235-4340-befd-2878748194db",
     "showTitle": false,
     "title": ""
    }
   },
   "outputs": [
    {
     "output_type": "stream",
     "name": "stdout",
     "output_type": "stream",
     "text": [
      "+---------+---------+--------------+------+----+--------+-------------+--------------+------+----+---------+------------+-----------+----+----------------+-----------------+--------------------+-----------+-------+-------+---------+--------------------+-------------------+----------------+---------+---------------+-------------+----+---------------+----------+------------------+--------------------+-----------+--------------+---------------+------------+-----------+--------------------+-----------+\n|result_id|driver_id|constructor_id|number|grid|position|position_text|position_order|points|laps|race_time|milliseconds|fastest_lap|rank|fastest_lap_time|fastest_lap_speed|      ingestion_date|data_source|race_id|race_id|race_year|           race_name|          race_date|circuit_location|driver_id|     driver_ref|driver_number|code|    driver_name|       dob|driver_nationality|      ingestion_date|data_source|constructor_id|constructor_ref|        team|nationality|      ingestion_date|data_source|\n+---------+---------+--------------+------+----+--------+-------------+--------------+------+----+---------+------------+-----------+----+----------------+-----------------+--------------------+-----------+-------+-------+---------+--------------------+-------------------+----------------+---------+---------------+-------------+----+---------------+----------+------------------+--------------------+-----------+--------------+---------------+------------+-----------+--------------------+-----------+\n|    23801|      845|             3|    35|  19|    null|            R|            20|   0.0|   4|       \\N|        null|          3|  20|        1:32.573|          206.224|2023-09-30 14:28:...| Ergast API|    989|    989|     2018|Australian Grand ...|2018-03-25 05:10:00|       Melbourne|      845|       sirotkin|           35| SIR|Sergey Sirotkin|1995-08-27|           Russian|2023-09-30 14:27:...| Ergast API|             3|       williams|    Williams|    British|2023-09-30 14:26:...| Ergast API|\n|    23800|      828|            15|     9|  17|    null|            R|            19|   0.0|   5|       \\N|        null|          4|  19|        1:32.210|          207.036|2023-09-30 14:28:...| Ergast API|    989|    989|     2018|Australian Grand ...|2018-03-25 05:10:00|       Melbourne|      828|       ericsson|            9| ERI|Marcus Ericsson|1990-09-02|           Swedish|2023-09-30 14:27:...| Ergast API|            15|         sauber|      Sauber|      Swiss|2023-09-30 14:26:...| Ergast API|\n|    23799|      842|             5|    10|  20|    null|            R|            18|   0.0|  13|       \\N|        null|         13|  18|        1:30.649|          210.601|2023-09-30 14:28:...| Ergast API|    989|    989|     2018|Australian Grand ...|2018-03-25 05:10:00|       Melbourne|      842|          gasly|           10| GAS|   Pierre Gasly|1996-02-07|            French|2023-09-30 14:27:...| Ergast API|             5|     toro_rosso|  Toro Rosso|    Italian|2023-09-30 14:26:...| Ergast API|\n|    23798|      825|           210|    20|   5|    null|            R|            17|   0.0|  22|       \\N|        null|         21|  17|        1:29.534|          213.224|2023-09-30 14:28:...| Ergast API|    989|    989|     2018|Australian Grand ...|2018-03-25 05:10:00|       Melbourne|      825|kevin_magnussen|           20| MAG|Kevin Magnussen|1992-10-05|            Danish|2023-09-30 14:27:...| Ergast API|           210|           haas|Haas F1 Team|   American|2023-09-30 14:26:...| Ergast API|\n|    23797|      154|           210|     8|   6|    null|            R|            16|   0.0|  24|       \\N|        null|         23|  16|        1:28.805|          214.974|2023-09-30 14:28:...| Ergast API|    989|    989|     2018|Australian Grand ...|2018-03-25 05:10:00|       Melbourne|      154|       grosjean|            8| GRO|Romain Grosjean|1986-04-17|            French|2023-09-30 14:27:...| Ergast API|           210|           haas|Haas F1 Team|   American|2023-09-30 14:26:...| Ergast API|\n|    23796|      843|             5|    28|  16|      15|           15|            15|   0.0|  57|       \\N|        null|         57|  13|        1:28.176|          216.507|2023-09-30 14:28:...| Ergast API|    989|    989|     2018|Australian Grand ...|2018-03-25 05:10:00|       Melbourne|      843|brendon_hartley|           28| HAR|Brendon Hartley|1989-11-10|     New Zealander|2023-09-30 14:27:...| Ergast API|             5|     toro_rosso|  Toro Rosso|    Italian|2023-09-30 14:26:...| Ergast API|\n|    23795|      840|             3|    18|  13|      14|           14|            14|   0.0|  58|+1:18.288|     5451571|         55|  14|        1:28.511|          215.688|2023-09-30 14:28:...| Ergast API|    989|    989|     2018|Australian Grand ...|2018-03-25 05:10:00|       Melbourne|      840|         stroll|           18| STR|   Lance Stroll|1998-10-29|          Canadian|2023-09-30 14:27:...| Ergast API|             3|       williams|    Williams|    British|2023-09-30 14:26:...| Ergast API|\n|    23794|      844|            15|    16|  18|      13|           13|            13|   0.0|  58|+1:15.759|     5449042|         56|  15|        1:28.759|          215.085|2023-09-30 14:28:...| Ergast API|    989|    989|     2018|Australian Grand ...|2018-03-25 05:10:00|       Melbourne|      844|        leclerc|           16| LEC|Charles Leclerc|1997-10-16|        Monegasque|2023-09-30 14:27:...| Ergast API|            15|         sauber|      Sauber|      Swiss|2023-09-30 14:26:...| Ergast API|\n|    23793|      839|            10|    31|  14|      12|           12|            12|   0.0|  58|+1:00.278|     5433561|         57|  10|        1:27.600|          217.931|2023-09-30 14:28:...| Ergast API|    989|    989|     2018|Australian Grand ...|2018-03-25 05:10:00|       Melbourne|      839|           ocon|           31| OCO|   Esteban Ocon|1996-09-17|            French|2023-09-30 14:27:...| Ergast API|            10|    force_india| Force India|     Indian|2023-09-30 14:26:...| Ergast API|\n|    23792|      815|            10|    11|  12|      11|           11|            11|   0.0|  58|  +46.817|     5420100|         51|  11|        1:27.633|          217.849|2023-09-30 14:28:...| Ergast API|    989|    989|     2018|Australian Grand ...|2018-03-25 05:10:00|       Melbourne|      815|          perez|           11| PER|   Sergio Pérez|1990-01-26|           Mexican|2023-09-30 14:27:...| Ergast API|            10|    force_india| Force India|     Indian|2023-09-30 14:26:...| Ergast API|\n+---------+---------+--------------+------+----+--------+-------------+--------------+------+----+---------+------------+-----------+----+----------------+-----------------+--------------------+-----------+-------+-------+---------+--------------------+-------------------+----------------+---------+---------------+-------------+----+---------------+----------+------------------+--------------------+-----------+--------------+---------------+------------+-----------+--------------------+-----------+\nonly showing top 10 rows\n\n"
     ]
    }
   ],
   "source": [
    "race_results_df.show(10)"
   ]
  },
  {
   "cell_type": "code",
   "execution_count": 0,
   "metadata": {
    "application/vnd.databricks.v1+cell": {
     "cellMetadata": {
      "byteLimit": 2048000,
      "rowLimit": 10000
     },
     "inputWidgets": {},
     "nuid": "7a6b54f8-bfab-4ec5-b313-d0be6573a031",
     "showTitle": false,
     "title": ""
    }
   },
   "outputs": [],
   "source": [
    "from pyspark.sql.functions import current_timestamp"
   ]
  },
  {
   "cell_type": "code",
   "execution_count": 0,
   "metadata": {
    "application/vnd.databricks.v1+cell": {
     "cellMetadata": {
      "byteLimit": 2048000,
      "rowLimit": 10000
     },
     "inputWidgets": {},
     "nuid": "395f58b9-d39f-4fba-86f2-dbd538738671",
     "showTitle": false,
     "title": ""
    }
   },
   "outputs": [],
   "source": [
    "final_df = race_results_df.select(\"race_year\", \"race_name\", \"race_date\", \"circuit_location\", \"driver_name\", \"driver_number\", \"driver_nationality\",\n",
    "                                  \"team\", \"grid\", \"fastest_lap\", \"race_time\", \"points\",\"position\")\\\n",
    "                          .withColumn(\"created_date\",current_timestamp())"
   ]
  },
  {
   "cell_type": "code",
   "execution_count": 0,
   "metadata": {
    "application/vnd.databricks.v1+cell": {
     "cellMetadata": {
      "byteLimit": 2048000,
      "rowLimit": 10000
     },
     "inputWidgets": {},
     "nuid": "1f7bb0ea-0807-4746-8907-dcf8eb36e0a9",
     "showTitle": false,
     "title": ""
    }
   },
   "outputs": [
    {
     "output_type": "stream",
     "name": "stdout",
     "output_type": "stream",
     "text": [
      "+---------+--------------------+-------------------+----------------+---------------+-------------+------------------+------------+----+-----------+---------+------+--------+--------------------+\n|race_year|           race_name|          race_date|circuit_location|    driver_name|driver_number|driver_nationality|        team|grid|fastest_lap|race_time|points|position|        created_date|\n+---------+--------------------+-------------------+----------------+---------------+-------------+------------------+------------+----+-----------+---------+------+--------+--------------------+\n|     2018|Australian Grand ...|2018-03-25 05:10:00|       Melbourne|Sergey Sirotkin|           35|           Russian|    Williams|  19|          3|       \\N|   0.0|    null|2023-09-30 14:54:...|\n|     2018|Australian Grand ...|2018-03-25 05:10:00|       Melbourne|Marcus Ericsson|            9|           Swedish|      Sauber|  17|          4|       \\N|   0.0|    null|2023-09-30 14:54:...|\n|     2018|Australian Grand ...|2018-03-25 05:10:00|       Melbourne|   Pierre Gasly|           10|            French|  Toro Rosso|  20|         13|       \\N|   0.0|    null|2023-09-30 14:54:...|\n|     2018|Australian Grand ...|2018-03-25 05:10:00|       Melbourne|Kevin Magnussen|           20|            Danish|Haas F1 Team|   5|         21|       \\N|   0.0|    null|2023-09-30 14:54:...|\n|     2018|Australian Grand ...|2018-03-25 05:10:00|       Melbourne|Romain Grosjean|            8|            French|Haas F1 Team|   6|         23|       \\N|   0.0|    null|2023-09-30 14:54:...|\n|     2018|Australian Grand ...|2018-03-25 05:10:00|       Melbourne|Brendon Hartley|           28|     New Zealander|  Toro Rosso|  16|         57|       \\N|   0.0|      15|2023-09-30 14:54:...|\n|     2018|Australian Grand ...|2018-03-25 05:10:00|       Melbourne|   Lance Stroll|           18|          Canadian|    Williams|  13|         55|+1:18.288|   0.0|      14|2023-09-30 14:54:...|\n|     2018|Australian Grand ...|2018-03-25 05:10:00|       Melbourne|Charles Leclerc|           16|        Monegasque|      Sauber|  18|         56|+1:15.759|   0.0|      13|2023-09-30 14:54:...|\n|     2018|Australian Grand ...|2018-03-25 05:10:00|       Melbourne|   Esteban Ocon|           31|            French| Force India|  14|         57|+1:00.278|   0.0|      12|2023-09-30 14:54:...|\n|     2018|Australian Grand ...|2018-03-25 05:10:00|       Melbourne|   Sergio Pérez|           11|           Mexican| Force India|  12|         51|  +46.817|   0.0|      11|2023-09-30 14:54:...|\n+---------+--------------------+-------------------+----------------+---------------+-------------+------------------+------------+----+-----------+---------+------+--------+--------------------+\nonly showing top 10 rows\n\n"
     ]
    }
   ],
   "source": [
    "final_df.show(10)"
   ]
  },
  {
   "cell_type": "code",
   "execution_count": 0,
   "metadata": {
    "application/vnd.databricks.v1+cell": {
     "cellMetadata": {
      "byteLimit": 2048000,
      "rowLimit": 10000
     },
     "inputWidgets": {},
     "nuid": "f50259cd-2d68-42fe-bbf4-f2047f66b832",
     "showTitle": false,
     "title": ""
    }
   },
   "outputs": [
    {
     "output_type": "display_data",
     "data": {
      "text/html": [
       "<style scoped>\n",
       "  .table-result-container {\n",
       "    max-height: 300px;\n",
       "    overflow: auto;\n",
       "  }\n",
       "  table, th, td {\n",
       "    border: 1px solid black;\n",
       "    border-collapse: collapse;\n",
       "  }\n",
       "  th, td {\n",
       "    padding: 5px;\n",
       "  }\n",
       "  th {\n",
       "    text-align: left;\n",
       "  }\n",
       "</style><div class='table-result-container'><table class='table-result'><thead style='background-color: white'><tr><th>race_year</th><th>race_name</th><th>race_date</th><th>circuit_location</th><th>driver_name</th><th>driver_number</th><th>driver_nationality</th><th>team</th><th>grid</th><th>fastest_lap</th><th>race_time</th><th>points</th><th>position</th><th>created_date</th></tr></thead><tbody><tr><td>2020</td><td>Abu Dhabi Grand Prix</td><td>2020-12-13T13:10:00.000+0000</td><td>Abu Dhabi</td><td>Max Verstappen</td><td>33</td><td>Dutch</td><td>Red Bull</td><td>1</td><td>14</td><td>1:36:28.645</td><td>25.0</td><td>1</td><td>2023-09-30T14:56:34.497+0000</td></tr><tr><td>2020</td><td>Abu Dhabi Grand Prix</td><td>2020-12-13T13:10:00.000+0000</td><td>Abu Dhabi</td><td>Valtteri Bottas</td><td>77</td><td>Finnish</td><td>Mercedes</td><td>2</td><td>40</td><td>+15.976</td><td>18.0</td><td>2</td><td>2023-09-30T14:56:34.497+0000</td></tr><tr><td>2020</td><td>Abu Dhabi Grand Prix</td><td>2020-12-13T13:10:00.000+0000</td><td>Abu Dhabi</td><td>Lewis Hamilton</td><td>44</td><td>British</td><td>Mercedes</td><td>3</td><td>37</td><td>+18.415</td><td>15.0</td><td>3</td><td>2023-09-30T14:56:34.497+0000</td></tr><tr><td>2020</td><td>Abu Dhabi Grand Prix</td><td>2020-12-13T13:10:00.000+0000</td><td>Abu Dhabi</td><td>Alexander Albon</td><td>23</td><td>Thai</td><td>Red Bull</td><td>5</td><td>42</td><td>+19.987</td><td>12.0</td><td>4</td><td>2023-09-30T14:56:34.497+0000</td></tr><tr><td>2020</td><td>Abu Dhabi Grand Prix</td><td>2020-12-13T13:10:00.000+0000</td><td>Abu Dhabi</td><td>Lando Norris</td><td>4</td><td>British</td><td>McLaren</td><td>4</td><td>53</td><td>+1:00.729</td><td>10.0</td><td>5</td><td>2023-09-30T14:56:34.497+0000</td></tr><tr><td>2020</td><td>Abu Dhabi Grand Prix</td><td>2020-12-13T13:10:00.000+0000</td><td>Abu Dhabi</td><td>Carlos Sainz</td><td>55</td><td>Spanish</td><td>McLaren</td><td>6</td><td>48</td><td>+1:05.662</td><td>8.0</td><td>6</td><td>2023-09-30T14:56:34.497+0000</td></tr><tr><td>2020</td><td>Abu Dhabi Grand Prix</td><td>2020-12-13T13:10:00.000+0000</td><td>Abu Dhabi</td><td>Daniel Ricciardo</td><td>3</td><td>Australian</td><td>Renault</td><td>11</td><td>55</td><td>+1:13.748</td><td>7.0</td><td>7</td><td>2023-09-30T14:56:34.497+0000</td></tr><tr><td>2020</td><td>Abu Dhabi Grand Prix</td><td>2020-12-13T13:10:00.000+0000</td><td>Abu Dhabi</td><td>Pierre Gasly</td><td>10</td><td>French</td><td>AlphaTauri</td><td>9</td><td>53</td><td>+1:29.718</td><td>4.0</td><td>8</td><td>2023-09-30T14:56:34.497+0000</td></tr><tr><td>2020</td><td>Abu Dhabi Grand Prix</td><td>2020-12-13T13:10:00.000+0000</td><td>Abu Dhabi</td><td>Esteban Ocon</td><td>31</td><td>French</td><td>Renault</td><td>10</td><td>47</td><td>+1:41.069</td><td>2.0</td><td>9</td><td>2023-09-30T14:56:34.497+0000</td></tr><tr><td>2020</td><td>Abu Dhabi Grand Prix</td><td>2020-12-13T13:10:00.000+0000</td><td>Abu Dhabi</td><td>Lance Stroll</td><td>18</td><td>Canadian</td><td>Racing Point</td><td>8</td><td>41</td><td>+1:42.738</td><td>1.0</td><td>10</td><td>2023-09-30T14:56:34.497+0000</td></tr><tr><td>2020</td><td>Abu Dhabi Grand Prix</td><td>2020-12-13T13:10:00.000+0000</td><td>Abu Dhabi</td><td>Sergio Pérez</td><td>11</td><td>Mexican</td><td>Racing Point</td><td>19</td><td>6</td><td>\\N</td><td>0.0</td><td>null</td><td>2023-09-30T14:56:34.497+0000</td></tr><tr><td>2020</td><td>Abu Dhabi Grand Prix</td><td>2020-12-13T13:10:00.000+0000</td><td>Abu Dhabi</td><td>Pietro Fittipaldi</td><td>51</td><td>Brazilian</td><td>Haas F1 Team</td><td>17</td><td>50</td><td>\\N</td><td>0.0</td><td>19</td><td>2023-09-30T14:56:34.497+0000</td></tr><tr><td>2020</td><td>Abu Dhabi Grand Prix</td><td>2020-12-13T13:10:00.000+0000</td><td>Abu Dhabi</td><td>Kevin Magnussen</td><td>20</td><td>Danish</td><td>Haas F1 Team</td><td>20</td><td>50</td><td>\\N</td><td>0.0</td><td>18</td><td>2023-09-30T14:56:34.497+0000</td></tr><tr><td>2020</td><td>Abu Dhabi Grand Prix</td><td>2020-12-13T13:10:00.000+0000</td><td>Abu Dhabi</td><td>Nicholas Latifi</td><td>6</td><td>Canadian</td><td>Williams</td><td>18</td><td>49</td><td>\\N</td><td>0.0</td><td>17</td><td>2023-09-30T14:56:34.497+0000</td></tr><tr><td>2020</td><td>Abu Dhabi Grand Prix</td><td>2020-12-13T13:10:00.000+0000</td><td>Abu Dhabi</td><td>Antonio Giovinazzi</td><td>99</td><td>Italian</td><td>Alfa Romeo</td><td>14</td><td>29</td><td>\\N</td><td>0.0</td><td>16</td><td>2023-09-30T14:56:34.497+0000</td></tr><tr><td>2020</td><td>Abu Dhabi Grand Prix</td><td>2020-12-13T13:10:00.000+0000</td><td>Abu Dhabi</td><td>George Russell</td><td>63</td><td>British</td><td>Williams</td><td>16</td><td>54</td><td>\\N</td><td>0.0</td><td>15</td><td>2023-09-30T14:56:34.497+0000</td></tr><tr><td>2020</td><td>Abu Dhabi Grand Prix</td><td>2020-12-13T13:10:00.000+0000</td><td>Abu Dhabi</td><td>Sebastian Vettel</td><td>5</td><td>German</td><td>Ferrari</td><td>13</td><td>37</td><td>\\N</td><td>0.0</td><td>14</td><td>2023-09-30T14:56:34.497+0000</td></tr><tr><td>2020</td><td>Abu Dhabi Grand Prix</td><td>2020-12-13T13:10:00.000+0000</td><td>Abu Dhabi</td><td>Charles Leclerc</td><td>16</td><td>Monegasque</td><td>Ferrari</td><td>12</td><td>24</td><td>\\N</td><td>0.0</td><td>13</td><td>2023-09-30T14:56:34.497+0000</td></tr><tr><td>2020</td><td>Abu Dhabi Grand Prix</td><td>2020-12-13T13:10:00.000+0000</td><td>Abu Dhabi</td><td>Kimi Räikkönen</td><td>7</td><td>Finnish</td><td>Alfa Romeo</td><td>15</td><td>53</td><td>\\N</td><td>0.0</td><td>12</td><td>2023-09-30T14:56:34.497+0000</td></tr><tr><td>2020</td><td>Abu Dhabi Grand Prix</td><td>2020-12-13T13:10:00.000+0000</td><td>Abu Dhabi</td><td>Daniil Kvyat</td><td>26</td><td>Russian</td><td>AlphaTauri</td><td>7</td><td>47</td><td>\\N</td><td>0.0</td><td>11</td><td>2023-09-30T14:56:34.497+0000</td></tr></tbody></table></div>"
      ]
     },
     "metadata": {
      "application/vnd.databricks.v1+output": {
       "addedWidgets": {},
       "aggData": [],
       "aggError": "",
       "aggOverflow": false,
       "aggSchema": [],
       "aggSeriesLimitReached": false,
       "aggType": "",
       "arguments": {},
       "columnCustomDisplayInfos": {},
       "data": [
        [
         2020,
         "Abu Dhabi Grand Prix",
         "2020-12-13T13:10:00.000+0000",
         "Abu Dhabi",
         "Max Verstappen",
         33,
         "Dutch",
         "Red Bull",
         1,
         14,
         "1:36:28.645",
         25.0,
         1,
         "2023-09-30T14:56:34.497+0000"
        ],
        [
         2020,
         "Abu Dhabi Grand Prix",
         "2020-12-13T13:10:00.000+0000",
         "Abu Dhabi",
         "Valtteri Bottas",
         77,
         "Finnish",
         "Mercedes",
         2,
         40,
         "+15.976",
         18.0,
         2,
         "2023-09-30T14:56:34.497+0000"
        ],
        [
         2020,
         "Abu Dhabi Grand Prix",
         "2020-12-13T13:10:00.000+0000",
         "Abu Dhabi",
         "Lewis Hamilton",
         44,
         "British",
         "Mercedes",
         3,
         37,
         "+18.415",
         15.0,
         3,
         "2023-09-30T14:56:34.497+0000"
        ],
        [
         2020,
         "Abu Dhabi Grand Prix",
         "2020-12-13T13:10:00.000+0000",
         "Abu Dhabi",
         "Alexander Albon",
         23,
         "Thai",
         "Red Bull",
         5,
         42,
         "+19.987",
         12.0,
         4,
         "2023-09-30T14:56:34.497+0000"
        ],
        [
         2020,
         "Abu Dhabi Grand Prix",
         "2020-12-13T13:10:00.000+0000",
         "Abu Dhabi",
         "Lando Norris",
         4,
         "British",
         "McLaren",
         4,
         53,
         "+1:00.729",
         10.0,
         5,
         "2023-09-30T14:56:34.497+0000"
        ],
        [
         2020,
         "Abu Dhabi Grand Prix",
         "2020-12-13T13:10:00.000+0000",
         "Abu Dhabi",
         "Carlos Sainz",
         55,
         "Spanish",
         "McLaren",
         6,
         48,
         "+1:05.662",
         8.0,
         6,
         "2023-09-30T14:56:34.497+0000"
        ],
        [
         2020,
         "Abu Dhabi Grand Prix",
         "2020-12-13T13:10:00.000+0000",
         "Abu Dhabi",
         "Daniel Ricciardo",
         3,
         "Australian",
         "Renault",
         11,
         55,
         "+1:13.748",
         7.0,
         7,
         "2023-09-30T14:56:34.497+0000"
        ],
        [
         2020,
         "Abu Dhabi Grand Prix",
         "2020-12-13T13:10:00.000+0000",
         "Abu Dhabi",
         "Pierre Gasly",
         10,
         "French",
         "AlphaTauri",
         9,
         53,
         "+1:29.718",
         4.0,
         8,
         "2023-09-30T14:56:34.497+0000"
        ],
        [
         2020,
         "Abu Dhabi Grand Prix",
         "2020-12-13T13:10:00.000+0000",
         "Abu Dhabi",
         "Esteban Ocon",
         31,
         "French",
         "Renault",
         10,
         47,
         "+1:41.069",
         2.0,
         9,
         "2023-09-30T14:56:34.497+0000"
        ],
        [
         2020,
         "Abu Dhabi Grand Prix",
         "2020-12-13T13:10:00.000+0000",
         "Abu Dhabi",
         "Lance Stroll",
         18,
         "Canadian",
         "Racing Point",
         8,
         41,
         "+1:42.738",
         1.0,
         10,
         "2023-09-30T14:56:34.497+0000"
        ],
        [
         2020,
         "Abu Dhabi Grand Prix",
         "2020-12-13T13:10:00.000+0000",
         "Abu Dhabi",
         "Sergio Pérez",
         11,
         "Mexican",
         "Racing Point",
         19,
         6,
         "\\N",
         0.0,
         null,
         "2023-09-30T14:56:34.497+0000"
        ],
        [
         2020,
         "Abu Dhabi Grand Prix",
         "2020-12-13T13:10:00.000+0000",
         "Abu Dhabi",
         "Pietro Fittipaldi",
         51,
         "Brazilian",
         "Haas F1 Team",
         17,
         50,
         "\\N",
         0.0,
         19,
         "2023-09-30T14:56:34.497+0000"
        ],
        [
         2020,
         "Abu Dhabi Grand Prix",
         "2020-12-13T13:10:00.000+0000",
         "Abu Dhabi",
         "Kevin Magnussen",
         20,
         "Danish",
         "Haas F1 Team",
         20,
         50,
         "\\N",
         0.0,
         18,
         "2023-09-30T14:56:34.497+0000"
        ],
        [
         2020,
         "Abu Dhabi Grand Prix",
         "2020-12-13T13:10:00.000+0000",
         "Abu Dhabi",
         "Nicholas Latifi",
         6,
         "Canadian",
         "Williams",
         18,
         49,
         "\\N",
         0.0,
         17,
         "2023-09-30T14:56:34.497+0000"
        ],
        [
         2020,
         "Abu Dhabi Grand Prix",
         "2020-12-13T13:10:00.000+0000",
         "Abu Dhabi",
         "Antonio Giovinazzi",
         99,
         "Italian",
         "Alfa Romeo",
         14,
         29,
         "\\N",
         0.0,
         16,
         "2023-09-30T14:56:34.497+0000"
        ],
        [
         2020,
         "Abu Dhabi Grand Prix",
         "2020-12-13T13:10:00.000+0000",
         "Abu Dhabi",
         "George Russell",
         63,
         "British",
         "Williams",
         16,
         54,
         "\\N",
         0.0,
         15,
         "2023-09-30T14:56:34.497+0000"
        ],
        [
         2020,
         "Abu Dhabi Grand Prix",
         "2020-12-13T13:10:00.000+0000",
         "Abu Dhabi",
         "Sebastian Vettel",
         5,
         "German",
         "Ferrari",
         13,
         37,
         "\\N",
         0.0,
         14,
         "2023-09-30T14:56:34.497+0000"
        ],
        [
         2020,
         "Abu Dhabi Grand Prix",
         "2020-12-13T13:10:00.000+0000",
         "Abu Dhabi",
         "Charles Leclerc",
         16,
         "Monegasque",
         "Ferrari",
         12,
         24,
         "\\N",
         0.0,
         13,
         "2023-09-30T14:56:34.497+0000"
        ],
        [
         2020,
         "Abu Dhabi Grand Prix",
         "2020-12-13T13:10:00.000+0000",
         "Abu Dhabi",
         "Kimi Räikkönen",
         7,
         "Finnish",
         "Alfa Romeo",
         15,
         53,
         "\\N",
         0.0,
         12,
         "2023-09-30T14:56:34.497+0000"
        ],
        [
         2020,
         "Abu Dhabi Grand Prix",
         "2020-12-13T13:10:00.000+0000",
         "Abu Dhabi",
         "Daniil Kvyat",
         26,
         "Russian",
         "AlphaTauri",
         7,
         47,
         "\\N",
         0.0,
         11,
         "2023-09-30T14:56:34.497+0000"
        ]
       ],
       "datasetInfos": [],
       "dbfsResultPath": null,
       "isJsonSchema": true,
       "metadata": {},
       "overflow": false,
       "plotOptions": {
        "customPlotOptions": {},
        "displayType": "table",
        "pivotAggregation": null,
        "pivotColumns": null,
        "xColumns": null,
        "yColumns": null
       },
       "removedWidgets": [],
       "schema": [
        {
         "metadata": "{}",
         "name": "race_year",
         "type": "\"integer\""
        },
        {
         "metadata": "{}",
         "name": "race_name",
         "type": "\"string\""
        },
        {
         "metadata": "{}",
         "name": "race_date",
         "type": "\"timestamp\""
        },
        {
         "metadata": "{}",
         "name": "circuit_location",
         "type": "\"string\""
        },
        {
         "metadata": "{}",
         "name": "driver_name",
         "type": "\"string\""
        },
        {
         "metadata": "{}",
         "name": "driver_number",
         "type": "\"integer\""
        },
        {
         "metadata": "{}",
         "name": "driver_nationality",
         "type": "\"string\""
        },
        {
         "metadata": "{}",
         "name": "team",
         "type": "\"string\""
        },
        {
         "metadata": "{}",
         "name": "grid",
         "type": "\"integer\""
        },
        {
         "metadata": "{}",
         "name": "fastest_lap",
         "type": "\"integer\""
        },
        {
         "metadata": "{}",
         "name": "race_time",
         "type": "\"string\""
        },
        {
         "metadata": "{}",
         "name": "points",
         "type": "\"float\""
        },
        {
         "metadata": "{}",
         "name": "position",
         "type": "\"integer\""
        },
        {
         "metadata": "{}",
         "name": "created_date",
         "type": "\"timestamp\""
        }
       ],
       "type": "table"
      }
     },
     "output_type": "display_data"
    }
   ],
   "source": [
    "display(final_df.filter(\"race_year = 2020 and race_name = 'Abu Dhabi Grand Prix'\").orderBy(final_df.points.desc()))"
   ]
  },
  {
   "cell_type": "code",
   "execution_count": 0,
   "metadata": {
    "application/vnd.databricks.v1+cell": {
     "cellMetadata": {
      "byteLimit": 2048000,
      "rowLimit": 10000
     },
     "inputWidgets": {},
     "nuid": "2f63f75f-f40a-4d35-b861-273f4145abfa",
     "showTitle": false,
     "title": ""
    }
   },
   "outputs": [],
   "source": [
    "final_df.write.mode('overwrite').parquet(f\"{presentation_folder_path}/race_results\")"
   ]
  }
 ],
 "metadata": {
  "application/vnd.databricks.v1+notebook": {
   "dashboards": [],
   "language": "python",
   "notebookMetadata": {
    "pythonIndentUnit": 4
   },
   "notebookName": "1.race_results",
   "widgets": {}
  }
 },
 "nbformat": 4,
 "nbformat_minor": 0
}
