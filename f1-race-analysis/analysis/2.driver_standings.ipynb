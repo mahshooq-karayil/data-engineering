{
 "cells": [
  {
   "cell_type": "code",
   "execution_count": 0,
   "metadata": {
    "application/vnd.databricks.v1+cell": {
     "cellMetadata": {
      "byteLimit": 2048000,
      "rowLimit": 10000
     },
     "inputWidgets": {},
     "nuid": "4885bbbe-1000-4345-a007-13d0108328cb",
     "showTitle": false,
     "title": ""
    }
   },
   "outputs": [],
   "source": [
    "%run \"../includes/configuration\""
   ]
  },
  {
   "cell_type": "code",
   "execution_count": 0,
   "metadata": {
    "application/vnd.databricks.v1+cell": {
     "cellMetadata": {
      "byteLimit": 2048000,
      "rowLimit": 10000
     },
     "inputWidgets": {},
     "nuid": "449150c1-3a7c-4ee7-8ef0-81325cd48274",
     "showTitle": false,
     "title": ""
    }
   },
   "outputs": [],
   "source": [
    "race_results_df = spark.read.parquet(f\"{presentation_folder_path}/race_results\")"
   ]
  },
  {
   "cell_type": "code",
   "execution_count": 0,
   "metadata": {
    "application/vnd.databricks.v1+cell": {
     "cellMetadata": {
      "byteLimit": 2048000,
      "rowLimit": 10000
     },
     "inputWidgets": {},
     "nuid": "4b0ad816-fa25-4629-9ee6-6eedb5b0314a",
     "showTitle": false,
     "title": ""
    }
   },
   "outputs": [
    {
     "output_type": "stream",
     "name": "stdout",
     "output_type": "stream",
     "text": [
      "+---------+--------------------+-------------------+----------------+---------------+-------------+------------------+------------+----+-----------+---------+------+--------+--------------------+\n|race_year|           race_name|          race_date|circuit_location|    driver_name|driver_number|driver_nationality|        team|grid|fastest_lap|race_time|points|position|        created_date|\n+---------+--------------------+-------------------+----------------+---------------+-------------+------------------+------------+----+-----------+---------+------+--------+--------------------+\n|     2018|Australian Grand ...|2018-03-25 05:10:00|       Melbourne|Sergey Sirotkin|           35|           Russian|    Williams|  19|          3|       \\N|   0.0|    null|2023-09-30 14:34:...|\n|     2018|Australian Grand ...|2018-03-25 05:10:00|       Melbourne|Marcus Ericsson|            9|           Swedish|      Sauber|  17|          4|       \\N|   0.0|    null|2023-09-30 14:34:...|\n|     2018|Australian Grand ...|2018-03-25 05:10:00|       Melbourne|   Pierre Gasly|           10|            French|  Toro Rosso|  20|         13|       \\N|   0.0|    null|2023-09-30 14:34:...|\n|     2018|Australian Grand ...|2018-03-25 05:10:00|       Melbourne|Kevin Magnussen|           20|            Danish|Haas F1 Team|   5|         21|       \\N|   0.0|    null|2023-09-30 14:34:...|\n|     2018|Australian Grand ...|2018-03-25 05:10:00|       Melbourne|Romain Grosjean|            8|            French|Haas F1 Team|   6|         23|       \\N|   0.0|    null|2023-09-30 14:34:...|\n|     2018|Australian Grand ...|2018-03-25 05:10:00|       Melbourne|Brendon Hartley|           28|     New Zealander|  Toro Rosso|  16|         57|       \\N|   0.0|      15|2023-09-30 14:34:...|\n|     2018|Australian Grand ...|2018-03-25 05:10:00|       Melbourne|   Lance Stroll|           18|          Canadian|    Williams|  13|         55|+1:18.288|   0.0|      14|2023-09-30 14:34:...|\n|     2018|Australian Grand ...|2018-03-25 05:10:00|       Melbourne|Charles Leclerc|           16|        Monegasque|      Sauber|  18|         56|+1:15.759|   0.0|      13|2023-09-30 14:34:...|\n|     2018|Australian Grand ...|2018-03-25 05:10:00|       Melbourne|   Esteban Ocon|           31|            French| Force India|  14|         57|+1:00.278|   0.0|      12|2023-09-30 14:34:...|\n|     2018|Australian Grand ...|2018-03-25 05:10:00|       Melbourne|   Sergio Pérez|           11|           Mexican| Force India|  12|         51|  +46.817|   0.0|      11|2023-09-30 14:34:...|\n+---------+--------------------+-------------------+----------------+---------------+-------------+------------------+------------+----+-----------+---------+------+--------+--------------------+\nonly showing top 10 rows\n\n"
     ]
    }
   ],
   "source": [
    "race_results_df.show(10)"
   ]
  },
  {
   "cell_type": "code",
   "execution_count": 0,
   "metadata": {
    "application/vnd.databricks.v1+cell": {
     "cellMetadata": {
      "byteLimit": 2048000,
      "rowLimit": 10000
     },
     "inputWidgets": {},
     "nuid": "f72d2f97-ea48-4c10-8795-674c8b981be9",
     "showTitle": false,
     "title": ""
    }
   },
   "outputs": [],
   "source": [
    "from pyspark.sql.functions import sum, count, col, when"
   ]
  },
  {
   "cell_type": "code",
   "execution_count": 0,
   "metadata": {
    "application/vnd.databricks.v1+cell": {
     "cellMetadata": {
      "byteLimit": 2048000,
      "rowLimit": 10000
     },
     "inputWidgets": {},
     "nuid": "1e7ae836-efe1-4ae1-8b3a-818a78e74300",
     "showTitle": false,
     "title": ""
    }
   },
   "outputs": [],
   "source": [
    "driver_standings_df = race_results_df.groupBy(\"race_year\", \"driver_nationality\", \"driver_name\", \"team\")\\\n",
    "    .agg(count(when(col(\"position\") == 1, True)).alias(\"wins\"),\n",
    "         sum(\"points\").alias(\"total_points\"))"
   ]
  },
  {
   "cell_type": "code",
   "execution_count": 0,
   "metadata": {
    "application/vnd.databricks.v1+cell": {
     "cellMetadata": {
      "byteLimit": 2048000,
      "rowLimit": 10000
     },
     "inputWidgets": {},
     "nuid": "16ae95a8-77a7-4b7f-a55f-55e78d22c278",
     "showTitle": false,
     "title": ""
    }
   },
   "outputs": [
    {
     "output_type": "stream",
     "name": "stdout",
     "output_type": "stream",
     "text": [
      "+---------+------------------+---------------+------------+----+------------+\n|race_year|driver_nationality|    driver_name|        team|wins|total_points|\n+---------+------------------+---------------+------------+----+------------+\n|     2018|           Spanish|Fernando Alonso|     McLaren|   0|        50.0|\n|     2015|            Danish|Kevin Magnussen|     McLaren|   0|         0.0|\n|     2012|           British| Lewis Hamilton|     McLaren|   4|       190.0|\n|     2016|            Danish|Kevin Magnussen|     Renault|   0|         7.0|\n|     2013|           Finnish|Valtteri Bottas|    Williams|   0|         4.0|\n|     2012|           Spanish|Fernando Alonso|     Ferrari|   3|       278.0|\n|     2015|            German|Nico Hülkenberg| Force India|   0|        58.0|\n|     2013|         Brazilian|   Felipe Massa|     Ferrari|   0|       112.0|\n|     2017|         Brazilian|   Felipe Massa|    Williams|   0|        43.0|\n|     2016|            French|Romain Grosjean|Haas F1 Team|   0|        29.0|\n+---------+------------------+---------------+------------+----+------------+\nonly showing top 10 rows\n\n"
     ]
    }
   ],
   "source": [
    "driver_standings_df.show(10)"
   ]
  },
  {
   "cell_type": "code",
   "execution_count": 0,
   "metadata": {
    "application/vnd.databricks.v1+cell": {
     "cellMetadata": {
      "byteLimit": 2048000,
      "rowLimit": 10000
     },
     "inputWidgets": {},
     "nuid": "d056e916-b943-4a7a-9a5e-e8817b66f5ec",
     "showTitle": false,
     "title": ""
    }
   },
   "outputs": [
    {
     "output_type": "display_data",
     "data": {
      "text/html": [
       "<style scoped>\n",
       "  .table-result-container {\n",
       "    max-height: 300px;\n",
       "    overflow: auto;\n",
       "  }\n",
       "  table, th, td {\n",
       "    border: 1px solid black;\n",
       "    border-collapse: collapse;\n",
       "  }\n",
       "  th, td {\n",
       "    padding: 5px;\n",
       "  }\n",
       "  th {\n",
       "    text-align: left;\n",
       "  }\n",
       "</style><div class='table-result-container'><table class='table-result'><thead style='background-color: white'><tr><th>race_year</th><th>driver_nationality</th><th>driver_name</th><th>team</th><th>wins</th><th>total_points</th></tr></thead><tbody><tr><td>2020</td><td>French</td><td>Romain Grosjean</td><td>Haas F1 Team</td><td>0</td><td>2.0</td></tr><tr><td>2020</td><td>British</td><td>George Russell</td><td>Williams</td><td>0</td><td>0.0</td></tr><tr><td>2020</td><td>Danish</td><td>Kevin Magnussen</td><td>Haas F1 Team</td><td>0</td><td>1.0</td></tr><tr><td>2020</td><td>Thai</td><td>Alexander Albon</td><td>Red Bull</td><td>0</td><td>105.0</td></tr><tr><td>2020</td><td>French</td><td>Pierre Gasly</td><td>AlphaTauri</td><td>1</td><td>75.0</td></tr><tr><td>2020</td><td>Finnish</td><td>Kimi Räikkönen</td><td>Alfa Romeo</td><td>0</td><td>4.0</td></tr><tr><td>2020</td><td>German</td><td>Nico Hülkenberg</td><td>Racing Point</td><td>0</td><td>10.0</td></tr><tr><td>2020</td><td>Brazilian</td><td>Pietro Fittipaldi</td><td>Haas F1 Team</td><td>0</td><td>0.0</td></tr><tr><td>2020</td><td>Mexican</td><td>Sergio Pérez</td><td>Racing Point</td><td>1</td><td>125.0</td></tr><tr><td>2020</td><td>British</td><td>Jack Aitken</td><td>Williams</td><td>0</td><td>0.0</td></tr><tr><td>2020</td><td>British</td><td>Lando Norris</td><td>McLaren</td><td>0</td><td>97.0</td></tr><tr><td>2020</td><td>Finnish</td><td>Valtteri Bottas</td><td>Mercedes</td><td>2</td><td>223.0</td></tr><tr><td>2020</td><td>Russian</td><td>Daniil Kvyat</td><td>AlphaTauri</td><td>0</td><td>32.0</td></tr><tr><td>2020</td><td>British</td><td>Lewis Hamilton</td><td>Mercedes</td><td>11</td><td>347.0</td></tr><tr><td>2020</td><td>Italian</td><td>Antonio Giovinazzi</td><td>Alfa Romeo</td><td>0</td><td>4.0</td></tr><tr><td>2020</td><td>British</td><td>George Russell</td><td>Mercedes</td><td>0</td><td>3.0</td></tr><tr><td>2020</td><td>Canadian</td><td>Lance Stroll</td><td>Racing Point</td><td>0</td><td>75.0</td></tr><tr><td>2020</td><td>Canadian</td><td>Nicholas Latifi</td><td>Williams</td><td>0</td><td>0.0</td></tr><tr><td>2020</td><td>Monegasque</td><td>Charles Leclerc</td><td>Ferrari</td><td>0</td><td>98.0</td></tr><tr><td>2020</td><td>German</td><td>Sebastian Vettel</td><td>Ferrari</td><td>0</td><td>33.0</td></tr><tr><td>2020</td><td>French</td><td>Esteban Ocon</td><td>Renault</td><td>0</td><td>62.0</td></tr><tr><td>2020</td><td>Australian</td><td>Daniel Ricciardo</td><td>Renault</td><td>0</td><td>119.0</td></tr><tr><td>2020</td><td>Dutch</td><td>Max Verstappen</td><td>Red Bull</td><td>2</td><td>214.0</td></tr><tr><td>2020</td><td>Spanish</td><td>Carlos Sainz</td><td>McLaren</td><td>0</td><td>105.0</td></tr></tbody></table></div>"
      ]
     },
     "metadata": {
      "application/vnd.databricks.v1+output": {
       "addedWidgets": {},
       "aggData": [],
       "aggError": "",
       "aggOverflow": false,
       "aggSchema": [],
       "aggSeriesLimitReached": false,
       "aggType": "",
       "arguments": {},
       "columnCustomDisplayInfos": {},
       "data": [
        [
         2020,
         "French",
         "Romain Grosjean",
         "Haas F1 Team",
         0,
         2.0
        ],
        [
         2020,
         "British",
         "George Russell",
         "Williams",
         0,
         0.0
        ],
        [
         2020,
         "Danish",
         "Kevin Magnussen",
         "Haas F1 Team",
         0,
         1.0
        ],
        [
         2020,
         "Thai",
         "Alexander Albon",
         "Red Bull",
         0,
         105.0
        ],
        [
         2020,
         "French",
         "Pierre Gasly",
         "AlphaTauri",
         1,
         75.0
        ],
        [
         2020,
         "Finnish",
         "Kimi Räikkönen",
         "Alfa Romeo",
         0,
         4.0
        ],
        [
         2020,
         "German",
         "Nico Hülkenberg",
         "Racing Point",
         0,
         10.0
        ],
        [
         2020,
         "Brazilian",
         "Pietro Fittipaldi",
         "Haas F1 Team",
         0,
         0.0
        ],
        [
         2020,
         "Mexican",
         "Sergio Pérez",
         "Racing Point",
         1,
         125.0
        ],
        [
         2020,
         "British",
         "Jack Aitken",
         "Williams",
         0,
         0.0
        ],
        [
         2020,
         "British",
         "Lando Norris",
         "McLaren",
         0,
         97.0
        ],
        [
         2020,
         "Finnish",
         "Valtteri Bottas",
         "Mercedes",
         2,
         223.0
        ],
        [
         2020,
         "Russian",
         "Daniil Kvyat",
         "AlphaTauri",
         0,
         32.0
        ],
        [
         2020,
         "British",
         "Lewis Hamilton",
         "Mercedes",
         11,
         347.0
        ],
        [
         2020,
         "Italian",
         "Antonio Giovinazzi",
         "Alfa Romeo",
         0,
         4.0
        ],
        [
         2020,
         "British",
         "George Russell",
         "Mercedes",
         0,
         3.0
        ],
        [
         2020,
         "Canadian",
         "Lance Stroll",
         "Racing Point",
         0,
         75.0
        ],
        [
         2020,
         "Canadian",
         "Nicholas Latifi",
         "Williams",
         0,
         0.0
        ],
        [
         2020,
         "Monegasque",
         "Charles Leclerc",
         "Ferrari",
         0,
         98.0
        ],
        [
         2020,
         "German",
         "Sebastian Vettel",
         "Ferrari",
         0,
         33.0
        ],
        [
         2020,
         "French",
         "Esteban Ocon",
         "Renault",
         0,
         62.0
        ],
        [
         2020,
         "Australian",
         "Daniel Ricciardo",
         "Renault",
         0,
         119.0
        ],
        [
         2020,
         "Dutch",
         "Max Verstappen",
         "Red Bull",
         2,
         214.0
        ],
        [
         2020,
         "Spanish",
         "Carlos Sainz",
         "McLaren",
         0,
         105.0
        ]
       ],
       "datasetInfos": [],
       "dbfsResultPath": null,
       "isJsonSchema": true,
       "metadata": {},
       "overflow": false,
       "plotOptions": {
        "customPlotOptions": {},
        "displayType": "table",
        "pivotAggregation": null,
        "pivotColumns": null,
        "xColumns": null,
        "yColumns": null
       },
       "removedWidgets": [],
       "schema": [
        {
         "metadata": "{}",
         "name": "race_year",
         "type": "\"integer\""
        },
        {
         "metadata": "{}",
         "name": "driver_nationality",
         "type": "\"string\""
        },
        {
         "metadata": "{}",
         "name": "driver_name",
         "type": "\"string\""
        },
        {
         "metadata": "{}",
         "name": "team",
         "type": "\"string\""
        },
        {
         "metadata": "{}",
         "name": "wins",
         "type": "\"long\""
        },
        {
         "metadata": "{}",
         "name": "total_points",
         "type": "\"double\""
        }
       ],
       "type": "table"
      }
     },
     "output_type": "display_data"
    }
   ],
   "source": [
    "display(driver_standings_df.filter(\"race_year = 2020\"))"
   ]
  },
  {
   "cell_type": "code",
   "execution_count": 0,
   "metadata": {
    "application/vnd.databricks.v1+cell": {
     "cellMetadata": {
      "byteLimit": 2048000,
      "rowLimit": 10000
     },
     "inputWidgets": {},
     "nuid": "ce718973-16e6-4c1c-98c0-dc9a3df9565e",
     "showTitle": false,
     "title": ""
    }
   },
   "outputs": [],
   "source": [
    "from pyspark.sql.window import Window\n",
    "from pyspark.sql.functions import rank, desc, asc"
   ]
  },
  {
   "cell_type": "code",
   "execution_count": 0,
   "metadata": {
    "application/vnd.databricks.v1+cell": {
     "cellMetadata": {
      "byteLimit": 2048000,
      "rowLimit": 10000
     },
     "inputWidgets": {},
     "nuid": "d743fe78-6e58-430b-8d97-e6cb408dc4f6",
     "showTitle": false,
     "title": ""
    }
   },
   "outputs": [],
   "source": [
    "driver_rank_spec = Window.partitionBy(\"race_year\").orderBy(desc(\"total_points\"), desc(\"wins\"))\n",
    "final_df = driver_standings_df.withColumn(\"rank\",rank().over(driver_rank_spec))"
   ]
  },
  {
   "cell_type": "code",
   "execution_count": 0,
   "metadata": {
    "application/vnd.databricks.v1+cell": {
     "cellMetadata": {
      "byteLimit": 2048000,
      "rowLimit": 10000
     },
     "inputWidgets": {},
     "nuid": "873d2d8b-9446-4461-a034-00362a7b4b91",
     "showTitle": false,
     "title": ""
    }
   },
   "outputs": [
    {
     "output_type": "stream",
     "name": "stdout",
     "output_type": "stream",
     "text": [
      "+---------+------------------+---------------+------------+----+------------+----+\n|race_year|driver_nationality|    driver_name|        team|wins|total_points|rank|\n+---------+------------------+---------------+------------+----+------------+----+\n|     1950|           Italian|    Nino Farina|  Alfa Romeo|   3|        30.0|   1|\n|     1950|           Italian|  Luigi Fagioli|  Alfa Romeo|   0|        28.0|   2|\n|     1950|         Argentine|    Juan Fangio|  Alfa Romeo|   3|        27.0|   3|\n|     1950|            French|   Louis Rosier| Talbot-Lago|   0|        13.0|   4|\n|     1950|           Italian| Alberto Ascari|     Ferrari|   0|        11.0|   5|\n|     1950|          American|Johnnie Parsons|Kurtis Kraft|   1|         9.0|   6|\n|     1950|          American|   Bill Holland|       Deidt|   0|         6.0|   7|\n|     1950|              Thai|    Prince Bira|    Maserati|   0|         5.0|   8|\n|     1950|        Monegasque|   Louis Chiron|    Maserati|   0|         4.0|   9|\n|     1950|           British|Peter Whitehead|     Ferrari|   0|         4.0|   9|\n+---------+------------------+---------------+------------+----+------------+----+\nonly showing top 10 rows\n\n"
     ]
    }
   ],
   "source": [
    "final_df.show(10)"
   ]
  },
  {
   "cell_type": "code",
   "execution_count": 0,
   "metadata": {
    "application/vnd.databricks.v1+cell": {
     "cellMetadata": {
      "byteLimit": 2048000,
      "rowLimit": 10000
     },
     "inputWidgets": {},
     "nuid": "10c984cd-230d-4e49-8b97-b4dc30f733e8",
     "showTitle": false,
     "title": ""
    }
   },
   "outputs": [
    {
     "output_type": "display_data",
     "data": {
      "text/html": [
       "<style scoped>\n",
       "  .table-result-container {\n",
       "    max-height: 300px;\n",
       "    overflow: auto;\n",
       "  }\n",
       "  table, th, td {\n",
       "    border: 1px solid black;\n",
       "    border-collapse: collapse;\n",
       "  }\n",
       "  th, td {\n",
       "    padding: 5px;\n",
       "  }\n",
       "  th {\n",
       "    text-align: left;\n",
       "  }\n",
       "</style><div class='table-result-container'><table class='table-result'><thead style='background-color: white'><tr><th>race_year</th><th>driver_nationality</th><th>driver_name</th><th>team</th><th>wins</th><th>total_points</th><th>rank</th></tr></thead><tbody><tr><td>2020</td><td>British</td><td>Lewis Hamilton</td><td>Mercedes</td><td>11</td><td>347.0</td><td>1</td></tr><tr><td>2020</td><td>Finnish</td><td>Valtteri Bottas</td><td>Mercedes</td><td>2</td><td>223.0</td><td>2</td></tr><tr><td>2020</td><td>Dutch</td><td>Max Verstappen</td><td>Red Bull</td><td>2</td><td>214.0</td><td>3</td></tr><tr><td>2020</td><td>Mexican</td><td>Sergio Pérez</td><td>Racing Point</td><td>1</td><td>125.0</td><td>4</td></tr><tr><td>2020</td><td>Australian</td><td>Daniel Ricciardo</td><td>Renault</td><td>0</td><td>119.0</td><td>5</td></tr><tr><td>2020</td><td>Thai</td><td>Alexander Albon</td><td>Red Bull</td><td>0</td><td>105.0</td><td>6</td></tr><tr><td>2020</td><td>Spanish</td><td>Carlos Sainz</td><td>McLaren</td><td>0</td><td>105.0</td><td>6</td></tr><tr><td>2020</td><td>Monegasque</td><td>Charles Leclerc</td><td>Ferrari</td><td>0</td><td>98.0</td><td>8</td></tr><tr><td>2020</td><td>British</td><td>Lando Norris</td><td>McLaren</td><td>0</td><td>97.0</td><td>9</td></tr><tr><td>2020</td><td>French</td><td>Pierre Gasly</td><td>AlphaTauri</td><td>1</td><td>75.0</td><td>10</td></tr><tr><td>2020</td><td>Canadian</td><td>Lance Stroll</td><td>Racing Point</td><td>0</td><td>75.0</td><td>11</td></tr><tr><td>2020</td><td>French</td><td>Esteban Ocon</td><td>Renault</td><td>0</td><td>62.0</td><td>12</td></tr><tr><td>2020</td><td>German</td><td>Sebastian Vettel</td><td>Ferrari</td><td>0</td><td>33.0</td><td>13</td></tr><tr><td>2020</td><td>Russian</td><td>Daniil Kvyat</td><td>AlphaTauri</td><td>0</td><td>32.0</td><td>14</td></tr><tr><td>2020</td><td>German</td><td>Nico Hülkenberg</td><td>Racing Point</td><td>0</td><td>10.0</td><td>15</td></tr><tr><td>2020</td><td>Finnish</td><td>Kimi Räikkönen</td><td>Alfa Romeo</td><td>0</td><td>4.0</td><td>16</td></tr><tr><td>2020</td><td>Italian</td><td>Antonio Giovinazzi</td><td>Alfa Romeo</td><td>0</td><td>4.0</td><td>16</td></tr><tr><td>2020</td><td>British</td><td>George Russell</td><td>Mercedes</td><td>0</td><td>3.0</td><td>18</td></tr><tr><td>2020</td><td>French</td><td>Romain Grosjean</td><td>Haas F1 Team</td><td>0</td><td>2.0</td><td>19</td></tr><tr><td>2020</td><td>Danish</td><td>Kevin Magnussen</td><td>Haas F1 Team</td><td>0</td><td>1.0</td><td>20</td></tr><tr><td>2020</td><td>British</td><td>George Russell</td><td>Williams</td><td>0</td><td>0.0</td><td>21</td></tr><tr><td>2020</td><td>Brazilian</td><td>Pietro Fittipaldi</td><td>Haas F1 Team</td><td>0</td><td>0.0</td><td>21</td></tr><tr><td>2020</td><td>British</td><td>Jack Aitken</td><td>Williams</td><td>0</td><td>0.0</td><td>21</td></tr><tr><td>2020</td><td>Canadian</td><td>Nicholas Latifi</td><td>Williams</td><td>0</td><td>0.0</td><td>21</td></tr></tbody></table></div>"
      ]
     },
     "metadata": {
      "application/vnd.databricks.v1+output": {
       "addedWidgets": {},
       "aggData": [],
       "aggError": "",
       "aggOverflow": false,
       "aggSchema": [],
       "aggSeriesLimitReached": false,
       "aggType": "",
       "arguments": {},
       "columnCustomDisplayInfos": {},
       "data": [
        [
         2020,
         "British",
         "Lewis Hamilton",
         "Mercedes",
         11,
         347.0,
         1
        ],
        [
         2020,
         "Finnish",
         "Valtteri Bottas",
         "Mercedes",
         2,
         223.0,
         2
        ],
        [
         2020,
         "Dutch",
         "Max Verstappen",
         "Red Bull",
         2,
         214.0,
         3
        ],
        [
         2020,
         "Mexican",
         "Sergio Pérez",
         "Racing Point",
         1,
         125.0,
         4
        ],
        [
         2020,
         "Australian",
         "Daniel Ricciardo",
         "Renault",
         0,
         119.0,
         5
        ],
        [
         2020,
         "Thai",
         "Alexander Albon",
         "Red Bull",
         0,
         105.0,
         6
        ],
        [
         2020,
         "Spanish",
         "Carlos Sainz",
         "McLaren",
         0,
         105.0,
         6
        ],
        [
         2020,
         "Monegasque",
         "Charles Leclerc",
         "Ferrari",
         0,
         98.0,
         8
        ],
        [
         2020,
         "British",
         "Lando Norris",
         "McLaren",
         0,
         97.0,
         9
        ],
        [
         2020,
         "French",
         "Pierre Gasly",
         "AlphaTauri",
         1,
         75.0,
         10
        ],
        [
         2020,
         "Canadian",
         "Lance Stroll",
         "Racing Point",
         0,
         75.0,
         11
        ],
        [
         2020,
         "French",
         "Esteban Ocon",
         "Renault",
         0,
         62.0,
         12
        ],
        [
         2020,
         "German",
         "Sebastian Vettel",
         "Ferrari",
         0,
         33.0,
         13
        ],
        [
         2020,
         "Russian",
         "Daniil Kvyat",
         "AlphaTauri",
         0,
         32.0,
         14
        ],
        [
         2020,
         "German",
         "Nico Hülkenberg",
         "Racing Point",
         0,
         10.0,
         15
        ],
        [
         2020,
         "Finnish",
         "Kimi Räikkönen",
         "Alfa Romeo",
         0,
         4.0,
         16
        ],
        [
         2020,
         "Italian",
         "Antonio Giovinazzi",
         "Alfa Romeo",
         0,
         4.0,
         16
        ],
        [
         2020,
         "British",
         "George Russell",
         "Mercedes",
         0,
         3.0,
         18
        ],
        [
         2020,
         "French",
         "Romain Grosjean",
         "Haas F1 Team",
         0,
         2.0,
         19
        ],
        [
         2020,
         "Danish",
         "Kevin Magnussen",
         "Haas F1 Team",
         0,
         1.0,
         20
        ],
        [
         2020,
         "British",
         "George Russell",
         "Williams",
         0,
         0.0,
         21
        ],
        [
         2020,
         "Brazilian",
         "Pietro Fittipaldi",
         "Haas F1 Team",
         0,
         0.0,
         21
        ],
        [
         2020,
         "British",
         "Jack Aitken",
         "Williams",
         0,
         0.0,
         21
        ],
        [
         2020,
         "Canadian",
         "Nicholas Latifi",
         "Williams",
         0,
         0.0,
         21
        ]
       ],
       "datasetInfos": [],
       "dbfsResultPath": null,
       "isJsonSchema": true,
       "metadata": {},
       "overflow": false,
       "plotOptions": {
        "customPlotOptions": {},
        "displayType": "table",
        "pivotAggregation": null,
        "pivotColumns": null,
        "xColumns": null,
        "yColumns": null
       },
       "removedWidgets": [],
       "schema": [
        {
         "metadata": "{}",
         "name": "race_year",
         "type": "\"integer\""
        },
        {
         "metadata": "{}",
         "name": "driver_nationality",
         "type": "\"string\""
        },
        {
         "metadata": "{}",
         "name": "driver_name",
         "type": "\"string\""
        },
        {
         "metadata": "{}",
         "name": "team",
         "type": "\"string\""
        },
        {
         "metadata": "{}",
         "name": "wins",
         "type": "\"long\""
        },
        {
         "metadata": "{}",
         "name": "total_points",
         "type": "\"double\""
        },
        {
         "metadata": "{}",
         "name": "rank",
         "type": "\"integer\""
        }
       ],
       "type": "table"
      }
     },
     "output_type": "display_data"
    }
   ],
   "source": [
    "display(final_df.filter(\"race_year = 2020\"))"
   ]
  },
  {
   "cell_type": "code",
   "execution_count": 0,
   "metadata": {
    "application/vnd.databricks.v1+cell": {
     "cellMetadata": {
      "byteLimit": 2048000,
      "rowLimit": 10000
     },
     "inputWidgets": {},
     "nuid": "6bfb1598-914a-4871-88d2-29abfefb226f",
     "showTitle": false,
     "title": ""
    }
   },
   "outputs": [],
   "source": [
    "final_df.write.mode(\"overwrite\").parquet(f\"{presentation_folder_path}/driver_standings\")"
   ]
  }
 ],
 "metadata": {
  "application/vnd.databricks.v1+notebook": {
   "dashboards": [],
   "language": "python",
   "notebookMetadata": {
    "pythonIndentUnit": 4
   },
   "notebookName": "2.driver_standings",
   "widgets": {}
  }
 },
 "nbformat": 4,
 "nbformat_minor": 0
}
