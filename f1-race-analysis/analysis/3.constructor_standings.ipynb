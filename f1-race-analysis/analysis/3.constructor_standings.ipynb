{
 "cells": [
  {
   "cell_type": "code",
   "execution_count": 0,
   "metadata": {
    "application/vnd.databricks.v1+cell": {
     "cellMetadata": {
      "byteLimit": 2048000,
      "rowLimit": 10000
     },
     "inputWidgets": {},
     "nuid": "4885bbbe-1000-4345-a007-13d0108328cb",
     "showTitle": false,
     "title": ""
    }
   },
   "outputs": [],
   "source": [
    "%run \"../includes/configuration\""
   ]
  },
  {
   "cell_type": "code",
   "execution_count": 0,
   "metadata": {
    "application/vnd.databricks.v1+cell": {
     "cellMetadata": {
      "byteLimit": 2048000,
      "rowLimit": 10000
     },
     "inputWidgets": {},
     "nuid": "449150c1-3a7c-4ee7-8ef0-81325cd48274",
     "showTitle": false,
     "title": ""
    }
   },
   "outputs": [],
   "source": [
    "race_results_df = spark.read.parquet(f\"{presentation_folder_path}/race_results\")"
   ]
  },
  {
   "cell_type": "code",
   "execution_count": 0,
   "metadata": {
    "application/vnd.databricks.v1+cell": {
     "cellMetadata": {
      "byteLimit": 2048000,
      "rowLimit": 10000
     },
     "inputWidgets": {},
     "nuid": "4b0ad816-fa25-4629-9ee6-6eedb5b0314a",
     "showTitle": false,
     "title": ""
    }
   },
   "outputs": [
    {
     "output_type": "stream",
     "name": "stdout",
     "output_type": "stream",
     "text": [
      "+---------+--------------------+-------------------+----------------+---------------+-------------+------------------+------------+----+-----------+---------+------+--------+--------------------+\n|race_year|           race_name|          race_date|circuit_location|    driver_name|driver_number|driver_nationality|        team|grid|fastest_lap|race_time|points|position|        created_date|\n+---------+--------------------+-------------------+----------------+---------------+-------------+------------------+------------+----+-----------+---------+------+--------+--------------------+\n|     2018|Australian Grand ...|2018-03-25 05:10:00|       Melbourne|Sergey Sirotkin|           35|           Russian|    Williams|  19|          3|       \\N|   0.0|    null|2023-09-30 14:34:...|\n|     2018|Australian Grand ...|2018-03-25 05:10:00|       Melbourne|Marcus Ericsson|            9|           Swedish|      Sauber|  17|          4|       \\N|   0.0|    null|2023-09-30 14:34:...|\n|     2018|Australian Grand ...|2018-03-25 05:10:00|       Melbourne|   Pierre Gasly|           10|            French|  Toro Rosso|  20|         13|       \\N|   0.0|    null|2023-09-30 14:34:...|\n|     2018|Australian Grand ...|2018-03-25 05:10:00|       Melbourne|Kevin Magnussen|           20|            Danish|Haas F1 Team|   5|         21|       \\N|   0.0|    null|2023-09-30 14:34:...|\n|     2018|Australian Grand ...|2018-03-25 05:10:00|       Melbourne|Romain Grosjean|            8|            French|Haas F1 Team|   6|         23|       \\N|   0.0|    null|2023-09-30 14:34:...|\n|     2018|Australian Grand ...|2018-03-25 05:10:00|       Melbourne|Brendon Hartley|           28|     New Zealander|  Toro Rosso|  16|         57|       \\N|   0.0|      15|2023-09-30 14:34:...|\n|     2018|Australian Grand ...|2018-03-25 05:10:00|       Melbourne|   Lance Stroll|           18|          Canadian|    Williams|  13|         55|+1:18.288|   0.0|      14|2023-09-30 14:34:...|\n|     2018|Australian Grand ...|2018-03-25 05:10:00|       Melbourne|Charles Leclerc|           16|        Monegasque|      Sauber|  18|         56|+1:15.759|   0.0|      13|2023-09-30 14:34:...|\n|     2018|Australian Grand ...|2018-03-25 05:10:00|       Melbourne|   Esteban Ocon|           31|            French| Force India|  14|         57|+1:00.278|   0.0|      12|2023-09-30 14:34:...|\n|     2018|Australian Grand ...|2018-03-25 05:10:00|       Melbourne|   Sergio Pérez|           11|           Mexican| Force India|  12|         51|  +46.817|   0.0|      11|2023-09-30 14:34:...|\n+---------+--------------------+-------------------+----------------+---------------+-------------+------------------+------------+----+-----------+---------+------+--------+--------------------+\nonly showing top 10 rows\n\n"
     ]
    }
   ],
   "source": [
    "race_results_df.show(10)"
   ]
  },
  {
   "cell_type": "code",
   "execution_count": 0,
   "metadata": {
    "application/vnd.databricks.v1+cell": {
     "cellMetadata": {
      "byteLimit": 2048000,
      "rowLimit": 10000
     },
     "inputWidgets": {},
     "nuid": "f72d2f97-ea48-4c10-8795-674c8b981be9",
     "showTitle": false,
     "title": ""
    }
   },
   "outputs": [],
   "source": [
    "from pyspark.sql.functions import sum, count, col, when"
   ]
  },
  {
   "cell_type": "code",
   "execution_count": 0,
   "metadata": {
    "application/vnd.databricks.v1+cell": {
     "cellMetadata": {
      "byteLimit": 2048000,
      "rowLimit": 10000
     },
     "inputWidgets": {},
     "nuid": "1e7ae836-efe1-4ae1-8b3a-818a78e74300",
     "showTitle": false,
     "title": ""
    }
   },
   "outputs": [],
   "source": [
    "constructor_standings_df = race_results_df.groupBy(\"race_year\", \"team\")\\\n",
    "    .agg(count(when(col(\"position\") == 1, True)).alias(\"wins\"),\n",
    "         sum(\"points\").alias(\"total_points\"))"
   ]
  },
  {
   "cell_type": "code",
   "execution_count": 0,
   "metadata": {
    "application/vnd.databricks.v1+cell": {
     "cellMetadata": {
      "byteLimit": 2048000,
      "rowLimit": 10000
     },
     "inputWidgets": {},
     "nuid": "f24590c4-36e8-4230-b709-f481ac5b8ae7",
     "showTitle": false,
     "title": ""
    }
   },
   "outputs": [
    {
     "output_type": "stream",
     "name": "stdout",
     "output_type": "stream",
     "text": [
      "+---------+--------------+----+------------+\n|race_year|          team|wins|total_points|\n+---------+--------------+----+------------+\n|     2019|    Alfa Romeo|   0|        57.0|\n|     2012|        Sauber|   0|       126.0|\n|     2014|    Toro Rosso|   0|        30.0|\n|     2016|       McLaren|   0|        76.0|\n|     2015|Manor Marussia|   0|         0.0|\n|     2012|      Caterham|   0|         0.0|\n|     2017|   Force India|   0|       187.0|\n|     2012|      Marussia|   0|         0.0|\n|     2015|      Williams|   0|       257.0|\n|     2017|      Mercedes|  12|       668.0|\n+---------+--------------+----+------------+\nonly showing top 10 rows\n\n"
     ]
    }
   ],
   "source": [
    "constructor_standings_df.show(10)"
   ]
  },
  {
   "cell_type": "code",
   "execution_count": 0,
   "metadata": {
    "application/vnd.databricks.v1+cell": {
     "cellMetadata": {
      "byteLimit": 2048000,
      "rowLimit": 10000
     },
     "inputWidgets": {},
     "nuid": "d056e916-b943-4a7a-9a5e-e8817b66f5ec",
     "showTitle": false,
     "title": ""
    }
   },
   "outputs": [
    {
     "output_type": "display_data",
     "data": {
      "text/html": [
       "<style scoped>\n",
       "  .table-result-container {\n",
       "    max-height: 300px;\n",
       "    overflow: auto;\n",
       "  }\n",
       "  table, th, td {\n",
       "    border: 1px solid black;\n",
       "    border-collapse: collapse;\n",
       "  }\n",
       "  th, td {\n",
       "    padding: 5px;\n",
       "  }\n",
       "  th {\n",
       "    text-align: left;\n",
       "  }\n",
       "</style><div class='table-result-container'><table class='table-result'><thead style='background-color: white'><tr><th>race_year</th><th>team</th><th>wins</th><th>total_points</th></tr></thead><tbody><tr><td>2020</td><td>Haas F1 Team</td><td>0</td><td>3.0</td></tr><tr><td>2020</td><td>McLaren</td><td>0</td><td>202.0</td></tr><tr><td>2020</td><td>Ferrari</td><td>0</td><td>131.0</td></tr><tr><td>2020</td><td>Mercedes</td><td>13</td><td>573.0</td></tr><tr><td>2020</td><td>AlphaTauri</td><td>1</td><td>107.0</td></tr><tr><td>2020</td><td>Williams</td><td>0</td><td>0.0</td></tr><tr><td>2020</td><td>Red Bull</td><td>2</td><td>319.0</td></tr><tr><td>2020</td><td>Alfa Romeo</td><td>0</td><td>8.0</td></tr><tr><td>2020</td><td>Racing Point</td><td>1</td><td>210.0</td></tr><tr><td>2020</td><td>Renault</td><td>0</td><td>181.0</td></tr></tbody></table></div>"
      ]
     },
     "metadata": {
      "application/vnd.databricks.v1+output": {
       "addedWidgets": {},
       "aggData": [],
       "aggError": "",
       "aggOverflow": false,
       "aggSchema": [],
       "aggSeriesLimitReached": false,
       "aggType": "",
       "arguments": {},
       "columnCustomDisplayInfos": {},
       "data": [
        [
         2020,
         "Haas F1 Team",
         0,
         3.0
        ],
        [
         2020,
         "McLaren",
         0,
         202.0
        ],
        [
         2020,
         "Ferrari",
         0,
         131.0
        ],
        [
         2020,
         "Mercedes",
         13,
         573.0
        ],
        [
         2020,
         "AlphaTauri",
         1,
         107.0
        ],
        [
         2020,
         "Williams",
         0,
         0.0
        ],
        [
         2020,
         "Red Bull",
         2,
         319.0
        ],
        [
         2020,
         "Alfa Romeo",
         0,
         8.0
        ],
        [
         2020,
         "Racing Point",
         1,
         210.0
        ],
        [
         2020,
         "Renault",
         0,
         181.0
        ]
       ],
       "datasetInfos": [],
       "dbfsResultPath": null,
       "isJsonSchema": true,
       "metadata": {},
       "overflow": false,
       "plotOptions": {
        "customPlotOptions": {},
        "displayType": "table",
        "pivotAggregation": null,
        "pivotColumns": null,
        "xColumns": null,
        "yColumns": null
       },
       "removedWidgets": [],
       "schema": [
        {
         "metadata": "{}",
         "name": "race_year",
         "type": "\"integer\""
        },
        {
         "metadata": "{}",
         "name": "team",
         "type": "\"string\""
        },
        {
         "metadata": "{}",
         "name": "wins",
         "type": "\"long\""
        },
        {
         "metadata": "{}",
         "name": "total_points",
         "type": "\"double\""
        }
       ],
       "type": "table"
      }
     },
     "output_type": "display_data"
    }
   ],
   "source": [
    "display(constructor_standings_df.filter(\"race_year = 2020\"))"
   ]
  },
  {
   "cell_type": "code",
   "execution_count": 0,
   "metadata": {
    "application/vnd.databricks.v1+cell": {
     "cellMetadata": {
      "byteLimit": 2048000,
      "rowLimit": 10000
     },
     "inputWidgets": {},
     "nuid": "ce718973-16e6-4c1c-98c0-dc9a3df9565e",
     "showTitle": false,
     "title": ""
    }
   },
   "outputs": [],
   "source": [
    "from pyspark.sql.window import Window\n",
    "from pyspark.sql.functions import rank, desc, asc"
   ]
  },
  {
   "cell_type": "code",
   "execution_count": 0,
   "metadata": {
    "application/vnd.databricks.v1+cell": {
     "cellMetadata": {
      "byteLimit": 2048000,
      "rowLimit": 10000
     },
     "inputWidgets": {},
     "nuid": "d743fe78-6e58-430b-8d97-e6cb408dc4f6",
     "showTitle": false,
     "title": ""
    }
   },
   "outputs": [],
   "source": [
    "constructor_rank_spec = Window.partitionBy(\"race_year\").orderBy(desc(\"total_points\"), desc(\"wins\"))\n",
    "final_df = constructor_standings_df.withColumn(\"rank\",rank().over(constructor_rank_spec))"
   ]
  },
  {
   "cell_type": "code",
   "execution_count": 0,
   "metadata": {
    "application/vnd.databricks.v1+cell": {
     "cellMetadata": {
      "byteLimit": 2048000,
      "rowLimit": 10000
     },
     "inputWidgets": {},
     "nuid": "74d648dd-f2ef-4e43-979f-3758ec22c2e4",
     "showTitle": false,
     "title": ""
    }
   },
   "outputs": [
    {
     "output_type": "stream",
     "name": "stdout",
     "output_type": "stream",
     "text": [
      "+---------+------------+----+------------+----+\n|race_year|        team|wins|total_points|rank|\n+---------+------------+----+------------+----+\n|     1950|  Alfa Romeo|   6|        89.0|   1|\n|     1950|     Ferrari|   0|        21.0|   2|\n|     1950| Talbot-Lago|   0|        20.0|   3|\n|     1950|Kurtis Kraft|   1|        14.0|   4|\n|     1950|    Maserati|   0|        11.0|   5|\n|     1950|       Deidt|   0|        10.0|   6|\n|     1950|       Simca|   0|         3.0|   7|\n|     1950|      Milano|   0|         0.0|   8|\n|     1950|         Rae|   0|         0.0|   8|\n|     1950|     Langley|   0|         0.0|   8|\n+---------+------------+----+------------+----+\nonly showing top 10 rows\n\n"
     ]
    }
   ],
   "source": [
    "final_df.show(10)"
   ]
  },
  {
   "cell_type": "code",
   "execution_count": 0,
   "metadata": {
    "application/vnd.databricks.v1+cell": {
     "cellMetadata": {
      "byteLimit": 2048000,
      "rowLimit": 10000
     },
     "inputWidgets": {},
     "nuid": "10c984cd-230d-4e49-8b97-b4dc30f733e8",
     "showTitle": false,
     "title": ""
    }
   },
   "outputs": [
    {
     "output_type": "display_data",
     "data": {
      "text/html": [
       "<style scoped>\n",
       "  .table-result-container {\n",
       "    max-height: 300px;\n",
       "    overflow: auto;\n",
       "  }\n",
       "  table, th, td {\n",
       "    border: 1px solid black;\n",
       "    border-collapse: collapse;\n",
       "  }\n",
       "  th, td {\n",
       "    padding: 5px;\n",
       "  }\n",
       "  th {\n",
       "    text-align: left;\n",
       "  }\n",
       "</style><div class='table-result-container'><table class='table-result'><thead style='background-color: white'><tr><th>race_year</th><th>team</th><th>wins</th><th>total_points</th><th>rank</th></tr></thead><tbody><tr><td>2020</td><td>Mercedes</td><td>13</td><td>573.0</td><td>1</td></tr><tr><td>2020</td><td>Red Bull</td><td>2</td><td>319.0</td><td>2</td></tr><tr><td>2020</td><td>Racing Point</td><td>1</td><td>210.0</td><td>3</td></tr><tr><td>2020</td><td>McLaren</td><td>0</td><td>202.0</td><td>4</td></tr><tr><td>2020</td><td>Renault</td><td>0</td><td>181.0</td><td>5</td></tr><tr><td>2020</td><td>Ferrari</td><td>0</td><td>131.0</td><td>6</td></tr><tr><td>2020</td><td>AlphaTauri</td><td>1</td><td>107.0</td><td>7</td></tr><tr><td>2020</td><td>Alfa Romeo</td><td>0</td><td>8.0</td><td>8</td></tr><tr><td>2020</td><td>Haas F1 Team</td><td>0</td><td>3.0</td><td>9</td></tr><tr><td>2020</td><td>Williams</td><td>0</td><td>0.0</td><td>10</td></tr></tbody></table></div>"
      ]
     },
     "metadata": {
      "application/vnd.databricks.v1+output": {
       "addedWidgets": {},
       "aggData": [],
       "aggError": "",
       "aggOverflow": false,
       "aggSchema": [],
       "aggSeriesLimitReached": false,
       "aggType": "",
       "arguments": {},
       "columnCustomDisplayInfos": {},
       "data": [
        [
         2020,
         "Mercedes",
         13,
         573.0,
         1
        ],
        [
         2020,
         "Red Bull",
         2,
         319.0,
         2
        ],
        [
         2020,
         "Racing Point",
         1,
         210.0,
         3
        ],
        [
         2020,
         "McLaren",
         0,
         202.0,
         4
        ],
        [
         2020,
         "Renault",
         0,
         181.0,
         5
        ],
        [
         2020,
         "Ferrari",
         0,
         131.0,
         6
        ],
        [
         2020,
         "AlphaTauri",
         1,
         107.0,
         7
        ],
        [
         2020,
         "Alfa Romeo",
         0,
         8.0,
         8
        ],
        [
         2020,
         "Haas F1 Team",
         0,
         3.0,
         9
        ],
        [
         2020,
         "Williams",
         0,
         0.0,
         10
        ]
       ],
       "datasetInfos": [],
       "dbfsResultPath": null,
       "isJsonSchema": true,
       "metadata": {},
       "overflow": false,
       "plotOptions": {
        "customPlotOptions": {},
        "displayType": "table",
        "pivotAggregation": null,
        "pivotColumns": null,
        "xColumns": null,
        "yColumns": null
       },
       "removedWidgets": [],
       "schema": [
        {
         "metadata": "{}",
         "name": "race_year",
         "type": "\"integer\""
        },
        {
         "metadata": "{}",
         "name": "team",
         "type": "\"string\""
        },
        {
         "metadata": "{}",
         "name": "wins",
         "type": "\"long\""
        },
        {
         "metadata": "{}",
         "name": "total_points",
         "type": "\"double\""
        },
        {
         "metadata": "{}",
         "name": "rank",
         "type": "\"integer\""
        }
       ],
       "type": "table"
      }
     },
     "output_type": "display_data"
    }
   ],
   "source": [
    "display(final_df.filter(\"race_year = 2020\"))"
   ]
  },
  {
   "cell_type": "code",
   "execution_count": 0,
   "metadata": {
    "application/vnd.databricks.v1+cell": {
     "cellMetadata": {
      "byteLimit": 2048000,
      "rowLimit": 10000
     },
     "inputWidgets": {},
     "nuid": "6bfb1598-914a-4871-88d2-29abfefb226f",
     "showTitle": false,
     "title": ""
    }
   },
   "outputs": [],
   "source": [
    "final_df.write.mode(\"overwrite\").parquet(f\"{presentation_folder_path}/constructor_standings\")"
   ]
  }
 ],
 "metadata": {
  "application/vnd.databricks.v1+notebook": {
   "dashboards": [],
   "language": "python",
   "notebookMetadata": {
    "pythonIndentUnit": 4
   },
   "notebookName": "3.constructor_standings",
   "widgets": {}
  }
 },
 "nbformat": 4,
 "nbformat_minor": 0
}
